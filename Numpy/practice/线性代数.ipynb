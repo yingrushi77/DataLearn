{
 "cells": [
  {
   "cell_type": "code",
   "execution_count": 1,
   "metadata": {},
   "outputs": [
    {
     "name": "stdout",
     "output_type": "stream",
     "text": [
      "[1 2 3 4 5]\n",
      "[2 3 4 5 6]\n",
      "70\n",
      "================\n",
      "[[1 2 3]\n",
      " [3 4 5]\n",
      " [6 7 8]]\n",
      "[[2 3 4]\n",
      " [4 5 6]\n",
      " [7 8 9]]\n",
      "[[ 31  37  43]\n",
      " [ 57  69  81]\n",
      " [ 96 117 138]]\n"
     ]
    }
   ],
   "source": [
    "import numpy as np\n",
    "\n",
    "#一维\n",
    "x = np.array([1,2,3,4,5])\n",
    "y = np.array([2,3,4,5,6])\n",
    "z = np.dot(x,y)\n",
    "print(x)\n",
    "print(y)\n",
    "print(z)\n",
    "\n",
    "#多维\n",
    "print(\"================\")\n",
    "\n",
    "x = np.array([[1,2,3],[3,4,5],[6,7,8]])\n",
    "y = np.array([[2,3,4],[4,5,6],[7,8,9]])\n",
    "z = np.dot(x,y)\n",
    "print(x)\n",
    "print(y)\n",
    "print(z)"
   ]
  },
  {
   "cell_type": "code",
   "execution_count": 2,
   "metadata": {},
   "outputs": [
    {
     "name": "stdout",
     "output_type": "stream",
     "text": [
      "[[1 0 0]\n",
      " [0 2 0]\n",
      " [0 0 3]]\n",
      "[1. 2. 3.]\n",
      "[1. 2. 3.]\n",
      "[[1. 0. 0.]\n",
      " [0. 1. 0.]\n",
      " [0. 0. 1.]]\n",
      "正确\n",
      "正确\n",
      "正确\n"
     ]
    }
   ],
   "source": [
    "import numpy as np\n",
    "\n",
    "#创建一个对角矩阵\n",
    "x = np.diag((1,2,3))\n",
    "print(x)\n",
    "\n",
    "#特征值\n",
    "y = np.linalg.eigvals(x)\n",
    "print(y)\n",
    "#a :特征值   b: 特征向量\n",
    "a,b = np.linalg.eig(x)\n",
    "print(a)\n",
    "print(b)\n",
    "\n",
    "#检验特征值与特征向量是否正确\n",
    "for i in range(3):\n",
    "    if np.allclose(a[i] * b[:,i],np.dot(x,b[:,i])):\n",
    "        print('正确')\n",
    "    else:\n",
    "        print('错误')\n",
    "        \n",
    "        "
   ]
  },
  {
   "cell_type": "code",
   "execution_count": 3,
   "metadata": {},
   "outputs": [
    {
     "name": "stdout",
     "output_type": "stream",
     "text": [
      "[[ 0  1  2  3]\n",
      " [ 4  5  6  7]\n",
      " [ 8  9 10 11]\n",
      " [12 13 14 15]]\n",
      "[[ 0  5 10 15]\n",
      " [ 5 10 15 20]\n",
      " [10 15 20 25]\n",
      " [15 20 25 30]]\n",
      "[ 6.74165739e+01 -7.41657387e+00  1.82694656e-15 -1.72637110e-15]\n",
      "no\n"
     ]
    }
   ],
   "source": [
    "import numpy as np\n",
    "\n",
    "A = np.arange(16).reshape(4,4)\n",
    "print(A)\n",
    "\n",
    "# B为对称矩阵\n",
    "B = A + A.T \n",
    "print(B)\n",
    "\n",
    "C = np.linalg.eigvals(B) #求特征值\n",
    "print(C)\n",
    "\n",
    "# 判断是不是所有的特征值都大于0，用到了all函数，显然对称阵A不是正定的\n",
    "if np.all(C > 0):\n",
    "    print('yes')\n",
    "else:\n",
    "    print('no')"
   ]
  },
  {
   "cell_type": "code",
   "execution_count": 4,
   "metadata": {},
   "outputs": [
    {
     "name": "stdout",
     "output_type": "stream",
     "text": [
      "[[ 4 11 14]\n",
      " [ 8  7 -2]]\n",
      "(2, 2)\n",
      "[[-0.9486833  -0.31622777]\n",
      " [-0.31622777  0.9486833 ]]\n",
      "(2,)\n",
      "[[18.97366596  0.        ]\n",
      " [ 0.          9.48683298]]\n",
      "(2, 3)\n",
      "[[-0.33333333 -0.66666667 -0.66666667]\n",
      " [ 0.66666667  0.33333333 -0.66666667]]\n",
      "[[ 4. 11. 14.]\n",
      " [ 8.  7. -2.]]\n"
     ]
    }
   ],
   "source": [
    "import numpy as np\n",
    "\n",
    "A = np.array([[4, 11, 14], [8, 7, -2]])\n",
    "print(A)\n",
    "# [[ 4 11 14]\n",
    "#  [ 8  7 -2]]\n",
    "\n",
    "u, s, vh = np.linalg.svd(A, full_matrices=False)\n",
    "print(u.shape)  # (2, 2)\n",
    "print(u)\n",
    "# [[-0.9486833  -0.31622777]\n",
    "#  [-0.31622777  0.9486833 ]]\n",
    "\n",
    "print(s.shape)  # (2,)\n",
    "print(np.diag(s))\n",
    "# [[18.97366596  0.        ]\n",
    "#  [ 0.          9.48683298]]\n",
    "\n",
    "print(vh.shape)  # (2, 3)\n",
    "print(vh)\n",
    "# [[-0.33333333 -0.66666667 -0.66666667]\n",
    "#  [ 0.66666667  0.33333333 -0.66666667]]\n",
    "\n",
    "a = np.dot(u, np.diag(s))\n",
    "a = np.dot(a, vh)\n",
    "print(a)\n",
    "# [[ 4. 11. 14.]\n",
    "#  [ 8.  7. -2.]]"
   ]
  },
  {
   "cell_type": "code",
   "execution_count": 5,
   "metadata": {},
   "outputs": [
    {
     "name": "stdout",
     "output_type": "stream",
     "text": [
      "[[ 1  1]\n",
      " [ 1 -2]\n",
      " [ 2  1]]\n",
      "(3, 2)\n",
      "[[-5.34522484e-01 -1.11022302e-16]\n",
      " [ 2.67261242e-01 -9.48683298e-01]\n",
      " [-8.01783726e-01 -3.16227766e-01]]\n",
      "(2,)\n",
      "[[2.64575131 0.        ]\n",
      " [0.         2.23606798]]\n",
      "(2, 2)\n",
      "[[-0.70710678 -0.70710678]\n",
      " [-0.70710678  0.70710678]]\n",
      "[[ 1.  1.]\n",
      " [ 1. -2.]\n",
      " [ 2.  1.]]\n"
     ]
    }
   ],
   "source": [
    "import numpy as np\n",
    "\n",
    "A = np.array([[1, 1], [1, -2], [2, 1]])\n",
    "print(A)\n",
    "# [[ 1  1]\n",
    "#  [ 1 -2]\n",
    "#  [ 2  1]]\n",
    "\n",
    "u, s, vh = np.linalg.svd(A, full_matrices=False)\n",
    "print(u.shape)  # (3, 2)\n",
    "print(u)\n",
    "# [[-5.34522484e-01 -1.11022302e-16]\n",
    "#  [ 2.67261242e-01 -9.48683298e-01]\n",
    "#  [-8.01783726e-01 -3.16227766e-01]]\n",
    "\n",
    "print(s.shape)  # (2,)\n",
    "print(np.diag(s))\n",
    "# [[2.64575131 0.        ]\n",
    "#  [0.         2.23606798]]\n",
    "\n",
    "print(vh.shape)  # (2, 2)\n",
    "print(vh)\n",
    "# [[-0.70710678 -0.70710678]\n",
    "#  [-0.70710678  0.70710678]]\n",
    "\n",
    "a = np.dot(u, np.diag(s))\n",
    "a = np.dot(a, vh)\n",
    "print(a)\n",
    "# [[ 1.  1.]\n",
    "#  [ 1. -2.]\n",
    "#  [ 2.  1.]]"
   ]
  },
  {
   "cell_type": "code",
   "execution_count": 6,
   "metadata": {},
   "outputs": [
    {
     "name": "stdout",
     "output_type": "stream",
     "text": [
      "[[ 2 -2  3]\n",
      " [ 1  1  1]\n",
      " [ 1  3 -1]]\n",
      "(3, 3)\n",
      "[[-0.81649658  0.53452248  0.21821789]\n",
      " [-0.40824829 -0.26726124 -0.87287156]\n",
      " [-0.40824829 -0.80178373  0.43643578]]\n",
      "(3, 3)\n",
      "[[-2.44948974  0.         -2.44948974]\n",
      " [ 0.         -3.74165739  2.13808994]\n",
      " [ 0.          0.         -0.65465367]]\n",
      "[[ 2. -2.  3.]\n",
      " [ 1.  1.  1.]\n",
      " [ 1.  3. -1.]]\n",
      "True\n"
     ]
    }
   ],
   "source": [
    "import numpy as np\n",
    "\n",
    "A = np.array([[2, -2, 3], [1, 1, 1], [1, 3, -1]])\n",
    "print(A)\n",
    "# [[ 2 -2  3]\n",
    "#  [ 1  1  1]\n",
    "#  [ 1  3 -1]]\n",
    "\n",
    "q, r = np.linalg.qr(A)\n",
    "print(q.shape)  # (3, 3)\n",
    "print(q)\n",
    "# [[-0.81649658  0.53452248  0.21821789]\n",
    "#  [-0.40824829 -0.26726124 -0.87287156]\n",
    "#  [-0.40824829 -0.80178373  0.43643578]]\n",
    "\n",
    "print(r.shape)  # (3, 3)\n",
    "print(r)\n",
    "# [[-2.44948974  0.         -2.44948974]\n",
    "#  [ 0.         -3.74165739  2.13808994]\n",
    "#  [ 0.          0.         -0.65465367]]\n",
    "\n",
    "print(np.dot(q, r))\n",
    "# [[ 2. -2.  3.]\n",
    "#  [ 1.  1.  1.]\n",
    "#  [ 1.  3. -1.]]\n",
    "\n",
    "a = np.allclose(np.dot(q.T, q), np.eye(3))\n",
    "print(a)  # True"
   ]
  },
  {
   "cell_type": "code",
   "execution_count": 7,
   "metadata": {},
   "outputs": [
    {
     "name": "stdout",
     "output_type": "stream",
     "text": [
      "[[ 1  1]\n",
      " [ 1 -2]\n",
      " [ 2  1]]\n",
      "(3, 3)\n",
      "[[-0.40824829  0.34503278 -0.84515425]\n",
      " [-0.40824829 -0.89708523 -0.16903085]\n",
      " [-0.81649658  0.27602622  0.50709255]]\n",
      "(3, 2)\n",
      "[[-2.44948974 -0.40824829]\n",
      " [ 0.          2.41522946]\n",
      " [ 0.          0.        ]]\n",
      "[[ 1.  1.]\n",
      " [ 1. -2.]\n",
      " [ 2.  1.]]\n",
      "True\n"
     ]
    }
   ],
   "source": [
    "import numpy as np\n",
    "\n",
    "A = np.array([[1, 1], [1, -2], [2, 1]])\n",
    "print(A)\n",
    "# [[ 1  1]\n",
    "#  [ 1 -2]\n",
    "#  [ 2  1]]\n",
    "\n",
    "q, r = np.linalg.qr(A, mode='complete')\n",
    "print(q.shape)  # (3, 3)\n",
    "print(q)\n",
    "# [[-0.40824829  0.34503278 -0.84515425]\n",
    "#  [-0.40824829 -0.89708523 -0.16903085]\n",
    "#  [-0.81649658  0.27602622  0.50709255]]\n",
    "\n",
    "print(r.shape)  # (3, 2)\n",
    "print(r)\n",
    "# [[-2.44948974 -0.40824829]\n",
    "#  [ 0.          2.41522946]\n",
    "#  [ 0.          0.        ]]\n",
    "\n",
    "print(np.dot(q, r))\n",
    "# [[ 1.  1.]\n",
    "#  [ 1. -2.]\n",
    "#  [ 2.  1.]]\n",
    "\n",
    "a = np.allclose(np.dot(q, q.T), np.eye(3))\n",
    "print(a)  # True"
   ]
  },
  {
   "cell_type": "code",
   "execution_count": 8,
   "metadata": {},
   "outputs": [
    {
     "name": "stdout",
     "output_type": "stream",
     "text": [
      "[[ 1  1]\n",
      " [ 1 -2]\n",
      " [ 2  1]]\n",
      "(3, 2)\n",
      "[[-0.40824829  0.34503278]\n",
      " [-0.40824829 -0.89708523]\n",
      " [-0.81649658  0.27602622]]\n",
      "(2, 2)\n",
      "[[-2.44948974 -0.40824829]\n",
      " [ 0.          2.41522946]]\n",
      "[[ 1.  1.]\n",
      " [ 1. -2.]\n",
      " [ 2.  1.]]\n",
      "True\n"
     ]
    }
   ],
   "source": [
    "import numpy as np\n",
    "\n",
    "A = np.array([[1, 1], [1, -2], [2, 1]])\n",
    "print(A)\n",
    "# [[ 1  1]\n",
    "#  [ 1 -2]\n",
    "#  [ 2  1]]\n",
    "\n",
    "q, r = np.linalg.qr(A)\n",
    "print(q.shape)  # (3, 2)\n",
    "print(q)\n",
    "# [[-0.40824829  0.34503278]\n",
    "#  [-0.40824829 -0.89708523]\n",
    "#  [-0.81649658  0.27602622]]\n",
    "\n",
    "print(r.shape)  # (2, 2)\n",
    "print(r)\n",
    "# [[-2.44948974 -0.40824829]\n",
    "#  [ 0.          2.41522946]]\n",
    "\n",
    "print(np.dot(q, r))\n",
    "# [[ 1.  1.]\n",
    "#  [ 1. -2.]\n",
    "#  [ 2.  1.]]\n",
    "\n",
    "a = np.allclose(np.dot(q.T, q), np.eye(2))\n",
    "print(a)  # True   （说明q为正交矩阵）"
   ]
  },
  {
   "cell_type": "code",
   "execution_count": 9,
   "metadata": {},
   "outputs": [
    {
     "name": "stdout",
     "output_type": "stream",
     "text": [
      "[[1 1 1 1]\n",
      " [1 3 3 3]\n",
      " [1 3 5 5]\n",
      " [1 3 5 7]]\n",
      "[13.13707118  1.6199144   0.51978306  0.72323135]\n",
      "[[1.         0.         0.         0.        ]\n",
      " [1.         1.41421356 0.         0.        ]\n",
      " [1.         1.41421356 1.41421356 0.        ]\n",
      " [1.         1.41421356 1.41421356 1.41421356]]\n",
      "[[1. 1. 1. 1.]\n",
      " [1. 3. 3. 3.]\n",
      " [1. 3. 5. 5.]\n",
      " [1. 3. 5. 7.]]\n"
     ]
    }
   ],
   "source": [
    "import numpy as np\n",
    "\n",
    "A = np.array([[1, 1, 1, 1], [1, 3, 3, 3],\n",
    "              [1, 3, 5, 5], [1, 3, 5, 7]])\n",
    "print(A)\n",
    "# [[1 1 1 1]\n",
    "#  [1 3 3 3]\n",
    "#  [1 3 5 5]\n",
    "#  [1 3 5 7]]\n",
    "\n",
    "print(np.linalg.eigvals(A))\n",
    "# [13.13707118  1.6199144   0.51978306  0.72323135]\n",
    "\n",
    "L = np.linalg.cholesky(A)\n",
    "print(L)\n",
    "# [[1.         0.         0.         0.        ]\n",
    "#  [1.         1.41421356 0.         0.        ]\n",
    "#  [1.         1.41421356 1.41421356 0.        ]\n",
    "#  [1.         1.41421356 1.41421356 1.41421356]]\n",
    "\n",
    "print(np.dot(L, L.T))\n",
    "# [[1. 1. 1. 1.]\n",
    "#  [1. 3. 3. 3.]\n",
    "#  [1. 3. 5. 5.]\n",
    "#  [1. 3. 5. 7.]]"
   ]
  },
  {
   "cell_type": "code",
   "execution_count": 10,
   "metadata": {},
   "outputs": [
    {
     "name": "stdout",
     "output_type": "stream",
     "text": [
      "10.0\n",
      "10\n",
      "5.477225575051661\n",
      "5.477225575051661\n",
      "1.0\n",
      "1\n",
      "4.0\n",
      "4\n"
     ]
    }
   ],
   "source": [
    "import numpy as np\n",
    "\n",
    "x = np.array([1, 2, 3, 4])\n",
    "\n",
    "print(np.linalg.norm(x, ord=1)) \n",
    "# 10.0\n",
    "print(np.sum(np.abs(x)))  \n",
    "# 10\n",
    "\n",
    "print(np.linalg.norm(x, ord=2))  \n",
    "# 5.477225575051661\n",
    "print(np.sum(np.abs(x) ** 2) ** 0.5)  \n",
    "# 5.477225575051661\n",
    "\n",
    "print(np.linalg.norm(x, ord=-np.inf))  \n",
    "# 1.0\n",
    "print(np.min(np.abs(x)))  \n",
    "# 1\n",
    "\n",
    "print(np.linalg.norm(x, ord=np.inf))  \n",
    "# 4.0\n",
    "print(np.max(np.abs(x)))  \n",
    "# 4"
   ]
  },
  {
   "cell_type": "code",
   "execution_count": 11,
   "metadata": {},
   "outputs": [
    {
     "name": "stdout",
     "output_type": "stream",
     "text": [
      "[[ 1  2  3  4]\n",
      " [ 2  3  5  8]\n",
      " [ 1  3  5  7]\n",
      " [ 3  4  7 11]]\n",
      "30.0\n",
      "30\n",
      "20.24345358700576\n",
      "20.24345358700576\n",
      "25.0\n",
      "25\n",
      "20.273134932713294\n",
      "20.273134932713294\n"
     ]
    }
   ],
   "source": [
    "import numpy as np\n",
    "\n",
    "A = np.array([[1, 2, 3, 4], [2, 3, 5, 8],\n",
    "              [1, 3, 5, 7], [3, 4, 7, 11]])\n",
    "\n",
    "print(A)\n",
    "# [[ 1  2  3  4]\n",
    "#  [ 2  3  5  8]\n",
    "#  [ 1  3  5  7]\n",
    "#  [ 3  4  7 11]]\n",
    "\n",
    "print(np.linalg.norm(A, ord=1))  # 30.0\n",
    "print(np.max(np.sum(A, axis=0)))  # 30\n",
    "\n",
    "print(np.linalg.norm(A, ord=2))  \n",
    "# 20.24345358700576\n",
    "print(np.max(np.linalg.svd(A, compute_uv=False)))  \n",
    "# 20.24345358700576\n",
    "\n",
    "print(np.linalg.norm(A, ord=np.inf))  # 25.0\n",
    "print(np.max(np.sum(A, axis=1)))  # 25\n",
    "\n",
    "print(np.linalg.norm(A, ord='fro'))  \n",
    "# 20.273134932713294\n",
    "print(np.sqrt(np.trace(np.dot(A.T, A))))  \n",
    "# 20.273134932713294"
   ]
  },
  {
   "cell_type": "code",
   "execution_count": 13,
   "metadata": {},
   "outputs": [
    {
     "name": "stdout",
     "output_type": "stream",
     "text": [
      "[[1 2]\n",
      " [3 4]]\n",
      "-2.0000000000000004\n"
     ]
    }
   ],
   "source": [
    "import numpy as np\n",
    "\n",
    "x = np.array([[1, 2], [3, 4]])\n",
    "print(x)\n",
    "# [[1 2]\n",
    "#  [3 4]]\n",
    "\n",
    "print(np.linalg.det(x))\n",
    "# -2.0000000000000004\n"
   ]
  },
  {
   "cell_type": "code",
   "execution_count": 14,
   "metadata": {},
   "outputs": [
    {
     "name": "stdout",
     "output_type": "stream",
     "text": [
      "[[1. 0. 0.]\n",
      " [0. 1. 0.]\n",
      " [0. 0. 1.]]\n",
      "3\n",
      "[[1. 0. 0.]\n",
      " [0. 0. 0.]\n",
      " [0. 0. 1.]]\n",
      "2\n"
     ]
    }
   ],
   "source": [
    "import numpy as np\n",
    "\n",
    "I = np.eye(3)  # 先创建一个单位阵\n",
    "print(I)\n",
    "# [[1. 0. 0.]\n",
    "#  [0. 1. 0.]\n",
    "#  [0. 0. 1.]]\n",
    "\n",
    "r = np.linalg.matrix_rank(I)\n",
    "print(r)  # 3\n",
    "\n",
    "I[1, 1] = 0  # 将该元素置为0\n",
    "print(I)\n",
    "# [[1. 0. 0.]\n",
    "#  [0. 0. 0.]\n",
    "#  [0. 0. 1.]]\n",
    "\n",
    "r = np.linalg.matrix_rank(I)  # 此时秩变成2\n",
    "print(r)  # 2"
   ]
  },
  {
   "cell_type": "code",
   "execution_count": 15,
   "metadata": {},
   "outputs": [
    {
     "name": "stdout",
     "output_type": "stream",
     "text": [
      "[[1 2 3]\n",
      " [3 4 5]\n",
      " [6 7 8]]\n",
      "[[5 4 2]\n",
      " [1 7 9]\n",
      " [0 4 5]]\n",
      "13\n",
      "13\n",
      "30\n",
      "30\n"
     ]
    }
   ],
   "source": [
    "import numpy as np\n",
    "\n",
    "x = np.array([[1, 2, 3], [3, 4, 5], [6, 7, 8]])\n",
    "print(x)\n",
    "# [[1 2 3]\n",
    "#  [3 4 5]\n",
    "#  [6 7 8]]\n",
    "\n",
    "y = np.array([[5, 4, 2], [1, 7, 9], [0, 4, 5]])\n",
    "print(y)\n",
    "# [[5 4 2]\n",
    "#  [1 7 9]\n",
    "#  [0 4 5]]\n",
    "\n",
    "print(np.trace(x))  # A的迹等于A.T的迹\n",
    "# 13\n",
    "print(np.trace(np.transpose(x)))\n",
    "# 13\n",
    "\n",
    "print(np.trace(x + y))  # 和的迹 等于 迹的和\n",
    "# 30\n",
    "print(np.trace(x) + np.trace(y))\n",
    "# 30"
   ]
  },
  {
   "cell_type": "code",
   "execution_count": 16,
   "metadata": {},
   "outputs": [
    {
     "name": "stdout",
     "output_type": "stream",
     "text": [
      "[[ 1 -2  1]\n",
      " [ 0  2 -1]\n",
      " [ 1  1 -2]]\n",
      "-2.9999999999999996\n",
      "[[ 1.00000000e+00  1.00000000e+00 -1.11022302e-16]\n",
      " [ 3.33333333e-01  1.00000000e+00 -3.33333333e-01]\n",
      " [ 6.66666667e-01  1.00000000e+00 -6.66666667e-01]]\n",
      "True\n",
      "True\n",
      "[[-3.00000000e+00 -3.00000000e+00  3.33066907e-16]\n",
      " [-1.00000000e+00 -3.00000000e+00  1.00000000e+00]\n",
      " [-2.00000000e+00 -3.00000000e+00  2.00000000e+00]]\n"
     ]
    }
   ],
   "source": [
    "import numpy as np\n",
    "\n",
    "A = np.array([[1, -2, 1], [0, 2, -1], [1, 1, -2]])\n",
    "print(A)\n",
    "# [[ 1 -2  1]\n",
    "#  [ 0  2 -1]\n",
    "#  [ 1  1 -2]]\n",
    "\n",
    "# 求A的行列式，不为零则存在逆矩阵\n",
    "A_det = np.linalg.det(A)  \n",
    "print(A_det)\n",
    "# -2.9999999999999996\n",
    "\n",
    "A_inverse = np.linalg.inv(A)  # 求A的逆矩阵\n",
    "print(A_inverse)\n",
    "# [[ 1.00000000e+00  1.00000000e+00 -1.11022302e-16]\n",
    "#  [ 3.33333333e-01  1.00000000e+00 -3.33333333e-01]\n",
    "#  [ 6.66666667e-01  1.00000000e+00 -6.66666667e-01]]\n",
    "\n",
    "x = np.allclose(np.dot(A, A_inverse), np.eye(3))\n",
    "print(x)  # True\n",
    "x = np.allclose(np.dot(A_inverse, A), np.eye(3))\n",
    "print(x)  # True\n",
    "\n",
    "A_companion = A_inverse * A_det  # 求A的伴随矩阵\n",
    "print(A_companion)\n",
    "# [[-3.00000000e+00 -3.00000000e+00  3.33066907e-16]\n",
    "#  [-1.00000000e+00 -3.00000000e+00  1.00000000e+00]\n",
    "#  [-2.00000000e+00 -3.00000000e+00  2.00000000e+00]]"
   ]
  },
  {
   "cell_type": "code",
   "execution_count": 17,
   "metadata": {},
   "outputs": [
    {
     "name": "stdout",
     "output_type": "stream",
     "text": [
      "[ 7.  1. -2.]\n",
      "[ 7.  1. -2.]\n",
      "True\n"
     ]
    }
   ],
   "source": [
    "#  x + 2y +  z = 7\n",
    "# 2x -  y + 3z = 7\n",
    "# 3x +  y + 2z =18\n",
    "\n",
    "import numpy as np\n",
    "\n",
    "A = np.array([[1, 2, 1], [2, -1, 3], [3, 1, 2]])\n",
    "b = np.array([7, 7, 18])\n",
    "x = np.linalg.solve(A, b)\n",
    "print(x)  # [ 7.  1. -2.]\n",
    "\n",
    "x = np.linalg.inv(A).dot(b)\n",
    "print(x)  # [ 7.  1. -2.]\n",
    "\n",
    "y = np.allclose(np.dot(A, x), b)\n",
    "print(y)  # True"
   ]
  },
  {
   "cell_type": "code",
   "execution_count": 18,
   "metadata": {},
   "outputs": [
    {
     "name": "stdout",
     "output_type": "stream",
     "text": [
      "6.708203932499369\n",
      "6.708203932499369\n"
     ]
    }
   ],
   "source": [
    "# 练习题\n",
    "# 1.\n",
    "import numpy as np\n",
    "\n",
    "a = np.array([1, 2, 3, 4, 5])\n",
    "b = np.array([4, 5, 6, 7, 8])\n",
    "\n",
    "# 方法1\n",
    "d = np.sqrt(np.sum((a - b) ** 2))\n",
    "print(d)  # 6.708203932499369\n",
    "\n",
    "# 方法2\n",
    "d = np.linalg.norm(a - b)\n",
    "print(d)  # 6.708203932499369"
   ]
  },
  {
   "cell_type": "code",
   "execution_count": 19,
   "metadata": {},
   "outputs": [
    {
     "name": "stdout",
     "output_type": "stream",
     "text": [
      "[[5 0 0 0 0]\n",
      " [0 5 0 0 0]\n",
      " [0 0 5 0 0]\n",
      " [0 0 0 5 0]\n",
      " [0 0 0 0 5]]\n",
      "3124.999999999999\n",
      "[[ 0.2  0.   0.   0.   0. ]\n",
      " [ 0.   0.2  0.   0.   0. ]\n",
      " [ 0.   0.   0.2  0.   0. ]\n",
      " [-0.  -0.  -0.   0.2 -0. ]\n",
      " [ 0.   0.   0.   0.   0.2]]\n"
     ]
    }
   ],
   "source": [
    "# 2.\n",
    "import numpy as np\n",
    "\n",
    "result = np.diag([5,5,5,5,5])\n",
    "print(result)\n",
    "\n",
    "answer1 = np.linalg.det(result)\n",
    "print(answer1)\n",
    "answer2 = np.linalg.inv(result)\n",
    "print(answer2)"
   ]
  },
  {
   "cell_type": "code",
   "execution_count": 20,
   "metadata": {},
   "outputs": [
    {
     "name": "stdout",
     "output_type": "stream",
     "text": [
      "[155.  88.  21.]\n"
     ]
    }
   ],
   "source": [
    "# 3.\n",
    "import numpy as np\n",
    "\n",
    "A = np.array([[1,-2,1],[0,2,-8],[-4,5,9]])\n",
    "b = np.array([0,8,9])\n",
    "x = np.linalg.solve(A,b)\n",
    "print(x)"
   ]
  },
  {
   "cell_type": "code",
   "execution_count": 21,
   "metadata": {},
   "outputs": [
    {
     "name": "stdout",
     "output_type": "stream",
     "text": [
      "[3. 6. 1.]\n",
      "[[-8.16496581e-01 -5.77350269e-01  3.89855447e-17]\n",
      " [-4.08248290e-01  5.77350269e-01  7.07106781e-01]\n",
      " [ 4.08248290e-01 -5.77350269e-01  7.07106781e-01]]\n"
     ]
    }
   ],
   "source": [
    "#4.\n",
    "import numpy as np\n",
    "\n",
    "A = np.array([[4,-1,1],[-1,3,-2],[1,-2,3]])\n",
    "a,b = np.linalg.eig(A)\n",
    "print(a)\n",
    "print(b)"
   ]
  },
  {
   "cell_type": "code",
   "execution_count": null,
   "metadata": {},
   "outputs": [],
   "source": []
  }
 ],
 "metadata": {
  "kernelspec": {
   "display_name": "Python 3",
   "language": "python",
   "name": "python3"
  },
  "language_info": {
   "codemirror_mode": {
    "name": "ipython",
    "version": 3
   },
   "file_extension": ".py",
   "mimetype": "text/x-python",
   "name": "python",
   "nbconvert_exporter": "python",
   "pygments_lexer": "ipython3",
   "version": "3.7.6"
  },
  "varInspector": {
   "cols": {
    "lenName": 16,
    "lenType": 16,
    "lenVar": 40
   },
   "kernels_config": {
    "python": {
     "delete_cmd_postfix": "",
     "delete_cmd_prefix": "del ",
     "library": "var_list.py",
     "varRefreshCmd": "print(var_dic_list())"
    },
    "r": {
     "delete_cmd_postfix": ") ",
     "delete_cmd_prefix": "rm(",
     "library": "var_list.r",
     "varRefreshCmd": "cat(var_dic_list()) "
    }
   },
   "types_to_exclude": [
    "module",
    "function",
    "builtin_function_or_method",
    "instance",
    "_Feature"
   ],
   "window_display": false
  }
 },
 "nbformat": 4,
 "nbformat_minor": 4
}
