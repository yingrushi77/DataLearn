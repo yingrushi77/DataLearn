{
 "cells": [
  {
   "cell_type": "code",
   "execution_count": 1,
   "metadata": {},
   "outputs": [],
   "source": [
    "import numpy as np"
   ]
  },
  {
   "cell_type": "code",
   "execution_count": 3,
   "metadata": {},
   "outputs": [
    {
     "name": "stdout",
     "output_type": "stream",
     "text": [
      "Help on function save in module numpy:\n",
      "\n",
      "save(file, arr, allow_pickle=True, fix_imports=True)\n",
      "    Save an array to a binary file in NumPy ``.npy`` format.\n",
      "    \n",
      "    Parameters\n",
      "    ----------\n",
      "    file : file, str, or pathlib.Path\n",
      "        File or filename to which the data is saved.  If file is a file-object,\n",
      "        then the filename is unchanged.  If file is a string or Path, a ``.npy``\n",
      "        extension will be appended to the filename if it does not already\n",
      "        have one.\n",
      "    arr : array_like\n",
      "        Array data to be saved.\n",
      "    allow_pickle : bool, optional\n",
      "        Allow saving object arrays using Python pickles. Reasons for disallowing\n",
      "        pickles include security (loading pickled data can execute arbitrary\n",
      "        code) and portability (pickled objects may not be loadable on different\n",
      "        Python installations, for example if the stored objects require libraries\n",
      "        that are not available, and not all pickled data is compatible between\n",
      "        Python 2 and Python 3).\n",
      "        Default: True\n",
      "    fix_imports : bool, optional\n",
      "        Only useful in forcing objects in object arrays on Python 3 to be\n",
      "        pickled in a Python 2 compatible way. If `fix_imports` is True, pickle\n",
      "        will try to map the new Python 3 names to the old module names used in\n",
      "        Python 2, so that the pickle data stream is readable with Python 2.\n",
      "    \n",
      "    See Also\n",
      "    --------\n",
      "    savez : Save several arrays into a ``.npz`` archive\n",
      "    savetxt, load\n",
      "    \n",
      "    Notes\n",
      "    -----\n",
      "    For a description of the ``.npy`` format, see :py:mod:`numpy.lib.format`.\n",
      "    \n",
      "    Any data saved to the file is appended to the end of the file.\n",
      "    \n",
      "    Examples\n",
      "    --------\n",
      "    >>> from tempfile import TemporaryFile\n",
      "    >>> outfile = TemporaryFile()\n",
      "    \n",
      "    >>> x = np.arange(10)\n",
      "    >>> np.save(outfile, x)\n",
      "    \n",
      "    >>> _ = outfile.seek(0) # Only needed here to simulate closing & reopening file\n",
      "    >>> np.load(outfile)\n",
      "    array([0, 1, 2, 3, 4, 5, 6, 7, 8, 9])\n",
      "    \n",
      "    \n",
      "    >>> with open('test.npy', 'wb') as f:\n",
      "    ...     np.save(f, np.array([1, 2]))\n",
      "    ...     np.save(f, np.array([1, 3]))\n",
      "    >>> with open('test.npy', 'rb') as f:\n",
      "    ...     a = np.load(f)\n",
      "    ...     b = np.load(f)\n",
      "    >>> print(a, b)\n",
      "    # [1 2] [1 3]\n",
      "\n"
     ]
    }
   ],
   "source": [
    "help(np.save)"
   ]
  },
  {
   "cell_type": "code",
   "execution_count": 4,
   "metadata": {},
   "outputs": [
    {
     "name": "stdout",
     "output_type": "stream",
     "text": [
      "[[1.03911501 1.91357784 1.21820335 1.61869406]\n",
      " [1.25371066 1.75731372 1.16270282 1.77498589]\n",
      " [1.41520052 1.15138986 1.34765902 1.22682386]]\n",
      "[[1.03911501 1.91357784 1.21820335 1.61869406]\n",
      " [1.25371066 1.75731372 1.16270282 1.77498589]\n",
      " [1.41520052 1.15138986 1.34765902 1.22682386]]\n"
     ]
    }
   ],
   "source": [
    "import numpy as np\n",
    "\n",
    "testfile1 = r'testfile1.npy'\n",
    "np.random.seed(20201123)\n",
    "x = np.random.uniform(1,2,[3,4])\n",
    "print(x)\n",
    "np.save(testfile1,x)\n",
    "y = np.load(testfile1)\n",
    "print(y)"
   ]
  },
  {
   "cell_type": "code",
   "execution_count": 11,
   "metadata": {},
   "outputs": [
    {
     "name": "stdout",
     "output_type": "stream",
     "text": [
      "[0.         0.78539816 1.57079633 2.35619449 3.14159265]\n",
      "[0.00000000e+00 7.07106781e-01 1.00000000e+00 7.07106781e-01\n",
      " 1.22464680e-16]\n",
      "[ 1.00000000e+00  7.07106781e-01  6.12323400e-17 -7.07106781e-01\n",
      " -1.00000000e+00]\n",
      "=====================================\n",
      "<numpy.lib.npyio.NpzFile object at 0x0000022EA4F473C8>\n",
      "['d_z', 'arr_0', 'arr_1']\n",
      "[0.         0.78539816 1.57079633 2.35619449 3.14159265] [0.00000000e+00 7.07106781e-01 1.00000000e+00 7.07106781e-01\n",
      " 1.22464680e-16] [ 1.00000000e+00  7.07106781e-01  6.12323400e-17 -7.07106781e-01\n",
      " -1.00000000e+00]\n"
     ]
    }
   ],
   "source": [
    "import numpy as np\n",
    "\n",
    "testfile2 = r'testfile2.npz'\n",
    "x = np.linspace(0,np.pi,5)\n",
    "print(x)\n",
    "y = np.sin(x)\n",
    "z = np.cos(x)\n",
    "print(y)\n",
    "print(z)\n",
    "np.savez(testfile2,x,y,d_z = z)\n",
    "testdata = np.load(testfile2)\n",
    "print(\"=====================================\")\n",
    "print(testdata)\n",
    "print(testdata.files)\n",
    "print(testdata['arr_0'],testdata['arr_1'],testdata['d_z'])"
   ]
  },
  {
   "cell_type": "code",
   "execution_count": 13,
   "metadata": {},
   "outputs": [
    {
     "name": "stdout",
     "output_type": "stream",
     "text": [
      "[[0 1 2 3 4]\n",
      " [5 6 7 8 9]]\n",
      "[[0. 1. 2. 3. 4.]\n",
      " [5. 6. 7. 8. 9.]]\n"
     ]
    }
   ],
   "source": [
    "import numpy as np\n",
    "\n",
    "testfile3 = r'testfile3'\n",
    "x = np.arange(0,10).reshape(2,-1)\n",
    "print(x)\n",
    "np.savetxt(testfile3,x)\n",
    "y = np.loadtxt(testfile3)\n",
    "print(y)"
   ]
  },
  {
   "cell_type": "code",
   "execution_count": 17,
   "metadata": {},
   "outputs": [
    {
     "name": "stdout",
     "output_type": "stream",
     "text": [
      "[[ 0  2]\n",
      " [ 4  6]\n",
      " [ 8 10]\n",
      " [12 14]\n",
      " [16 18]]\n",
      "[[ 0.  2.]\n",
      " [ 4.  6.]\n",
      " [ 8. 10.]\n",
      " [12. 14.]\n",
      " [16. 18.]]\n"
     ]
    }
   ],
   "source": [
    "import numpy as np\n",
    "\n",
    "testfile4 = r'testfile4.csv'\n",
    "x = np.arange(0,20,2).reshape(5,-1)\n",
    "print(x)\n",
    "np.savetxt(testfile4,x,fmt = '%.2f')\n",
    "y = np.loadtxt(testfile4)\n",
    "print(y)"
   ]
  },
  {
   "cell_type": "code",
   "execution_count": 21,
   "metadata": {},
   "outputs": [
    {
     "name": "stdout",
     "output_type": "stream",
     "text": [
      "[[  1.  123.    1.4  23. ]\n",
      " [  2.  110.    0.5  18. ]\n",
      " [  3.  164.    2.1  19. ]]\n",
      "[[123.    1.4]\n",
      " [110.    0.5]\n",
      " [164.    2.1]]\n",
      "[123. 110. 164.]\n",
      "[1.4 0.5 2.1]\n"
     ]
    }
   ],
   "source": [
    "import numpy as np\n",
    "\n",
    "testfile5 = r'testfile5.csv'\n",
    "x = np.loadtxt(testfile5,delimiter = ',',skiprows = 1)\n",
    "print(x)\n",
    "y = np.loadtxt(testfile5,delimiter = ',',skiprows = 1,usecols = (1,2))\n",
    "print(y)\n",
    "value1,value2 = np.loadtxt(testfile5,delimiter = ',',skiprows = 1,usecols = (1,2),unpack = True)\n",
    "print(value1)\n",
    "print(value2)"
   ]
  },
  {
   "cell_type": "code",
   "execution_count": 25,
   "metadata": {},
   "outputs": [
    {
     "name": "stdout",
     "output_type": "stream",
     "text": [
      "[(1., 123., 1.4, 23.) (2., 110., 0.5, 18.) (3., 164., 2.1, 19.)]\n",
      "<class 'numpy.ndarray'>\n",
      "[('id', '<f8'), ('value1', '<f8'), ('value2', '<f8'), ('value3', '<f8')]\n",
      "[1. 2. 3.] [123. 110. 164.] [1.4 0.5 2.1] [23. 18. 19.]\n"
     ]
    }
   ],
   "source": [
    "import numpy as np\n",
    "\n",
    "testfile5 = r'testfile5.csv'\n",
    "x = np.genfromtxt(testfile5,delimiter = ',',names = True)\n",
    "print(x)\n",
    "print(type(x))\n",
    "print(x.dtype)\n",
    "print(x['id'],x['value1'],x['value2'],x['value3'])"
   ]
  },
  {
   "cell_type": "code",
   "execution_count": 31,
   "metadata": {},
   "outputs": [
    {
     "name": "stdout",
     "output_type": "stream",
     "text": [
      "[(1.,  2.,  3., 4.) (1., nan,  2., 3.) (1.,  2., nan, 5.)]\n",
      "<class 'numpy.ndarray'>\n",
      "[('id', '<f8'), ('value1', '<f8'), ('value2', '<f8'), ('value3', '<f8')]\n",
      "[1. 1. 1.] [ 2. nan  2.] [ 3.  2. nan] [4. 3. 5.]\n"
     ]
    }
   ],
   "source": [
    "import numpy as np \n",
    "\n",
    "testfile6 = r'testfile6.csv'\n",
    "x = np.genfromtxt(testfile6,delimiter = ',',names = True)\n",
    "print(x)\n",
    "print(type(x))\n",
    "print(x.dtype)\n",
    "print(x['id'],x['value1'],x['value2'],x['value3'])"
   ]
  },
  {
   "cell_type": "code",
   "execution_count": 32,
   "metadata": {},
   "outputs": [
    {
     "name": "stdout",
     "output_type": "stream",
     "text": [
      "[1.1235]\n",
      "[ 0  1  2 ... 47 48 49]\n",
      "[ 0  1  2  3  4  5  6  7  8  9 10 11 12 13 14 15 16 17 18 19 20 21 22 23\n",
      " 24 25 26 27 28 29 30 31 32 33 34 35 36 37 38 39 40 41 42 43 44 45 46 47\n",
      " 48 49]\n",
      "[-4.9304e-32 -4.4409e-16  0.0000e+00  0.0000e+00]\n",
      "[-0. -0.  0.  0.]\n",
      "[ 0.      1.1111  2.2222  3.3333  4.4444  5.5556  6.6667  7.7778  8.8889\n",
      " 10.    ]\n",
      "[ 0.    1.11  2.22 ...  7.78  8.89 10.  ]\n"
     ]
    }
   ],
   "source": [
    "import numpy as np\n",
    "\n",
    "np.set_printoptions(precision=4)\n",
    "x = np.array([1.123456789])\n",
    "print(x)  # [1.1235]\n",
    "\n",
    "np.set_printoptions(threshold=20)\n",
    "x = np.arange(50)\n",
    "print(x)  # [ 0  1  2 ... 47 48 49]\n",
    "\n",
    "np.set_printoptions(threshold=np.iinfo(np.int).max)\n",
    "print(x)\n",
    "# [ 0  1  2  3  4  5  6  7  8  9 10 11 12 13 14 15 16 17 18 19 20 21 22 23\n",
    "#  24 25 26 27 28 29 30 31 32 33 34 35 36 37 38 39 40 41 42 43 44 45 46 47\n",
    "#  48 49]\n",
    "\n",
    "eps = np.finfo(float).eps\n",
    "x = np.arange(4.)\n",
    "x = x ** 2 - (x + eps) ** 2\n",
    "print(x)  \n",
    "# [-4.9304e-32 -4.4409e-16  0.0000e+00  0.0000e+00]\n",
    "np.set_printoptions(suppress=True)\n",
    "print(x)  # [-0. -0.  0.  0.]\n",
    "\n",
    "x = np.linspace(0, 10, 10)\n",
    "print(x)\n",
    "# [ 0.      1.1111  2.2222  3.3333  4.4444  5.5556  6.6667  7.7778  8.8889\n",
    "#  10.    ]\n",
    "np.set_printoptions(precision=2, suppress=True, threshold=5)\n",
    "print(x)  # [ 0.    1.11  2.22 ...  7.78  8.89 10.  ]"
   ]
  },
  {
   "cell_type": "code",
   "execution_count": 33,
   "metadata": {},
   "outputs": [
    {
     "name": "stdout",
     "output_type": "stream",
     "text": [
      "Help on class iinfo in module numpy:\n",
      "\n",
      "class iinfo(builtins.object)\n",
      " |  iinfo(int_type)\n",
      " |  \n",
      " |  iinfo(type)\n",
      " |  \n",
      " |  Machine limits for integer types.\n",
      " |  \n",
      " |  Attributes\n",
      " |  ----------\n",
      " |  bits : int\n",
      " |      The number of bits occupied by the type.\n",
      " |  min : int\n",
      " |      The smallest integer expressible by the type.\n",
      " |  max : int\n",
      " |      The largest integer expressible by the type.\n",
      " |  \n",
      " |  Parameters\n",
      " |  ----------\n",
      " |  int_type : integer type, dtype, or instance\n",
      " |      The kind of integer data type to get information about.\n",
      " |  \n",
      " |  See Also\n",
      " |  --------\n",
      " |  finfo : The equivalent for floating point data types.\n",
      " |  \n",
      " |  Examples\n",
      " |  --------\n",
      " |  With types:\n",
      " |  \n",
      " |  >>> ii16 = np.iinfo(np.int16)\n",
      " |  >>> ii16.min\n",
      " |  -32768\n",
      " |  >>> ii16.max\n",
      " |  32767\n",
      " |  >>> ii32 = np.iinfo(np.int32)\n",
      " |  >>> ii32.min\n",
      " |  -2147483648\n",
      " |  >>> ii32.max\n",
      " |  2147483647\n",
      " |  \n",
      " |  With instances:\n",
      " |  \n",
      " |  >>> ii32 = np.iinfo(np.int32(10))\n",
      " |  >>> ii32.min\n",
      " |  -2147483648\n",
      " |  >>> ii32.max\n",
      " |  2147483647\n",
      " |  \n",
      " |  Methods defined here:\n",
      " |  \n",
      " |  __init__(self, int_type)\n",
      " |      Initialize self.  See help(type(self)) for accurate signature.\n",
      " |  \n",
      " |  __repr__(self)\n",
      " |      Return repr(self).\n",
      " |  \n",
      " |  __str__(self)\n",
      " |      String representation.\n",
      " |  \n",
      " |  ----------------------------------------------------------------------\n",
      " |  Data descriptors defined here:\n",
      " |  \n",
      " |  __dict__\n",
      " |      dictionary for instance variables (if defined)\n",
      " |  \n",
      " |  __weakref__\n",
      " |      list of weak references to the object (if defined)\n",
      " |  \n",
      " |  max\n",
      " |      Maximum value of given dtype.\n",
      " |  \n",
      " |  min\n",
      " |      Minimum value of given dtype.\n",
      "\n"
     ]
    }
   ],
   "source": [
    "help(np.iinfo)"
   ]
  },
  {
   "cell_type": "code",
   "execution_count": 34,
   "metadata": {},
   "outputs": [
    {
     "name": "stdout",
     "output_type": "stream",
     "text": [
      "Help on class finfo in module numpy:\n",
      "\n",
      "class finfo(builtins.object)\n",
      " |  finfo(dtype)\n",
      " |  \n",
      " |  finfo(dtype)\n",
      " |  \n",
      " |  Machine limits for floating point types.\n",
      " |  \n",
      " |  Attributes\n",
      " |  ----------\n",
      " |  bits : int\n",
      " |      The number of bits occupied by the type.\n",
      " |  eps : float\n",
      " |      The smallest representable positive number such that\n",
      " |      ``1.0 + eps != 1.0``.  Type of `eps` is an appropriate floating\n",
      " |      point type.\n",
      " |  epsneg : floating point number of the appropriate type\n",
      " |      The smallest representable positive number such that\n",
      " |      ``1.0 - epsneg != 1.0``.\n",
      " |  iexp : int\n",
      " |      The number of bits in the exponent portion of the floating point\n",
      " |      representation.\n",
      " |  machar : MachAr\n",
      " |      The object which calculated these parameters and holds more\n",
      " |      detailed information.\n",
      " |  machep : int\n",
      " |      The exponent that yields `eps`.\n",
      " |  max : floating point number of the appropriate type\n",
      " |      The largest representable number.\n",
      " |  maxexp : int\n",
      " |      The smallest positive power of the base (2) that causes overflow.\n",
      " |  min : floating point number of the appropriate type\n",
      " |      The smallest representable number, typically ``-max``.\n",
      " |  minexp : int\n",
      " |      The most negative power of the base (2) consistent with there\n",
      " |      being no leading 0's in the mantissa.\n",
      " |  negep : int\n",
      " |      The exponent that yields `epsneg`.\n",
      " |  nexp : int\n",
      " |      The number of bits in the exponent including its sign and bias.\n",
      " |  nmant : int\n",
      " |      The number of bits in the mantissa.\n",
      " |  precision : int\n",
      " |      The approximate number of decimal digits to which this kind of\n",
      " |      float is precise.\n",
      " |  resolution : floating point number of the appropriate type\n",
      " |      The approximate decimal resolution of this type, i.e.,\n",
      " |      ``10**-precision``.\n",
      " |  tiny : float\n",
      " |      The smallest positive usable number.  Type of `tiny` is an\n",
      " |      appropriate floating point type.\n",
      " |  \n",
      " |  Parameters\n",
      " |  ----------\n",
      " |  dtype : float, dtype, or instance\n",
      " |      Kind of floating point data-type about which to get information.\n",
      " |  \n",
      " |  See Also\n",
      " |  --------\n",
      " |  MachAr : The implementation of the tests that produce this information.\n",
      " |  iinfo : The equivalent for integer data types.\n",
      " |  \n",
      " |  Notes\n",
      " |  -----\n",
      " |  For developers of NumPy: do not instantiate this at the module level.\n",
      " |  The initial calculation of these parameters is expensive and negatively\n",
      " |  impacts import times.  These objects are cached, so calling ``finfo()``\n",
      " |  repeatedly inside your functions is not a problem.\n",
      " |  \n",
      " |  Methods defined here:\n",
      " |  \n",
      " |  __repr__(self)\n",
      " |      Return repr(self).\n",
      " |  \n",
      " |  __str__(self)\n",
      " |      Return str(self).\n",
      " |  \n",
      " |  ----------------------------------------------------------------------\n",
      " |  Static methods defined here:\n",
      " |  \n",
      " |  __new__(cls, dtype)\n",
      " |      Create and return a new object.  See help(type) for accurate signature.\n",
      " |  \n",
      " |  ----------------------------------------------------------------------\n",
      " |  Data descriptors defined here:\n",
      " |  \n",
      " |  __dict__\n",
      " |      dictionary for instance variables (if defined)\n",
      " |  \n",
      " |  __weakref__\n",
      " |      list of weak references to the object (if defined)\n",
      "\n"
     ]
    }
   ],
   "source": [
    "help(np.finfo)"
   ]
  },
  {
   "cell_type": "code",
   "execution_count": 35,
   "metadata": {},
   "outputs": [
    {
     "name": "stdout",
     "output_type": "stream",
     "text": [
      "{'edgeitems': 3, 'threshold': 5, 'floatmode': 'maxprec', 'precision': 2, 'suppress': True, 'linewidth': 75, 'nanstr': 'nan', 'infstr': 'inf', 'sign': '-', 'formatter': None, 'legacy': False}\n"
     ]
    }
   ],
   "source": [
    "import numpy as np\n",
    "\n",
    "x = np.get_printoptions()\n",
    "print(x)"
   ]
  },
  {
   "cell_type": "code",
   "execution_count": 1,
   "metadata": {},
   "outputs": [
    {
     "name": "stdout",
     "output_type": "stream",
     "text": [
      "[[0.0107548  0.35954151 0.66162149]\n",
      " [0.16272273 0.57774507 0.17774303]\n",
      " [0.47837153 0.75690533 0.27104246]\n",
      " [0.01191847 0.21773997 0.97291623]\n",
      " [0.76891329 0.49534533 0.22709885]]\n",
      "[[0.011 0.36  0.662]\n",
      " [0.163 0.578 0.178]\n",
      " [0.478 0.757 0.271]\n",
      " [0.012 0.218 0.973]\n",
      " [0.769 0.495 0.227]]\n"
     ]
    }
   ],
   "source": [
    "import numpy as np\n",
    "\n",
    "rand_arr = np.random.random([5,3])\n",
    "print(rand_arr)\n",
    "np.set_printoptions(precision = 3)\n",
    "print(rand_arr)"
   ]
  },
  {
   "cell_type": "code",
   "execution_count": 3,
   "metadata": {},
   "outputs": [
    {
     "name": "stdout",
     "output_type": "stream",
     "text": [
      "[0 1 2 3 4 5 6 7 8 9]\n",
      "[0 1 2 ... 7 8 9]\n"
     ]
    }
   ],
   "source": [
    "import numpy as np\n",
    "\n",
    "a = np.arange(0,10)\n",
    "print(a)\n",
    "np.set_printoptions(threshold = 6)\n",
    "print(a)"
   ]
  },
  {
   "cell_type": "code",
   "execution_count": 5,
   "metadata": {},
   "outputs": [],
   "source": [
    "np.set_printoptions(threshold = )"
   ]
  },
  {
   "cell_type": "code",
   "execution_count": 7,
   "metadata": {},
   "outputs": [
    {
     "name": "stdout",
     "output_type": "stream",
     "text": [
      "[0 1 2 ... 7 8 9]\n",
      "[0 1 2 3 4 5 6 7 8 9]\n"
     ]
    }
   ],
   "source": [
    "import numpy as np\n",
    "\n",
    "a = np.arange(0,10)\n",
    "print(a)\n",
    "np.set_printoptions(threshold = 1000)\n",
    "print(a)"
   ]
  },
  {
   "cell_type": "code",
   "execution_count": null,
   "metadata": {},
   "outputs": [],
   "source": []
  }
 ],
 "metadata": {
  "kernelspec": {
   "display_name": "Python 3",
   "language": "python",
   "name": "python3"
  },
  "language_info": {
   "codemirror_mode": {
    "name": "ipython",
    "version": 3
   },
   "file_extension": ".py",
   "mimetype": "text/x-python",
   "name": "python",
   "nbconvert_exporter": "python",
   "pygments_lexer": "ipython3",
   "version": "3.7.6"
  },
  "varInspector": {
   "cols": {
    "lenName": 16,
    "lenType": 16,
    "lenVar": 40
   },
   "kernels_config": {
    "python": {
     "delete_cmd_postfix": "",
     "delete_cmd_prefix": "del ",
     "library": "var_list.py",
     "varRefreshCmd": "print(var_dic_list())"
    },
    "r": {
     "delete_cmd_postfix": ") ",
     "delete_cmd_prefix": "rm(",
     "library": "var_list.r",
     "varRefreshCmd": "cat(var_dic_list()) "
    }
   },
   "types_to_exclude": [
    "module",
    "function",
    "builtin_function_or_method",
    "instance",
    "_Feature"
   ],
   "window_display": false
  }
 },
 "nbformat": 4,
 "nbformat_minor": 4
}
