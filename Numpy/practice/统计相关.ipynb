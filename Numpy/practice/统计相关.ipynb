{
 "cells": [
  {
   "cell_type": "code",
   "execution_count": 7,
   "metadata": {},
   "outputs": [
    {
     "name": "stdout",
     "output_type": "stream",
     "text": [
      "[[11 12 13 14 15]\n",
      " [16 17 18 19 20]\n",
      " [21 22 23 24 25]\n",
      " [26 27 28 29 30]]\n",
      "================\n",
      "11\n",
      "[11 12 13 14 15]\n",
      "[11 16 21 26]\n"
     ]
    }
   ],
   "source": [
    "import numpy as np\n",
    "\n",
    "x = np.array([[11,12,13,14,15],[16,17,18,19,20],\n",
    "            [21,22,23,24,25],[26,27,28,29,30]])\n",
    "print(x)\n",
    "print(\"================\")\n",
    "y_1 = np.amin(x)\n",
    "print(y_1)\n",
    "y_2 = np.amin(x,axis = 0)\n",
    "print(y_2)\n",
    "y_3 = np.amin(x,axis = 1)\n",
    "print(y_3)"
   ]
  },
  {
   "cell_type": "code",
   "execution_count": 8,
   "metadata": {},
   "outputs": [
    {
     "name": "stdout",
     "output_type": "stream",
     "text": [
      "[[11 12 13 14 15]\n",
      " [16 17 18 19 20]\n",
      " [21 22 23 24 25]\n",
      " [26 27 28 29 30]]\n",
      "================\n",
      "30\n",
      "[26 27 28 29 30]\n",
      "[15 20 25 30]\n"
     ]
    }
   ],
   "source": [
    "import numpy as np\n",
    "\n",
    "x = np.array([[11,12,13,14,15],[16,17,18,19,20],\n",
    "            [21,22,23,24,25],[26,27,28,29,30]])\n",
    "print(x)\n",
    "print(\"================\")\n",
    "y_1 = np.amax(x)\n",
    "print(y_1)\n",
    "y_2 = np.amax(x,axis = 0)\n",
    "print(y_2)\n",
    "y_3 = np.amax(x,axis = 1)\n",
    "print(y_3)"
   ]
  },
  {
   "cell_type": "code",
   "execution_count": 12,
   "metadata": {},
   "outputs": [
    {
     "name": "stdout",
     "output_type": "stream",
     "text": [
      "[[15 13 26  2 34]\n",
      " [48 25  5 37 45]\n",
      " [10 48  1 31 25]\n",
      " [37 12 32 23 49]\n",
      " [40 31  7 46 34]]\n",
      "=====================\n",
      "49\n",
      "1\n",
      "=====================\n",
      "48\n",
      "[38 36 31 44 24]\n",
      "[32 43 47 37 39]\n"
     ]
    }
   ],
   "source": [
    "import numpy as np\n",
    "\n",
    "np.random.seed(20201127)\n",
    "x = np.random.randint(0,50,size = [5,5])\n",
    "print(x)\n",
    "print(\"=====================\")\n",
    "print(np.amax(x))\n",
    "print(np.amin(x))\n",
    "print(\"=====================\")\n",
    "y_1 = np.ptp(x)\n",
    "print(y_1)\n",
    "y_2 = np.ptp(x,axis = 0)\n",
    "print(y_2)\n",
    "y_3 = np.ptp(x,axis = 1)\n",
    "print(y_3)\n"
   ]
  },
  {
   "cell_type": "code",
   "execution_count": 13,
   "metadata": {},
   "outputs": [
    {
     "name": "stdout",
     "output_type": "stream",
     "text": [
      "我们的数组是：\n",
      "[[10  7  4]\n",
      " [ 3  2  1]]\n",
      "调用 percentile() 函数：\n",
      "3.5\n",
      "[6.5 4.5 2.5]\n",
      "[7. 2.]\n",
      "[[7.]\n",
      " [2.]]\n"
     ]
    }
   ],
   "source": [
    "import numpy as np \n",
    " \n",
    "a = np.array([[10, 7, 4], [3, 2, 1]])\n",
    "print ('我们的数组是：')\n",
    "print (a)\n",
    " \n",
    "print ('调用 percentile() 函数：')\n",
    "# 50% 的分位数，就是 a 里排序之后的中位数\n",
    "print (np.percentile(a, 50)) \n",
    " \n",
    "# axis 为 0，在纵列上求\n",
    "print (np.percentile(a, 50, axis=0)) \n",
    " \n",
    "# axis 为 1，在横行上求\n",
    "print (np.percentile(a, 50, axis=1)) \n",
    " \n",
    "# 保持维度不变\n",
    "print (np.percentile(a, 50, axis=1, keepdims=True))"
   ]
  },
  {
   "cell_type": "code",
   "execution_count": 15,
   "metadata": {},
   "outputs": [
    {
     "name": "stdout",
     "output_type": "stream",
     "text": [
      "[[15 13 26  2 34]\n",
      " [48 25  5 37 45]\n",
      " [10 48  1 31 25]\n",
      " [37 12 32 23 49]]\n",
      "==============\n",
      "[12.75 25.5 ]\n",
      "[[13.75 12.75  4.   17.75 31.75]\n",
      " [26.   19.   15.5  27.   39.5 ]]\n",
      "[[13. 25. 10. 23.]\n",
      " [15. 37. 25. 32.]]\n"
     ]
    }
   ],
   "source": [
    "import numpy as np\n",
    "\n",
    "np.random.seed(20201127)\n",
    "x = np.random.randint(0,50,size = [4,5])\n",
    "print(x)\n",
    "print(\"==============\")\n",
    "y_1 = np.percentile(x,[25,50])\n",
    "print(y_1)\n",
    "y_2 = np.percentile(x,[25,50],axis = 0)\n",
    "print(y_2)\n",
    "y_3 = np.percentile(x,[25,50],axis = 1)\n",
    "print(y_3)"
   ]
  },
  {
   "cell_type": "code",
   "execution_count": 16,
   "metadata": {},
   "outputs": [
    {
     "name": "stdout",
     "output_type": "stream",
     "text": [
      "[[15 13 26  2 34]\n",
      " [48 25  5 37 45]\n",
      " [10 48  1 31 25]\n",
      " [37 12 32 23 49]]\n",
      "===================\n",
      "25.5\n",
      "[26.  19.  15.5 27.  39.5]\n",
      "[15. 37. 25. 32.]\n"
     ]
    }
   ],
   "source": [
    "import numpy as np\n",
    "\n",
    "np.random.seed(20201127)\n",
    "x = np.random.randint(0,50,size = [4,5])\n",
    "print(x)\n",
    "print(\"===================\")\n",
    "y_1 = np.median(x)\n",
    "print(y_1)\n",
    "y_2 = np.median(x,axis = 0)\n",
    "print(y_2)\n",
    "y_3 = np.median(x,axis = 1)\n",
    "print(y_3)\n"
   ]
  },
  {
   "cell_type": "code",
   "execution_count": 17,
   "metadata": {},
   "outputs": [
    {
     "name": "stdout",
     "output_type": "stream",
     "text": [
      "[[11 12 13 14 15]\n",
      " [16 17 18 19 20]\n",
      " [21 22 23 24 25]\n",
      " [26 27 28 29 30]\n",
      " [31 32 33 34 35]]\n",
      "================\n",
      "23.0\n",
      "[21. 22. 23. 24. 25.]\n",
      "[13. 18. 23. 28. 33.]\n"
     ]
    }
   ],
   "source": [
    "import numpy as np\n",
    "\n",
    "x = np.array([[11, 12, 13, 14, 15],\n",
    "              [16, 17, 18, 19, 20],\n",
    "              [21, 22, 23, 24, 25],\n",
    "              [26, 27, 28, 29, 30],\n",
    "              [31, 32, 33, 34, 35]])\n",
    "print(x)\n",
    "print(\"================\")\n",
    "y_1 = np.mean(x)\n",
    "print(y_1)  \n",
    "\n",
    "y_2 = np.mean(x, axis=0)\n",
    "print(y_2)  \n",
    "\n",
    "y_3 = np.mean(x, axis=1)\n",
    "print(y_3)  "
   ]
  },
  {
   "cell_type": "code",
   "execution_count": 19,
   "metadata": {},
   "outputs": [
    {
     "name": "stdout",
     "output_type": "stream",
     "text": [
      "[[11 12 13 14 15]\n",
      " [16 17 18 19 20]\n",
      " [21 22 23 24 25]\n",
      " [26 27 28 29 30]\n",
      " [31 32 33 34 35]]\n",
      "====================\n",
      "23.0\n",
      "[21. 22. 23. 24. 25.]\n",
      "[13. 18. 23. 28. 33.]\n",
      "================\n",
      "[[ 1  2  3  4  5]\n",
      " [ 6  7  8  9 10]\n",
      " [11 12 13 14 15]\n",
      " [16 17 18 19 20]\n",
      " [21 22 23 24 25]]\n",
      "27.0\n",
      "[25.54545455 26.16666667 26.84615385 27.57142857 28.33333333]\n",
      "[13.66666667 18.25       23.15384615 28.11111111 33.08695652]\n"
     ]
    }
   ],
   "source": [
    "import numpy as np\n",
    "\n",
    "x = np.array([[11, 12, 13, 14, 15],\n",
    "              [16, 17, 18, 19, 20],\n",
    "              [21, 22, 23, 24, 25],\n",
    "              [26, 27, 28, 29, 30],\n",
    "              [31, 32, 33, 34, 35]])\n",
    "print(x)\n",
    "print(\"====================\")\n",
    "y = np.average(x)\n",
    "print(y)\n",
    "y = np.average(x, axis=0)\n",
    "print(y)  \n",
    "y = np.average(x, axis=1)\n",
    "print(y)  \n",
    "print(\"================\")\n",
    "\n",
    "y = np.arange(1, 26).reshape([5, 5])\n",
    "print(y)\n",
    "\n",
    "z = np.average(x, weights=y)\n",
    "print(z) \n",
    "z = np.average(x, axis=0, weights=y)\n",
    "print(z)\n",
    "z = np.average(x, axis=1, weights=y)\n",
    "print(z)\n"
   ]
  },
  {
   "cell_type": "code",
   "execution_count": 20,
   "metadata": {},
   "outputs": [
    {
     "name": "stdout",
     "output_type": "stream",
     "text": [
      "[[11 12 13 14 15]\n",
      " [16 17 18 19 20]\n",
      " [21 22 23 24 25]\n",
      " [26 27 28 29 30]\n",
      " [31 32 33 34 35]]\n",
      "==============\n",
      "52.0\n",
      "52.0\n",
      "==============\n",
      "54.166666666666664\n",
      "54.166666666666664\n",
      "==============\n",
      "[50. 50. 50. 50. 50.]\n",
      "[2. 2. 2. 2. 2.]\n"
     ]
    }
   ],
   "source": [
    "import numpy as np\n",
    "\n",
    "x = np.array([[11, 12, 13, 14, 15],\n",
    "              [16, 17, 18, 19, 20],\n",
    "              [21, 22, 23, 24, 25],\n",
    "              [26, 27, 28, 29, 30],\n",
    "              [31, 32, 33, 34, 35]])\n",
    "print(x)\n",
    "print(\"==============\")\n",
    "y = np.var(x)\n",
    "print(y)  \n",
    "y = np.mean((x - np.mean(x)) ** 2)\n",
    "print(y)  \n",
    "print(\"==============\")\n",
    "y = np.var(x, ddof=1)\n",
    "print(y)  \n",
    "y = np.sum((x - np.mean(x)) ** 2) / (x.size - 1)\n",
    "print(y) \n",
    "print(\"==============\")\n",
    "y = np.var(x, axis=0)\n",
    "print(y)  \n",
    "y = np.var(x, axis=1)\n",
    "print(y) "
   ]
  },
  {
   "cell_type": "code",
   "execution_count": 21,
   "metadata": {},
   "outputs": [
    {
     "name": "stdout",
     "output_type": "stream",
     "text": [
      "[[11 12 13 14 15]\n",
      " [16 17 18 19 20]\n",
      " [21 22 23 24 25]\n",
      " [26 27 28 29 30]\n",
      " [31 32 33 34 35]]\n",
      "==================\n",
      "7.211102550927978\n",
      "7.211102550927978\n",
      "=================\n",
      "[7.07106781 7.07106781 7.07106781 7.07106781 7.07106781]\n",
      "[1.41421356 1.41421356 1.41421356 1.41421356 1.41421356]\n"
     ]
    }
   ],
   "source": [
    "import numpy as np\n",
    "\n",
    "x = np.array([[11, 12, 13, 14, 15],\n",
    "              [16, 17, 18, 19, 20],\n",
    "              [21, 22, 23, 24, 25],\n",
    "              [26, 27, 28, 29, 30],\n",
    "              [31, 32, 33, 34, 35]])\n",
    "print(x)\n",
    "print(\"==================\")\n",
    "y = np.std(x)\n",
    "print(y)  \n",
    "y = np.sqrt(np.var(x))\n",
    "print(y)  \n",
    "print(\"=================\")\n",
    "y = np.std(x, axis=0)\n",
    "print(y)\n",
    "y = np.std(x, axis=1)\n",
    "print(y)\n"
   ]
  },
  {
   "cell_type": "code",
   "execution_count": 22,
   "metadata": {},
   "outputs": [
    {
     "name": "stdout",
     "output_type": "stream",
     "text": [
      "3.7\n",
      "8.5\n",
      "[[3.7  5.25]\n",
      " [5.25 8.5 ]]\n",
      "2.96\n",
      "3.7\n",
      "6.8\n",
      "8.5\n",
      "4.2\n",
      "5.25\n",
      "5.25\n"
     ]
    }
   ],
   "source": [
    "import numpy as np\n",
    "\n",
    "x = [1, 2, 3, 4, 6]\n",
    "y = [0, 2, 5, 6, 7]\n",
    "print(np.cov(x))     #样本方差\n",
    "print(np.cov(y))     #样本方差\n",
    "print(np.cov(x, y))\n",
    "\n",
    "print(np.var(x))     #方差\n",
    "print(np.var(x, ddof=1))    #样本方差\n",
    "print(np.var(y))  # 6.8    #方差\n",
    "print(np.var(y, ddof=1))      #样本方差\n",
    "\n",
    "z = np.mean((x - np.mean(x)) * (y - np.mean(y)))    #协方差\n",
    "print(z)  \n",
    "\n",
    "z = np.sum((x - np.mean(x)) * (y - np.mean(y))) / (len(x) - 1)   #样本协方差\n",
    "print(z)  \n",
    "\n",
    "z = np.dot(x - np.mean(x), y - np.mean(y)) / (len(x) - 1)     #样本协方差     \n",
    "print(z)  "
   ]
  },
  {
   "cell_type": "code",
   "execution_count": 23,
   "metadata": {},
   "outputs": [
    {
     "name": "stdout",
     "output_type": "stream",
     "text": [
      "[10  2  1  1]\n",
      "[16 18 11 10]\n",
      "[[1.         0.48510096]\n",
      " [0.48510096 1.        ]]\n",
      "0.4851009629263671\n"
     ]
    }
   ],
   "source": [
    "import numpy as np\n",
    "\n",
    "np.random.seed(20200623)\n",
    "x, y = np.random.randint(0, 20, size=(2, 4))\n",
    "\n",
    "print(x)  # [10  2  1  1]\n",
    "print(y)  # [16 18 11 10]\n",
    "\n",
    "z = np.corrcoef(x, y)\n",
    "print(z)\n",
    "# [[1.         0.48510096]\n",
    "#  [0.48510096 1.        ]]\n",
    "\n",
    "a = np.dot(x - np.mean(x), y - np.mean(y))\n",
    "b = np.sqrt(np.dot(x - np.mean(x), x - np.mean(x)))\n",
    "c = np.sqrt(np.dot(y - np.mean(y), y - np.mean(y)))\n",
    "print(a / (b * c))  # 0.4851009629263671"
   ]
  },
  {
   "cell_type": "code",
   "execution_count": 24,
   "metadata": {},
   "outputs": [
    {
     "name": "stdout",
     "output_type": "stream",
     "text": [
      "[1 4 3 2]\n",
      "0.0 <= 0.2 < 1.0\n",
      "4.0 <= 6.4 < 10.0\n",
      "2.5 <= 3.0 < 4.0\n",
      "1.0 <= 1.6 < 2.5\n"
     ]
    }
   ],
   "source": [
    "import numpy as np\n",
    "\n",
    "x = np.array([0.2, 6.4, 3.0, 1.6])\n",
    "bins = np.array([0.0, 1.0, 2.5, 4.0, 10.0])\n",
    "inds = np.digitize(x, bins)\n",
    "print(inds)  # [1 4 3 2]\n",
    "for n in range(x.size):\n",
    "    print(bins[inds[n] - 1], \"<=\", x[n], \"<\", bins[inds[n]])\n",
    "\n",
    "# 0.0 <= 0.2 < 1.0\n",
    "# 4.0 <= 6.4 < 10.0\n",
    "# 2.5 <= 3.0 < 4.0\n",
    "# 1.0 <= 1.6 < 2.5"
   ]
  },
  {
   "cell_type": "code",
   "execution_count": 25,
   "metadata": {},
   "outputs": [
    {
     "name": "stdout",
     "output_type": "stream",
     "text": [
      "[1 2 3 4 4]\n",
      "[1 3 3 4 5]\n"
     ]
    }
   ],
   "source": [
    "import numpy as np\n",
    "\n",
    "x = np.array([1.2, 10.0, 12.4, 15.5, 20.])\n",
    "bins = np.array([0, 5, 10, 15, 20])\n",
    "inds = np.digitize(x, bins, right=True)\n",
    "print(inds)  # [1 2 3 4 4]\n",
    "\n",
    "inds = np.digitize(x, bins, right=False)\n",
    "print(inds)  # [1 3 3 4 5]"
   ]
  },
  {
   "cell_type": "code",
   "execution_count": 27,
   "metadata": {},
   "outputs": [
    {
     "name": "stdout",
     "output_type": "stream",
     "text": [
      "[[1, 6, 2], [1, 8, 1], [1, 10, 0], [1, 14, 2], [1, 18, 0]]\n",
      "[[7], [9], [13], [17.5], [18]]\n",
      "=====================\n",
      "[[1.1875    ]\n",
      " [1.01041667]\n",
      " [0.39583333]]\n",
      "另一种解法：\n",
      "[[1.1875    ]\n",
      " [1.01041667]\n",
      " [0.39583333]]\n"
     ]
    },
    {
     "name": "stderr",
     "output_type": "stream",
     "text": [
      "E:\\Anaconda\\lib\\site-packages\\ipykernel_launcher.py:17: FutureWarning: `rcond` parameter will change to the default of machine precision times ``max(M, N)`` where M and N are the input matrix dimensions.\n",
      "To use the future default and silence this warning we advise to pass `rcond=None`, to keep using the old, explicitly pass `rcond=-1`.\n"
     ]
    }
   ],
   "source": [
    "#练习题\n",
    "#1.\n",
    "\n",
    "from numpy.linalg import inv \n",
    "from numpy import dot, transpose \n",
    "X = [[1, 6, 2] , [1, 8, 1] , [1, 10, 0] , [1 , 14, 2] , [1, 18, 0]] \n",
    "y = [[7] , [9] , [13] , [17.5] , [18]]\n",
    "\n",
    "print(X)\n",
    "print(y)\n",
    "print(\"=====================\")\n",
    "print(dot(inv(dot(transpose(X) , X)) , dot(transpose(X) , y)))\n",
    "\n",
    "#另一种解法\n",
    "print(\"另一种解法：\")\n",
    "from numpy.linalg import lstsq\n",
    "print(lstsq(X,y)[0])"
   ]
  },
  {
   "cell_type": "code",
   "execution_count": 30,
   "metadata": {},
   "outputs": [
    {
     "name": "stdout",
     "output_type": "stream",
     "text": [
      "[[4 1 7]\n",
      " [9 8 9]\n",
      " [2 1 9]\n",
      " [2 1 8]\n",
      " [5 6 2]]\n",
      "==============\n",
      "[7 9 9 8 6]\n"
     ]
    }
   ],
   "source": [
    "#2.\n",
    "import numpy as np\n",
    "\n",
    "a = np.random.randint(1, 10, [5, 3])\n",
    "print(a)\n",
    "print(\"==============\")\n",
    "answer = np.amax(a,axis = 1)\n",
    "print(answer)"
   ]
  },
  {
   "cell_type": "code",
   "execution_count": 34,
   "metadata": {},
   "outputs": [
    {
     "name": "stdout",
     "output_type": "stream",
     "text": [
      "[[3 7 5]\n",
      " [8 4 3]\n",
      " [2 4 9]]\n",
      "=============\n",
      "7\n"
     ]
    }
   ],
   "source": [
    "#3.\n",
    "import numpy as np\n",
    "\n",
    "A=np.array([[3,7,5],\n",
    "[8,4,3],\n",
    "[2,4,9]])\n",
    "print(A)\n",
    "print(\"=============\")\n",
    "answer = np.ptp(A)\n",
    "print(answer)"
   ]
  },
  {
   "cell_type": "code",
   "execution_count": 36,
   "metadata": {},
   "outputs": [
    {
     "name": "stdout",
     "output_type": "stream",
     "text": [
      "[9.7, 10, 10.3, 9.7, 10, 10.3, 9.7, 10, 10.3]\n",
      "均值：10.0\n",
      "方差：0.06000000000000029\n",
      "标准差：0.2449489742783184\n"
     ]
    }
   ],
   "source": [
    "#4.\n",
    "import numpy as np\n",
    "\n",
    "S = [9.7, 10, 10.3, 9.7,10,10.3,9.7,10,10.3]\n",
    "print(S)\n",
    "#均值\n",
    "value_mean = np.mean(S)\n",
    "print(\"均值：\" + str(value_mean))\n",
    "#方差\n",
    "value_var = np.var(S)\n",
    "print(\"方差：\" + str(value_var))\n",
    "#标准差\n",
    "value_std = np.std(S)\n",
    "print(\"标准差：\" + str(value_std))\n",
    "#协方差\n"
   ]
  },
  {
   "cell_type": "code",
   "execution_count": null,
   "metadata": {},
   "outputs": [],
   "source": []
  }
 ],
 "metadata": {
  "kernelspec": {
   "display_name": "Python 3",
   "language": "python",
   "name": "python3"
  },
  "language_info": {
   "codemirror_mode": {
    "name": "ipython",
    "version": 3
   },
   "file_extension": ".py",
   "mimetype": "text/x-python",
   "name": "python",
   "nbconvert_exporter": "python",
   "pygments_lexer": "ipython3",
   "version": "3.7.6"
  },
  "varInspector": {
   "cols": {
    "lenName": 16,
    "lenType": 16,
    "lenVar": 40
   },
   "kernels_config": {
    "python": {
     "delete_cmd_postfix": "",
     "delete_cmd_prefix": "del ",
     "library": "var_list.py",
     "varRefreshCmd": "print(var_dic_list())"
    },
    "r": {
     "delete_cmd_postfix": ") ",
     "delete_cmd_prefix": "rm(",
     "library": "var_list.r",
     "varRefreshCmd": "cat(var_dic_list()) "
    }
   },
   "types_to_exclude": [
    "module",
    "function",
    "builtin_function_or_method",
    "instance",
    "_Feature"
   ],
   "window_display": false
  }
 },
 "nbformat": 4,
 "nbformat_minor": 4
}
