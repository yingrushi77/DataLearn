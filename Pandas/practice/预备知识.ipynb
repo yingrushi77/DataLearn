{
 "cells": [
  {
   "cell_type": "code",
   "execution_count": 1,
   "metadata": {},
   "outputs": [],
   "source": [
    "#python 基础"
   ]
  },
  {
   "cell_type": "code",
   "execution_count": 2,
   "metadata": {},
   "outputs": [
    {
     "name": "stdout",
     "output_type": "stream",
     "text": [
      "[0, 2, 4, 6, 8]\n"
     ]
    }
   ],
   "source": [
    "L = []\n",
    "\n",
    "def my_function(x):\n",
    "    return 2 * x\n",
    "\n",
    "for i in range(5):\n",
    "    L.append(my_function(i))\n",
    "    \n",
    "print(L)"
   ]
  },
  {
   "cell_type": "code",
   "execution_count": 3,
   "metadata": {},
   "outputs": [
    {
     "name": "stdout",
     "output_type": "stream",
     "text": [
      "[0, 2, 4, 6, 8]\n"
     ]
    }
   ],
   "source": [
    "def my_function(x):\n",
    "    return 2 * x\n",
    "\n",
    "L = [my_function(i) for i in range(5)]\n",
    "\n",
    "print(L)\n"
   ]
  },
  {
   "cell_type": "code",
   "execution_count": 4,
   "metadata": {},
   "outputs": [
    {
     "name": "stdout",
     "output_type": "stream",
     "text": [
      "['a_c', 'a_d', 'b_c', 'b_d']\n"
     ]
    }
   ],
   "source": [
    "L = [m + '_' + n for m in ['a','b'] for n in ['c','d']]\n",
    "# m 为第一层循环  n 为第二层循环\n",
    "print(L)"
   ]
  },
  {
   "cell_type": "code",
   "execution_count": 5,
   "metadata": {},
   "outputs": [
    {
     "name": "stdout",
     "output_type": "stream",
     "text": [
      "cat\n"
     ]
    }
   ],
   "source": [
    "value = 'cat' if 2 > 1 else 'dog'\n",
    "print(value)"
   ]
  },
  {
   "cell_type": "code",
   "execution_count": 6,
   "metadata": {},
   "outputs": [
    {
     "name": "stdout",
     "output_type": "stream",
     "text": [
      "cat\n"
     ]
    }
   ],
   "source": [
    "#等价于下面的写法\n",
    "a,b = 'cat','dog'\n",
    "condition = 2 > 1 #此时为True\n",
    "if condition:\n",
    "    value = a\n",
    "else:\n",
    "    value = b\n",
    "    \n",
    "print(value)"
   ]
  },
  {
   "cell_type": "code",
   "execution_count": 7,
   "metadata": {},
   "outputs": [
    {
     "name": "stdout",
     "output_type": "stream",
     "text": [
      "[1, 2, 3, 4, 5, 5, 5, 5, 5]\n"
     ]
    }
   ],
   "source": [
    "# 截断列表中超过5的元素\n",
    "L = [1,2,3,4,5,6,7,8,9]\n",
    "\n",
    "Ls = [i if i <= 5 else 5 for i in L]\n",
    "print(Ls)"
   ]
  },
  {
   "cell_type": "code",
   "execution_count": 9,
   "metadata": {},
   "outputs": [
    {
     "name": "stdout",
     "output_type": "stream",
     "text": [
      "6\n",
      "3\n"
     ]
    }
   ],
   "source": [
    "#匿名函数\n",
    "my_function = lambda x : 2 * x\n",
    "print(my_function(3))\n",
    "\n",
    "multi_para_func = lambda a,b : a + b\n",
    "print(multi_para_func(1,2))"
   ]
  },
  {
   "cell_type": "code",
   "execution_count": 10,
   "metadata": {},
   "outputs": [
    {
     "name": "stdout",
     "output_type": "stream",
     "text": [
      "[0, 2, 4, 6, 8]\n"
     ]
    }
   ],
   "source": [
    "L = [(lambda x : 2 * x)(i) for i in range(5)]\n",
    "print(L)"
   ]
  },
  {
   "cell_type": "code",
   "execution_count": 11,
   "metadata": {},
   "outputs": [
    {
     "name": "stdout",
     "output_type": "stream",
     "text": [
      "[0, 2, 4, 6, 8]\n"
     ]
    }
   ],
   "source": [
    "L = list(map(lambda x : 2 * x,range(5)))\n",
    "print(L)"
   ]
  },
  {
   "cell_type": "code",
   "execution_count": 12,
   "metadata": {},
   "outputs": [
    {
     "name": "stdout",
     "output_type": "stream",
     "text": [
      "['0_a', '1_b', '2_c', '3_d', '4_e']\n"
     ]
    }
   ],
   "source": [
    "L = list(map(lambda x,y : str(x) + '_' + y,range(5),list('abcde')))\n",
    "print(L)"
   ]
  },
  {
   "cell_type": "code",
   "execution_count": 3,
   "metadata": {},
   "outputs": [
    {
     "name": "stdout",
     "output_type": "stream",
     "text": [
      "<zip object at 0x000001C80AEE21C8>\n",
      "[(1, 4), (2, 5), (3, 6)]\n",
      "[(1, 4), (2, 5), (3, 6)]\n",
      "<class 'zip'>\n",
      "[]\n"
     ]
    }
   ],
   "source": [
    "#zip\n",
    "a = [1,2,3]\n",
    "b = [4,5,6]\n",
    "c = [4,5,6,7,8]\n",
    "# 打包为元组的列表\n",
    "zipped = zip(a,b)\n",
    "print(zipped)\n",
    "print(list(zipped))\n",
    "# 元素个数与最短的列表一致\n",
    "zipped02 = zip(a,c)\n",
    "print(list(zipped02))\n",
    "\n",
    "print(type(zipped))\n",
    "\n",
    "#解压，返回二维矩阵式\n",
    "print(list(*zip(zipped)))"
   ]
  },
  {
   "cell_type": "code",
   "execution_count": 23,
   "metadata": {},
   "outputs": [
    {
     "data": {
      "text/plain": [
       "<zip at 0x272f4c31588>"
      ]
     },
     "execution_count": 23,
     "metadata": {},
     "output_type": "execute_result"
    }
   ],
   "source": [
    "zipped"
   ]
  },
  {
   "cell_type": "code",
   "execution_count": 4,
   "metadata": {},
   "outputs": [],
   "source": [
    "m5=[1,2,3] \n",
    "n5=[4,5,6] \n",
    "k5=[7,8,9] \n",
    "zip5=zip(m5,n5,k5)"
   ]
  },
  {
   "cell_type": "code",
   "execution_count": 6,
   "metadata": {},
   "outputs": [
    {
     "data": {
      "text/plain": [
       "[(1, 4, 7), (2, 5, 8), (3, 6, 9)]"
      ]
     },
     "execution_count": 6,
     "metadata": {},
     "output_type": "execute_result"
    }
   ],
   "source": [
    "list(zip5)"
   ]
  },
  {
   "cell_type": "code",
   "execution_count": 8,
   "metadata": {},
   "outputs": [
    {
     "data": {
      "text/plain": [
       "[]"
      ]
     },
     "execution_count": 8,
     "metadata": {},
     "output_type": "execute_result"
    }
   ],
   "source": [
    "list(zip(*zip5))"
   ]
  },
  {
   "cell_type": "code",
   "execution_count": 9,
   "metadata": {},
   "outputs": [
    {
     "ename": "SyntaxError",
     "evalue": "invalid character in identifier (<ipython-input-9-648b04e74680>, line 4)",
     "output_type": "error",
     "traceback": [
      "\u001b[1;36m  File \u001b[1;32m\"<ipython-input-9-648b04e74680>\"\u001b[1;36m, line \u001b[1;32m4\u001b[0m\n\u001b[1;33m    print(“zip(m, n)返回:\\n”, zip(m, n)) #\u001b[0m\n\u001b[1;37m             ^\u001b[0m\n\u001b[1;31mSyntaxError\u001b[0m\u001b[1;31m:\u001b[0m invalid character in identifier\n"
     ]
    }
   ],
   "source": [
    "m = [[1, 2, 3], [4, 5, 6], [7, 8, 9]] \n",
    "n = [[2, 2, 2], [3, 3, 3], [4, 4, 4]]\n",
    " \n",
    "print(“zip(m, n)返回:\\n”, zip(m, n)) # \n",
    "print(“*zip(m, n)返回:\\n”, *zip(m, n))"
   ]
  },
  {
   "cell_type": "code",
   "execution_count": 1,
   "metadata": {},
   "outputs": [
    {
     "output_type": "stream",
     "name": "stdout",
     "text": [
      "*zip(m, n)返回: (1, 4) (2, 5) (3, 6)\nm2和n2的值分别为: (1, 2, 3) (4, 5, 6)\nTrue\n"
     ]
    }
   ],
   "source": [
    "# 创建2个列表\n",
    "m = [1, 2, 3]\n",
    "n = [4, 5, 6]\n",
    "\n",
    "print(\"*zip(m, n)返回:\", *zip(m, n))\n",
    "m2, n2 = zip(*zip(m, n))\n",
    "print(\"m2和n2的值分别为:\", m2, n2)\n",
    "# 若相等，返回True；说明*zip为zip的逆过程\n",
    "print(m == list(m2) and n == list(n2))"
   ]
  },
  {
   "cell_type": "code",
   "execution_count": 7,
   "metadata": {},
   "outputs": [
    {
     "output_type": "stream",
     "name": "stdout",
     "text": [
      "[('a', 'd', 'h'), ('b', 'e', 'i'), ('c', 'f', 'j')]\n(('a', 'd', 'h'), ('b', 'e', 'i'), ('c', 'f', 'j'))\n"
     ]
    }
   ],
   "source": [
    "#zip\n",
    "L1,L2,L3 = list('abc'),list('def'),list('hij')\n",
    "\n",
    "print(list(zip(L1,L2,L3)))#list 形式\n",
    "print(tuple(zip(L1,L2,L3)))#tuple 形式"
   ]
  },
  {
   "cell_type": "code",
   "execution_count": 11,
   "metadata": {},
   "outputs": [
    {
     "output_type": "stream",
     "name": "stdout",
     "text": [
      "[(1, 4), (2, 5), (3, 6)]\n<zip object at 0x000001B70D8CFA48>\n[]\n((1, 4), (2, 5), (3, 6))\n"
     ]
    }
   ],
   "source": [
    "# 定义三个列表\n",
    "a = [1,2,3]\n",
    "b = [4,5,6]\n",
    "c = [4,5,6,7,8,9]\n",
    "\n",
    "a_b = zip(a,b)\n",
    "print(list(a_b))\n",
    "print(a_b)\n",
    "print(list(a_b)) # 使用一次过后 a_b会被改变\n",
    "\n",
    "# 以最短的保持一致\n",
    "a_c = zip(a,c)\n",
    "print(tuple(a_c))"
   ]
  },
  {
   "cell_type": "code",
   "execution_count": 22,
   "metadata": {},
   "outputs": [
    {
     "output_type": "stream",
     "name": "stdout",
     "text": [
      "[(1, 4), (2, 5), (3, 6)]\n[(1, 2, 3), (4, 5, 6)]\n"
     ]
    }
   ],
   "source": [
    "# 声明一个列表 \n",
    "nums = [[1,2,3],[4,5,6]]\n",
    "# 参数为一个列表\n",
    "print(list(zip(*nums)))\n",
    "\n",
    "a = [1,2,3]\n",
    "b = [4,5,6]\n",
    "# 参数为zip()函数返回的对象\n",
    "zipped = zip(a,b)\n",
    "print(list(zip(*zipped)))"
   ]
  },
  {
   "cell_type": "code",
   "execution_count": 32,
   "metadata": {},
   "outputs": [
    {
     "output_type": "stream",
     "name": "stdout",
     "text": [
      "[(1, 4), (2, 5), (3, 6)]\n[(1, 2, 3), (4, 5, 6)]\n"
     ]
    }
   ],
   "source": [
    "# *zip()函数\n",
    "# 声明两个列表\n",
    "m = [1,2,3]\n",
    "n = [4,5,6]\n",
    "\n",
    "zipped = zip(a,b)\n",
    "print(list(zipped))\n",
    "print(list(zip(*zip(a,b)))) # zip()与*zip() 互为逆过程"
   ]
  },
  {
   "cell_type": "code",
   "execution_count": 34,
   "metadata": {},
   "outputs": [
    {
     "output_type": "stream",
     "name": "stdout",
     "text": [
      "a d h\nb e i\nc f j\n"
     ]
    }
   ],
   "source": [
    "L1,L2,L3 = list('abc'),list('def'),list('hij')\n",
    "for i,j,k in zip(L1,L2,L3):\n",
    "    print(i,j,k)"
   ]
  },
  {
   "cell_type": "code",
   "execution_count": 35,
   "metadata": {},
   "outputs": [
    {
     "output_type": "stream",
     "name": "stdout",
     "text": [
      "0 a\n1 b\n2 c\n3 d\n"
     ]
    }
   ],
   "source": [
    "L = list('abcd')\n",
    "for index,value in enumerate(L):\n",
    "    print(index,value)"
   ]
  },
  {
   "cell_type": "code",
   "execution_count": 37,
   "metadata": {},
   "outputs": [
    {
     "output_type": "stream",
     "name": "stdout",
     "text": [
      "我心中的现役前五：\n1 勒布朗\n2 杜兰特\n3 库里\n4 小卡\n5 字母哥\n"
     ]
    }
   ],
   "source": [
    "# zip()也可以实现enumerate 的功能\n",
    "nbaPlayersName = ['勒布朗','杜兰特','库里','小卡','字母哥']\n",
    "print(\"我心中的现役前五：\")\n",
    "for num,name in zip(range(len(nbaPlayersName)),nbaPlayersName):\n",
    "    print(num + 1,name)"
   ]
  },
  {
   "cell_type": "code",
   "execution_count": 38,
   "metadata": {},
   "outputs": [
    {
     "output_type": "stream",
     "name": "stdout",
     "text": [
      "{'你的孤独，虽败犹荣': '刘同', '我在等风，也等你': '何小然', '乖，摸摸头': '大冰'}\n"
     ]
    }
   ],
   "source": [
    "books = ['你的孤独，虽败犹荣','我在等风，也等你','乖，摸摸头']\n",
    "authors = ['刘同','何小然','大冰']\n",
    "print(dict(zip(books,authors))) # 字典形式"
   ]
  },
  {
   "cell_type": "code",
   "execution_count": 40,
   "metadata": {},
   "outputs": [
    {
     "output_type": "stream",
     "name": "stdout",
     "text": [
      "[('a', 'd', 'h'), ('b', 'e', 'i'), ('c', 'f', 'j')]\n[('a', 'b', 'c'), ('d', 'e', 'f'), ('h', 'i', 'j')]\n"
     ]
    }
   ],
   "source": [
    "L1,L2,L3 = list('abc'),list('def'),list('hij')\n",
    "\n",
    "print(list(zip(L1,L2,L3)))\n",
    "print(list(zip(*zip(L1,L2,L3)))) # 三个元组分别对应原来的列表"
   ]
  },
  {
   "cell_type": "code",
   "execution_count": 1,
   "metadata": {},
   "outputs": [],
   "source": [
    "# numpy基础"
   ]
  },
  {
   "cell_type": "code",
   "execution_count": 3,
   "metadata": {},
   "outputs": [
    {
     "output_type": "stream",
     "name": "stdout",
     "text": [
      "[1 2 3]\n<class 'numpy.ndarray'>\n"
     ]
    }
   ],
   "source": [
    "import numpy as np\n",
    "\n",
    "arr = np.array([1,2,3])\n",
    "print(arr)\n",
    "print(type(arr))"
   ]
  },
  {
   "cell_type": "code",
   "execution_count": 5,
   "metadata": {},
   "outputs": [
    {
     "output_type": "stream",
     "name": "stdout",
     "text": [
      "[1.  1.4 1.8 2.2 2.6 3.  3.4 3.8 4.2 4.6 5. ]\n[1 3]\n"
     ]
    }
   ],
   "source": [
    "# 等差序列\n",
    "import numpy as np \n",
    "\n",
    "arr01 = np.linspace(1,5,11) # 起始、终止(包含)、样本个数     等分\n",
    "print(arr01)\n",
    "\n",
    "arr02 = np.arange(1,5,2) # 起始、终止(不包含)、步长\n",
    "print(arr02)"
   ]
  },
  {
   "cell_type": "code",
   "execution_count": 8,
   "metadata": {},
   "outputs": [
    {
     "output_type": "stream",
     "name": "stdout",
     "text": [
      "[[0. 0. 0.]\n [0. 0. 0.]\n [0. 0. 0.]]\n[[1. 0. 0.]\n [0. 1. 0.]\n [0. 0. 1.]]\n[[0. 1. 0.]\n [0. 0. 1.]\n [0. 0. 0.]]\n[[10 10 10]\n [10 10 10]]\n[[1 2 3]\n [1 2 3]]\n"
     ]
    }
   ],
   "source": [
    "# 特殊矩阵\n",
    "import numpy as np \n",
    "\n",
    "arr_zero = np.zeros((3,3)) # 零矩阵  (3,3)表示矩阵各维度的大小\n",
    "print(arr_zero)\n",
    "\n",
    "arr_eye = np.eye(3) # 3*3 的单位矩阵\n",
    "print(arr_eye)\n",
    "\n",
    "arr_eye_flase = np.eye(3,k = 1) # 偏移主对角线1个单位的伪单位矩阵\n",
    "print(arr_eye_flase)\n",
    "\n",
    "arr_full = np.full((2,3),10) # 元组传入大小，10 表示填充数值\n",
    "print(arr_full)\n",
    "\n",
    "arr_full_a = np.full((2,3),[1,2,3]) # 通过传入列表填充每列的值\n",
    "print(arr_full_a)\n"
   ]
  },
  {
   "cell_type": "code",
   "execution_count": 9,
   "metadata": {},
   "outputs": [
    {
     "output_type": "stream",
     "name": "stdout",
     "text": [
      "[0.38315324 0.12044393 0.58867398]\n[[0.55663665 0.32474479 0.79753092]\n [0.19868349 0.87332289 0.21547287]\n [0.17919124 0.68943672 0.75621964]]\n[[ 6.57864932 11.69826487]\n [13.73869486  9.12119517]]\n[-0.38387813  1.29116147  1.864059  ]\n[[ 0.21267433 -0.03010171]\n [ 1.39688789 -0.57474523]]\n[[2.42115033 2.59893279]\n [3.829758   5.2627406 ]]\n"
     ]
    }
   ],
   "source": [
    "# 随机矩阵01\n",
    "'''\n",
    "\n",
    "最常用的随机生成函数为 \n",
    "    rand     :  0-1均匀分布的随机数组\n",
    "    randn    :  标准正态的随机数组\n",
    "    randint  :  随机整数组\n",
    "    choice   :  随机列表抽样\n",
    "    \n",
    "'''\n",
    "\n",
    "import numpy as np \n",
    "\n",
    "arr01 = np.random.rand(3) # 生成服从0-1均匀分布的三个随机数\n",
    "print(arr01)\n",
    "\n",
    "arr02 = np.random.rand(3,3) # 注意这里传入的不是元组，每个维度大小分开输入\n",
    "print(arr02)\n",
    "\n",
    "# 对于服从区间a到b上的均匀分布可以如下生成\n",
    "a,b = 5,15\n",
    "arr03 = (b - a) * np.random.rand(2,2) + a\n",
    "print(arr03)\n",
    "\n",
    "# randn 生成了 N(0,1) 的标准正态分布\n",
    "arr04 = np.random.randn(3)\n",
    "print(arr04)\n",
    "\n",
    "arr05 = np.random.randn(2,2)\n",
    "print(arr05)\n",
    "\n",
    "# 对于服从方差为 σ2 ,均值为 μ 的一元正态分布可以如下生成\n",
    "sigma,mu = 2.5,3\n",
    "arr06 = mu + np.random.randn(2,2) * sigma\n",
    "print(arr06)\n",
    "\n"
   ]
  },
  {
   "cell_type": "code",
   "execution_count": 11,
   "metadata": {},
   "outputs": [
    {
     "output_type": "stream",
     "name": "stdout",
     "text": [
      "[[ 6 14]\n [12  8]]\n['b' 'd']\n[['d' 'a']\n ['a' 'd']]\n['d' 'b' 'a' 'c']\n0.4102719865683089\n0.4102719865683089\n"
     ]
    }
   ],
   "source": [
    "# 随机矩阵02\n",
    "\n",
    "import numpy as np \n",
    "\n",
    "# randint 可以指定生成随机整数的最小值最大值（不包含）和维度大小\n",
    "low,high,size = 5,15,(2,2)\n",
    "arr01 = np.random.randint(low,high,size)\n",
    "print(arr01)\n",
    "\n",
    "# choice 可以从给定的列表中，以一定概率和方式抽取结果，当不指定概率时为均匀采样，默认抽取方式为有放回抽样\n",
    "my_list = ['a','b','c','d']\n",
    "arr_choice01 = np.random.choice(my_list,2,replace = False,p = [0.1,0.7,0.1,0.1])\n",
    "print(arr_choice01)\n",
    "\n",
    "arr_choice02 = np.random.choice(my_list,(2,2))\n",
    "print(arr_choice02)\n",
    "\n",
    "# 当返回的元素个数与原列表相同时，等价于使用 permutation 函数，即打散原列表\n",
    "arr_permutation = np.random.permutation(my_list)\n",
    "print(arr_permutation)\n",
    "\n",
    "# 需要提到的是随机种子，它能够固定随机数的输出结果\n",
    "np.random.seed(20201215)\n",
    "arr_seed01 = np.random.rand()\n",
    "print(arr_seed01)\n",
    "np.random.seed(20201215)\n",
    "arr_seed02 = np.random.rand()\n",
    "print(arr_seed02)"
   ]
  },
  {
   "cell_type": "code",
   "execution_count": 12,
   "metadata": {},
   "outputs": [
    {
     "output_type": "stream",
     "name": "stdout",
     "text": [
      "[[0. 0. 0.]\n [0. 0. 0.]]\n[[0. 0.]\n [0. 0.]\n [0. 0.]]\n"
     ]
    }
   ],
   "source": [
    "# 转置\n",
    "import numpy as np \n",
    "\n",
    "arr01 = np.zeros((2,3))\n",
    "print(arr01)\n",
    "arr02 = arr01.T\n",
    "print(arr02)"
   ]
  },
  {
   "cell_type": "code",
   "execution_count": 15,
   "metadata": {},
   "outputs": [
    {
     "output_type": "stream",
     "name": "stdout",
     "text": [
      "[[0. 0. 0.]\n [0. 0. 0.]]\n[[0. 0. 0.]\n [0. 0. 0.]\n [0. 0. 0.]\n [0. 0. 0.]]\n[[0. 0. 0. 0. 0. 0.]\n [0. 0. 0. 0. 0. 0.]]\n"
     ]
    }
   ],
   "source": [
    "# 合并操作\n",
    "import numpy as np\n",
    "\n",
    "arr01 = np.zeros((2,3))\n",
    "print(arr01)\n",
    "arr_r = np.r_[arr01,arr01] # 注意 r_、c_符号用 []\n",
    "print(arr_r)\n",
    "arr_c = np.c_[arr01,arr01]\n",
    "print(arr_c)"
   ]
  },
  {
   "cell_type": "code",
   "execution_count": 16,
   "metadata": {},
   "outputs": [
    {
     "output_type": "stream",
     "name": "stdout",
     "text": [
      "all the input arrays must have same number of dimensions\n[0. 0. 0. 0.]\n[[0. 0. 0. 0.]\n [0. 0. 0. 0.]]\n"
     ]
    }
   ],
   "source": [
    "# 一维数组与二维数组进行合并\n",
    "import numpy as np \n",
    "\n",
    "try:\n",
    "    np.r_[np.array([0,0]),np.zeros((2,1))]\n",
    "except Exception as e:\n",
    "    Err_Msg = e\n",
    "print(Err_Msg)\n",
    "\n",
    "arr01 = np.r_[np.array([0,0]),np.zeros(2)]\n",
    "print(arr01)\n",
    "\n",
    "# 一维与二维，左右合并\n",
    "arr02 = np.c_[np.array([0,0]),np.zeros((2,3))]\n",
    "print(arr02)\n"
   ]
  },
  {
   "cell_type": "code",
   "execution_count": 17,
   "metadata": {},
   "outputs": [
    {
     "output_type": "stream",
     "name": "stdout",
     "text": [
      "[[0 1 2 3]\n [4 5 6 7]]\n[[0 1]\n [2 3]\n [4 5]\n [6 7]]\n[[0 2]\n [4 6]\n [1 3]\n [5 7]]\n"
     ]
    }
   ],
   "source": [
    "# 维度变换  reshape\n",
    "import numpy as np \n",
    "\n",
    "target = np.arange(8).reshape(2,4)\n",
    "print(target)\n",
    "\n",
    "arr01 = target.reshape((4,2),order = 'C') #  按照行读取和填充\n",
    "print(arr01)\n",
    "\n",
    "arr02 = target.reshape((4,2),order = 'F') #  按照列读取和填充\n",
    "print(arr02)"
   ]
  },
  {
   "cell_type": "code",
   "execution_count": 18,
   "metadata": {},
   "outputs": [
    {
     "output_type": "stream",
     "name": "stdout",
     "text": [
      "[[0 1 2 3]\n [4 5 6 7]]\n[[0 1]\n [2 3]\n [4 5]\n [6 7]]\n"
     ]
    }
   ],
   "source": [
    "import numpy as np \n",
    "\n",
    "target = np.arange(8).reshape(2,4)\n",
    "print(target)\n",
    "\n",
    "arr01 = target.reshape((4,-1))\n",
    "print(arr01)\n"
   ]
  },
  {
   "cell_type": "code",
   "execution_count": 19,
   "metadata": {},
   "outputs": [
    {
     "output_type": "stream",
     "name": "stdout",
     "text": [
      "[[1.]\n [1.]\n [1.]]\n[1. 1. 1.]\n[[1. 1. 1.]]\n"
     ]
    }
   ],
   "source": [
    "import numpy as np \n",
    "\n",
    "target = np.ones((3,1))\n",
    "print(target)\n",
    "\n",
    "arr01 = target.reshape(-1) # -1 转换为1维数组\n",
    "print(arr01)\n",
    "arr02 = target.T # 转置\n",
    "print(arr02)    # 注意 有所不同\n"
   ]
  },
  {
   "cell_type": "code",
   "execution_count": 1,
   "metadata": {},
   "outputs": [
    {
     "output_type": "stream",
     "name": "stdout",
     "text": [
      "[[0 1 2]\n [3 4 5]\n [6 7 8]]\n[[0 2]\n [3 5]]\n"
     ]
    }
   ],
   "source": [
    "# 切片和索引\n",
    "import numpy as np \n",
    "\n",
    "target = np.arange(9).reshape(3,3)\n",
    "print(target)\n",
    "# 切片\n",
    "print(target[:-1,[0,2]]) # end(不包含), [0,2]表示第1列和第3列"
   ]
  },
  {
   "cell_type": "code",
   "execution_count": 2,
   "metadata": {},
   "outputs": [
    {
     "output_type": "stream",
     "name": "stdout",
     "text": [
      "[[0 1 2]\n [3 4 5]\n [6 7 8]]\n[[0 2]\n [6 8]]\n[[3 5]\n [6 8]]\n"
     ]
    }
   ],
   "source": [
    "# np.ix_切片索引\n",
    "import numpy as np \n",
    "\n",
    "target = np.arange(9).reshape(3,3)\n",
    "print(target)\n",
    "\n",
    "print(target[np.ix_([True,False,True],[True,False,True])]) # 切片\n",
    "\n",
    "print(target[np.ix_([1,2],[True,False,True])]) # 组合切片 np.ix_和维度"
   ]
  },
  {
   "cell_type": "code",
   "execution_count": 3,
   "metadata": {},
   "outputs": [
    {
     "output_type": "stream",
     "name": "stdout",
     "text": [
      "[[0 1 2]\n [3 4 5]\n [6 7 8]]\n[0 1 2 3 4 5 6 7 8]\n[0 2 4 6 8]\n"
     ]
    }
   ],
   "source": [
    "# 一维索引\n",
    "import numpy as np \n",
    "\n",
    "target = np.arange(9).reshape(3,3)\n",
    "print(target)\n",
    "\n",
    "new_target = target.reshape(-1) # 转换为一维数组\n",
    "print(new_target)\n",
    "print(new_target[new_target % 2 == 0])"
   ]
  },
  {
   "cell_type": "code",
   "execution_count": 5,
   "metadata": {},
   "outputs": [
    {
     "output_type": "stream",
     "name": "stdout",
     "text": [
      "[-1  1 -1  0]\n[5 1 5 5]\n"
     ]
    }
   ],
   "source": [
    "# where函数\n",
    "import numpy as np \n",
    "\n",
    "a = np.array([-1,1,-1,0])\n",
    "print(a)\n",
    "\n",
    "b = np.where(a > 0,a,5) # 类似于 ? 表达式（可惜python中没有）\n",
    "print(b)"
   ]
  },
  {
   "cell_type": "code",
   "execution_count": 9,
   "metadata": {},
   "outputs": [
    {
     "output_type": "stream",
     "name": "stdout",
     "text": [
      "[-2 -5  0  1  3 -1]\n(array([0, 1, 3, 4, 5], dtype=int64),)\n4\n1\n============\n(array([0, 1, 3, 4, 5], dtype=int64),)\n4\n1\n"
     ]
    }
   ],
   "source": [
    "# nonzero , argmax , argmin 函数\n",
    "import numpy as np \n",
    "\n",
    "a = np.array([-2,-5,0,1,3,-1])\n",
    "print(a)\n",
    "print(np.nonzero(a)) # 非零索引\n",
    "print(np.argmax(a)) # 最大值索引\n",
    "print(np.argmin(a)) # 最小值索引\n",
    "\n",
    "# 还可以如下\n",
    "print(\"============\")\n",
    "print(a.nonzero())\n",
    "print(a.argmax())\n",
    "print(a.argmin())"
   ]
  },
  {
   "cell_type": "code",
   "execution_count": 12,
   "metadata": {},
   "outputs": [
    {
     "output_type": "stream",
     "name": "stdout",
     "text": [
      "[0 1]\nTrue\nFalse\n===============\nTrue\nFalse\n"
     ]
    }
   ],
   "source": [
    "# any , all\n",
    "import numpy as np \n",
    "\n",
    "a = np.array([0,1])\n",
    "print(a)\n",
    "print(a.any())\n",
    "print(a.all())\n",
    "print(\"===============\")\n",
    "print(np.any(a))\n",
    "print(np.all(a))\n"
   ]
  },
  {
   "cell_type": "code",
   "execution_count": 2,
   "metadata": {},
   "outputs": [
    {
     "output_type": "stream",
     "name": "stdout",
     "text": [
      "[1 2 3]\n[1 2 6]\n[1 3 6]\n[1 1]\n"
     ]
    }
   ],
   "source": [
    "# cumprod , cumsum , diff\n",
    "import numpy as np \n",
    "\n",
    "a = np.array([1,2,3])\n",
    "print(a)\n",
    "\n",
    "print(a.cumprod())\n",
    "print(a.cumsum())\n",
    "print(np.diff(a)) # a.diff() 出错  'numpy.ndarray' object has no attribute  'diff'\n"
   ]
  },
  {
   "cell_type": "code",
   "execution_count": 3,
   "metadata": {},
   "outputs": [
    {
     "output_type": "stream",
     "name": "stdout",
     "text": [
      "[0 1 2 3 4]\n4\n2.0\n"
     ]
    }
   ],
   "source": [
    "# 统计函数\n",
    "import numpy as np \n",
    "\n",
    "target = np.arange(5)\n",
    "print(target)\n",
    "\n",
    "print(target.max()) # 最大值\n",
    "print(np.quantile(a,0.5)) # 0.5分位数"
   ]
  },
  {
   "cell_type": "code",
   "execution_count": 6,
   "metadata": {},
   "outputs": [
    {
     "output_type": "stream",
     "name": "stdout",
     "text": [
      "[ 1.  2. nan]\nnan\n2.0\n1.5\n"
     ]
    }
   ],
   "source": [
    "# nan*\n",
    "import numpy as np \n",
    "\n",
    "target = np.array([1,2,np.nan])\n",
    "print(target)\n",
    "\n",
    "print(target.max())\n",
    "print(np.nanmax(target))\n",
    "print(np.nanquantile(target,0.5))"
   ]
  },
  {
   "cell_type": "code",
   "execution_count": 7,
   "metadata": {},
   "outputs": [
    {
     "output_type": "stream",
     "name": "stdout",
     "text": [
      "[1 3 5 9]\n",
      "[ 1  5  3 -9]\n",
      "[[ 11.66666667 -16.66666667]\n",
      " [-16.66666667  38.66666667]]\n",
      "[[ 1.         -0.78470603]\n",
      " [-0.78470603  1.        ]]\n"
     ]
    }
   ],
   "source": [
    "# 协方差和相关系数\n",
    "import numpy as np \n",
    "\n",
    "target1 = np.array([1,3,5,9])\n",
    "print(target1)\n",
    "target2 = np.array([1,5,3,-9])\n",
    "print(target2)\n",
    "\n",
    "print(np.cov(target1,target2)) # 协方差\n",
    "print(np.corrcoef(target1,target2)) # 相关系数"
   ]
  },
  {
   "cell_type": "code",
   "execution_count": 8,
   "metadata": {},
   "outputs": [
    {
     "output_type": "stream",
     "name": "stdout",
     "text": [
      "[[1 2 3]\n [4 5 6]\n [7 8 9]]\n[12 15 18]\n[ 6 15 24]\n"
     ]
    }
   ],
   "source": [
    "# 维度参数 axis\n",
    "import numpy as np \n",
    "\n",
    "target = np.arange(1,10).reshape(3,-1)\n",
    "print(target)\n",
    "\n",
    "# axis = 0 \n",
    "print(target.sum(0))\n",
    "# axis = 1\n",
    "print(target.sum(1))"
   ]
  },
  {
   "cell_type": "code",
   "execution_count": 11,
   "metadata": {},
   "outputs": [
    {
     "output_type": "stream",
     "name": "stdout",
     "text": [
      "[[1. 1.]\n [1. 1.]]\n[[4. 4.]\n [4. 4.]]\n[[0.25 0.25]\n [0.25 0.25]]\n"
     ]
    }
   ],
   "source": [
    "# 广播机制 标量和数组操作\n",
    "import numpy as np \n",
    "\n",
    "one = np.ones((2,2))\n",
    "print(one)\n",
    "\n",
    "res = 3 * one + 1\n",
    "print(res)\n",
    "\n",
    "ress = 1 / res\n",
    "print(ress)"
   ]
  },
  {
   "cell_type": "code",
   "execution_count": 15,
   "metadata": {},
   "outputs": [
    {
     "output_type": "stream",
     "name": "stdout",
     "text": [
      "[2 3]\n[[1. 1.]\n [1. 1.]\n [1. 1.]]\n[[2]\n [3]\n [4]]\n[2]\n====================\n[[2. 3.]\n [2. 3.]\n [2. 3.]]\n[[2. 2.]\n [3. 3.]\n [4. 4.]]\n[[2. 2.]\n [2. 2.]\n [2. 2.]]\n"
     ]
    }
   ],
   "source": [
    "# 广播机制 二维数组之间操作\n",
    "import numpy as np \n",
    "\n",
    "res1 = np.array([2,3])\n",
    "print(res1)\n",
    "res2 = np.ones((3,2))\n",
    "print(res2)\n",
    "res3 = np.array([[2],[3],[4]])\n",
    "print(res3)\n",
    "res4 = np.array([2])\n",
    "print(res4)\n",
    "\n",
    "print(\"====================\")\n",
    "\n",
    "result1 = res1 * res2 # res1扩充第一维度为3\n",
    "print(result1)\n",
    "result2 = res2 * res3 # res3扩充第二维度为2\n",
    "print(result2)\n",
    "result3 = res2 * res4 # res4扩充两次\n",
    "print(result3)"
   ]
  },
  {
   "cell_type": "code",
   "execution_count": 19,
   "metadata": {},
   "outputs": [
    {
     "output_type": "stream",
     "name": "stdout",
     "text": [
      "[1. 1. 1.]\n[[1. 1. 1.]\n [1. 1. 1.]]\n[[1.]\n [1.]]\n[1.]\n=================\n[[2. 2. 2.]\n [2. 2. 2.]]\n[[2. 2. 2.]\n [2. 2. 2.]]\n[[2. 2. 2.]\n [2. 2. 2.]]\n"
     ]
    }
   ],
   "source": [
    "# 广播机制 一维数组与二维数组的操作\n",
    "import numpy as np \n",
    "\n",
    "res1 = np.ones(3)\n",
    "print(res1)\n",
    "res2 = np.ones((2,3))\n",
    "print(res2)\n",
    "res3 = np.ones((2,1))\n",
    "print(res3)\n",
    "res4 = np.ones(1)\n",
    "print(res4)\n",
    "print(\"=================\")\n",
    "result1 = res1 + res2\n",
    "print(result1)\n",
    "result2 = res1 + res3\n",
    "print(result2)\n",
    "result3 = res4 + res2\n",
    "print(result3)"
   ]
  },
  {
   "cell_type": "code",
   "execution_count": 20,
   "metadata": {},
   "outputs": [
    {
     "output_type": "stream",
     "name": "stdout",
     "text": [
      "[1 2 3]\n[1 3 5]\n22\n"
     ]
    }
   ],
   "source": [
    "# 向量内积\n",
    "import numpy as np \n",
    "\n",
    "a = np.array([1,2,3])\n",
    "print(a)\n",
    "b = np.array([1,3,5])\n",
    "print(b)\n",
    "\n",
    "result = a.dot(b)\n",
    "print(result)"
   ]
  },
  {
   "cell_type": "code",
   "execution_count": 23,
   "metadata": {},
   "outputs": [
    {
     "output_type": "stream",
     "name": "stdout",
     "text": [
      "[[0 1]\n [2 3]]\n3.7416573867739413\n5.0\n3.702459173643833\n=====================\n[0 1 2 3]\n3.0\n3.7416573867739413\n3.3019272488946263\n"
     ]
    }
   ],
   "source": [
    "# 范数\n",
    "import numpy as np \n",
    "\n",
    "martix_target = np.arange(4).reshape(-1,2)\n",
    "print(martix_target)\n",
    "print(np.linalg.norm(martix_target,'fro'))\n",
    "print(np.linalg.norm(martix_target,np.inf))\n",
    "print(np.linalg.norm(martix_target,2))\n",
    "\n",
    "print(\"=====================\")\n",
    "\n",
    "vector_target = np.arange(4)\n",
    "print(vector_target)\n",
    "print(np.linalg.norm(vector_target,np.inf))\n",
    "print(np.linalg.norm(vector_target,2))\n",
    "print(np.linalg.norm(vector_target,3))"
   ]
  },
  {
   "cell_type": "code",
   "execution_count": 24,
   "metadata": {},
   "outputs": [
    {
     "output_type": "stream",
     "name": "stdout",
     "text": [
      "[[0 1]\n [2 3]]\n[[-4 -3]\n [-2 -1]]\n[[ -2  -1]\n [-14  -9]]\n"
     ]
    }
   ],
   "source": [
    "# 矩阵乘法\n",
    "import numpy as np \n",
    "\n",
    "a = np.arange(4).reshape(-1,2)\n",
    "print(a)\n",
    "b = np.arange(-4,0).reshape(-1,2)\n",
    "print(b)\n",
    "result = a @ b \n",
    "print(result)"
   ]
  },
  {
   "cell_type": "code",
   "execution_count": 30,
   "metadata": {},
   "outputs": [
    {
     "output_type": "stream",
     "name": "stdout",
     "text": [
      "[[0.99337527 0.36524304 0.85329933]\n [0.45951714 0.80551173 0.30855875]]\n[[0.81295248 0.96892189 0.49708572 0.90129861]\n [0.85357571 0.5645595  0.51336681 0.73962945]\n [0.09469644 0.0047622  0.16766094 0.23720669]]\n[[3.5 1.5 0.5 4.5]\n [1.  5.  3.  9. ]]\nTrue\n"
     ]
    }
   ],
   "source": [
    "# 练习 1  三重循环\n",
    "import numpy as np \n",
    "\n",
    "M1 = np.random.rand(2,3)\n",
    "print(M1)\n",
    "M2 = np.random.rand(3,4)\n",
    "print(M2)\n",
    "res = np.empty((M1.shape[0],M2.shape[1]))\n",
    "print(res)\n",
    "\n",
    "# 矩阵乘法\n",
    "for i in range(M1.shape[0]):\n",
    "    for j in range(M2.shape[1]):\n",
    "        item = 0\n",
    "        for k in range(M1.shape[1]):\n",
    "            item += M1[i][k] * M2[k][j]\n",
    "        res[i][j] = item\n",
    "\n",
    "print(((M1 @ M2 - res) < 1e-15).all())  # 排除数值误差"
   ]
  },
  {
   "cell_type": "code",
   "execution_count": 41,
   "metadata": {},
   "outputs": [
    {
     "output_type": "stream",
     "name": "stdout",
     "text": [
      "[[0. 0.]\n [0. 0.]]\n[[0. 0.]\n [0. 0.]]\n"
     ]
    }
   ],
   "source": [
    "# numpy.empty\n",
    "import numpy as np \n",
    "\n",
    "a = np.empty((2,2))\n",
    "print(a)\n",
    "b = np.zeros((2,2))\n",
    "print(b)"
   ]
  },
  {
   "cell_type": "code",
   "execution_count": 42,
   "metadata": {},
   "outputs": [
    {
     "output_type": "stream",
     "name": "stdout",
     "text": [
      "[[[1 2 3]\n  [4 5 6]]\n\n [[7 8 9]\n  [0 1 2]]\n\n [[3 4 5]\n  [6 7 8]]]\n==================\n(3, 2, 3)\n3\n2\n3\n"
     ]
    }
   ],
   "source": [
    "# numpy.shape\n",
    "import numpy as np \n",
    "\n",
    "x = np.array([[[1,2,3],[4,5,6]],[[7,8,9],[0,1,2]],[[3,4,5],[6,7,8]]])\n",
    "print(x)\n",
    "\n",
    "print(\"==================\")\n",
    "print(x.shape)\n",
    "print(x.shape[0])\n",
    "print(x.shape[1])\n",
    "print(x.shape[2])"
   ]
  },
  {
   "cell_type": "code",
   "execution_count": 54,
   "metadata": {},
   "outputs": [
    {
     "output_type": "stream",
     "name": "stdout",
     "text": [
      "[[0.74403318 0.3472746  0.86100323]\n [0.27047585 0.95432698 0.75657926]]\n[[0.61937321 0.70487147 0.97848333 0.534197  ]\n [0.1272389  0.75809047 0.75214979 0.40443144]\n [0.26317261 0.86496878 0.46693493 0.08052959]]\n[[1.49503606 0.67283691 0.72008662 1.22812569]\n [0.60608374 0.21715434 0.34631747 0.59446545]]\nTrue\n"
     ]
    }
   ],
   "source": [
    "# 列表推导式写矩阵乘法\n",
    "import numpy as np \n",
    "\n",
    "M1 = np.random.rand(2,3)\n",
    "print(M1)\n",
    "M2 = np.random.rand(3,4)\n",
    "print(M2)\n",
    "\n",
    "res = np.empty((M1.shape[0],M2.shape[1]))\n",
    "print(res)\n",
    "\n",
    "res = [[sum([M1[i][k] * M2[k][j] for k in range(M1.shape[1])]) for j in range(M2.shape[1])] for i in range(M1.shape[0])]\n",
    "\n",
    "print(((M1 @ M2 - res) < 1e-15).all())\n"
   ]
  },
  {
   "cell_type": "code",
   "execution_count": 46,
   "metadata": {},
   "outputs": [],
   "source": [
    "x = [str(i) + str(j) for i in [4,5,6] for j in [1,2,3] ]"
   ]
  },
  {
   "cell_type": "code",
   "execution_count": 47,
   "metadata": {},
   "outputs": [
    {
     "output_type": "execute_result",
     "data": {
      "text/plain": [
       "['41', '42', '43', '51', '52', '53', '61', '62', '63']"
      ]
     },
     "metadata": {},
     "execution_count": 47
    }
   ],
   "source": [
    "x"
   ]
  },
  {
   "cell_type": "code",
   "execution_count": 45,
   "metadata": {},
   "outputs": [
    {
     "output_type": "stream",
     "name": "stdout",
     "text": [
      "14\n15\n16\n24\n25\n26\n34\n35\n36\n"
     ]
    }
   ],
   "source": [
    "for i in [1,2,3]:\n",
    "    for j in [4,5,6]:\n",
    "        print(str(i) + str(j))"
   ]
  },
  {
   "cell_type": "code",
   "execution_count": 59,
   "metadata": {},
   "outputs": [
    {
     "output_type": "stream",
     "name": "stdout",
     "text": [
      "[[1 2 3]\n [4 5 6]\n [7 8 9]]\n[[1.83333333 3.66666667 5.5       ]\n [2.46666667 3.08333333 3.7       ]\n [2.65277778 3.03174603 3.41071429]]\n"
     ]
    }
   ],
   "source": [
    "# 更新矩阵 普通方法\n",
    "import numpy as np \n",
    "\n",
    "A = np.arange(1,10).reshape((3,-1))\n",
    "print(A)\n",
    "B = np.empty(A.shape)\n",
    "for i in range(A.shape[0]):\n",
    "    for j in range(A.shape[1]):\n",
    "        item = 0\n",
    "        for k in range(A.shape[1]):\n",
    "            item += 1/A[i][k]\n",
    "        B[i][j] = A[i][j] * item \n",
    "print(B)"
   ]
  },
  {
   "cell_type": "code",
   "execution_count": 60,
   "metadata": {},
   "outputs": [
    {
     "output_type": "stream",
     "name": "stdout",
     "text": [
      "[[1 2 3]\n [4 5 6]\n [7 8 9]]\n[[1.83333333 3.66666667 5.5       ]\n [2.46666667 3.08333333 3.7       ]\n [2.65277778 3.03174603 3.41071429]]\n"
     ]
    }
   ],
   "source": [
    "# 更新矩阵 numpy高效\n",
    "import numpy as np \n",
    "\n",
    "A = np.arange(1,10).reshape((3,-1))\n",
    "print(A)\n",
    "B = A * (1/A).sum(1).reshape(-1,1)\n",
    "print(B)"
   ]
  },
  {
   "cell_type": "code",
   "execution_count": 61,
   "metadata": {},
   "outputs": [
    {
     "output_type": "stream",
     "name": "stdout",
     "text": [
      "[[1.         0.5        0.33333333]\n [0.25       0.2        0.16666667]\n [0.14285714 0.125      0.11111111]]\n"
     ]
    }
   ],
   "source": [
    "print(1/A)"
   ]
  },
  {
   "cell_type": "code",
   "execution_count": 62,
   "metadata": {},
   "outputs": [
    {
     "output_type": "stream",
     "name": "stdout",
     "text": [
      "[ 6 15 24]\n"
     ]
    }
   ],
   "source": [
    "print(A.sum(1))"
   ]
  },
  {
   "cell_type": "code",
   "execution_count": 63,
   "metadata": {},
   "outputs": [
    {
     "output_type": "stream",
     "name": "stdout",
     "text": [
      "[[15 10 13 13 17]\n [19 13 15 12 14]\n [17 16 18 18 11]\n [16 17 17 18 11]\n [15 19 18 19 14]\n [13 10 13 15 10]\n [12 13 18 11 13]\n [13 13 17 10 11]]\n[[14.14211438 13.08145581 15.20277296 13.67071057 11.90294627]\n [15.18197574 14.04332756 16.32062392 14.67590988 12.77816291]\n [16.63778163 15.38994801 17.88561525 16.08318891 14.0034662 ]\n [16.42980936 15.19757366 17.66204506 15.88214905 13.82842288]\n [17.67764298 16.35181976 19.0034662  17.08838821 14.87868284]\n [12.68630849 11.73483536 13.63778163 12.26343154 10.67764298]\n [13.93414211 12.88908146 14.97920277 13.46967071 11.72790295]\n [13.3102253  12.31195841 14.3084922  12.86655113 11.20277296]]\n11.842696601945802\n"
     ]
    }
   ],
   "source": [
    "# 卡方统计量\n",
    "import numpy as np \n",
    "\n",
    "# 设置随机数种子\n",
    "np.random.seed(0)\n",
    "A = np.random.randint(10,20,(8,5))\n",
    "print(A)\n",
    "B = A.sum(0) * A.sum(1).reshape(-1,1) / A.sum()\n",
    "print(B)\n",
    "res = ((A - B) ** 2 / B).sum()\n",
    "print(res)"
   ]
  },
  {
   "cell_type": "code",
   "execution_count": 65,
   "metadata": {},
   "outputs": [
    {
     "output_type": "stream",
     "name": "stdout",
     "text": [
      "[[0 1 1 ... 1 0 1]\n [0 1 1 ... 1 1 0]\n [1 0 0 ... 1 1 1]\n ...\n [1 0 0 ... 1 1 0]\n [0 0 0 ... 1 1 0]\n [0 1 1 ... 1 1 1]]\n[[1 0 1 ... 1 1 0]\n [0 0 0 ... 0 0 1]\n [0 1 0 ... 0 1 1]\n ...\n [1 0 1 ... 1 0 1]\n [0 0 1 ... 0 0 0]\n [1 1 0 ... 0 0 1]]\n[[1 0 0 ... 1 0 0]\n [0 1 1 ... 1 1 0]\n [1 0 1 ... 0 1 1]\n ...\n [0 1 0 ... 1 1 0]\n [1 0 0 ... 1 1 0]\n [0 0 0 ... 0 0 1]]\n==================\n100566\n"
     ]
    }
   ],
   "source": [
    "# 改进矩阵的性能\n",
    "import numpy as np \n",
    "\n",
    "np.random.seed(0)\n",
    "m,n,p = 100,80,50\n",
    "\n",
    "B = np.random.randint(0,2,(m,p))\n",
    "print(B)\n",
    "U = np.random.randint(0,2,(p,n))\n",
    "print(U)\n",
    "Z = np.random.randint(0,2,(m,n))\n",
    "print(Z)\n",
    "print(\"==================\")\n",
    "\n",
    "def solution(B = B,U = U,Z = Z):\n",
    "    L_res = []\n",
    "    for i in range(m):\n",
    "        for j in range(n):\n",
    "            norm_value = ((B[i] - U[:,j]) ** 2).sum()\n",
    "            L_res.append(norm_value * Z[i][j])\n",
    "    return sum(L_res)\n",
    "\n",
    "print(solution(B,U,Z))"
   ]
  },
  {
   "cell_type": "code",
   "execution_count": 66,
   "metadata": {},
   "outputs": [
    {
     "output_type": "stream",
     "name": "stdout",
     "text": [
      "[[0 1 1 ... 1 0 1]\n [0 1 1 ... 1 1 0]\n [1 0 0 ... 1 1 1]\n ...\n [1 0 0 ... 1 1 0]\n [0 0 0 ... 1 1 0]\n [0 1 1 ... 1 1 1]]\n[[1 0 1 ... 1 1 0]\n [0 0 0 ... 0 0 1]\n [0 1 0 ... 0 1 1]\n ...\n [1 0 1 ... 1 0 1]\n [0 0 1 ... 0 0 0]\n [1 1 0 ... 0 0 1]]\n[[1 0 0 ... 1 0 0]\n [0 1 1 ... 1 1 0]\n [1 0 1 ... 0 1 1]\n ...\n [0 1 0 ... 1 1 0]\n [1 0 0 ... 1 1 0]\n [0 0 0 ... 0 0 1]]\n==================\n100566\n"
     ]
    }
   ],
   "source": [
    "# 改进方法\n",
    "import numpy as np \n",
    "\n",
    "np.random.seed(0)\n",
    "m,n,p = 100,80,50\n",
    "\n",
    "B = np.random.randint(0,2,(m,p))\n",
    "print(B)\n",
    "U = np.random.randint(0,2,(p,n))\n",
    "print(U)\n",
    "Z = np.random.randint(0,2,(m,n))\n",
    "print(Z)\n",
    "print(\"==================\")\n",
    "\n",
    "print((((B**2).sum(1).reshape(-1,1) + (U**2).sum(0) - 2*B@U)*Z).sum())"
   ]
  },
  {
   "cell_type": "code",
   "execution_count": 68,
   "metadata": {},
   "outputs": [
    {
     "output_type": "stream",
     "name": "stdout",
     "text": [
      "45.7 ms ± 1.96 ms per loop (mean ± std. dev. of 7 runs, 30 loops each)\n"
     ]
    }
   ],
   "source": [
    "# 对比性能\n",
    "%timeit -n 30 solution(B, U, Z)"
   ]
  },
  {
   "cell_type": "code",
   "execution_count": 69,
   "metadata": {},
   "outputs": [
    {
     "output_type": "stream",
     "name": "stdout",
     "text": [
      "688 µs ± 78.3 µs per loop (mean ± std. dev. of 7 runs, 30 loops each)\n"
     ]
    }
   ],
   "source": [
    "%timeit -n 30 ((np.ones((m,n))*(B**2).sum(1).reshape(-1,1) +\\\n",
    "              np.ones((m,n))*(U**2).sum(0) - 2*B@U)*Z).sum()"
   ]
  },
  {
   "cell_type": "code",
   "execution_count": 70,
   "metadata": {},
   "outputs": [
    {
     "output_type": "stream",
     "name": "stdout",
     "text": [
      "3\n4\n"
     ]
    }
   ],
   "source": [
    "# 求连续整数的最大长度 参考答案真牛皮 自己还差很多点😂\n",
    "import numpy as np \n",
    "\n",
    "f = lambda x:np.diff(np.nonzero(np.r_[1,np.diff(x)!=1,1])).max()\n",
    "print(f([1,2,5,6,7]))\n",
    "print(f([3,2,1,2,3,4,6]))"
   ]
  },
  {
   "cell_type": "code",
   "execution_count": null,
   "metadata": {},
   "outputs": [],
   "source": []
  }
 ],
 "metadata": {
  "kernelspec": {
   "display_name": "Python 3",
   "language": "python",
   "name": "python3"
  },
  "language_info": {
   "codemirror_mode": {
    "name": "ipython",
    "version": 3
   },
   "file_extension": ".py",
   "mimetype": "text/x-python",
   "name": "python",
   "nbconvert_exporter": "python",
   "pygments_lexer": "ipython3",
   "version": "3.7.3-final"
  },
  "varInspector": {
   "cols": {
    "lenName": 16,
    "lenType": 16,
    "lenVar": 40
   },
   "kernels_config": {
    "python": {
     "delete_cmd_postfix": "",
     "delete_cmd_prefix": "del ",
     "library": "var_list.py",
     "varRefreshCmd": "print(var_dic_list())"
    },
    "r": {
     "delete_cmd_postfix": ") ",
     "delete_cmd_prefix": "rm(",
     "library": "var_list.r",
     "varRefreshCmd": "cat(var_dic_list()) "
    }
   },
   "types_to_exclude": [
    "module",
    "function",
    "builtin_function_or_method",
    "instance",
    "_Feature"
   ],
   "window_display": false
  }
 },
 "nbformat": 4,
 "nbformat_minor": 4
}