{
 "metadata": {
  "language_info": {
   "codemirror_mode": {
    "name": "ipython",
    "version": 3
   },
   "file_extension": ".py",
   "mimetype": "text/x-python",
   "name": "python",
   "nbconvert_exporter": "python",
   "pygments_lexer": "ipython3",
   "version": "3.7.3-final"
  },
  "orig_nbformat": 2,
  "kernelspec": {
   "name": "python3",
   "display_name": "Python 3",
   "language": "python"
  }
 },
 "nbformat": 4,
 "nbformat_minor": 2,
 "cells": [
  {
   "cell_type": "code",
   "execution_count": 7,
   "metadata": {},
   "outputs": [
    {
     "output_type": "stream",
     "name": "stdout",
     "text": [
      "   col1 col2  col3    col4      col5\n",
      "0     2    a   1.4   apple  2020/1/1\n",
      "1     3    b   3.4  banana  2020/1/2\n",
      "2     6    c   2.5  orange  2020/1/5\n",
      "3     5    d   3.2   lemon  2020/1/7\n",
      "===================================\n",
      "   col1 col2  col3             col4\n",
      "0     2    a   1.4   apple 2020/1/1\n",
      "1     3    b   3.4  banana 2020/1/2\n",
      "2     6    c   2.5  orange 2020/1/5\n",
      "3     5    d   3.2   lemon 2020/1/7\n",
      "===================================\n",
      "   col1 col2  col3    col4      col5\n",
      "0     2    a   1.4   apple  2020/1/1\n",
      "1     3    b   3.4  banana  2020/1/2\n",
      "2     6    c   2.5  orange  2020/1/5\n",
      "3     5    d   3.2   lemon  2020/1/7\n"
     ]
    }
   ],
   "source": [
    "# 导入库 读取文件\n",
    "import numpy as np \n",
    "import pandas as pd \n",
    "\n",
    "df_csv = pd.read_csv('data/my_csv.csv') # 读取csv文件\n",
    "print(df_csv)\n",
    "print(\"===================================\")\n",
    "df_txt = pd.read_table('data/my_table.txt') # 读取txt文件\n",
    "print(df_txt)\n",
    "print(\"===================================\")\n",
    "df_excel = pd.read_excel('data/my_excel.xlsx')\n",
    "print(df_excel)"
   ]
  },
  {
   "cell_type": "code",
   "execution_count": 12,
   "metadata": {},
   "outputs": [
    {
     "output_type": "stream",
     "name": "stdout",
     "text": [
      "      0     1     2                3\n0  col1  col2  col3             col4\n1     2     a   1.4   apple 2020/1/1\n2     3     b   3.4  banana 2020/1/2\n3     6     c   2.5  orange 2020/1/5\n4     5     d   3.2   lemon 2020/1/7\n======================================\n           col3    col4      col5\ncol1 col2                        \n2    a      1.4   apple  2020/1/1\n3    b      3.4  banana  2020/1/2\n6    c      2.5  orange  2020/1/5\n5    d      3.2   lemon  2020/1/7\n======================================\n   col1 col2\n0     2    a\n1     3    b\n2     6    c\n3     5    d\n======================================\n   col1 col2  col3    col4       col5\n0     2    a   1.4   apple 2020-01-01\n1     3    b   3.4  banana 2020-01-02\n2     6    c   2.5  orange 2020-01-05\n3     5    d   3.2   lemon 2020-01-07\n======================================\n   col1 col2  col3    col4      col5\n0     2    a   1.4   apple  2020/1/1\n1     3    b   3.4  banana  2020/1/2\n"
     ]
    }
   ],
   "source": [
    "# 设置参数\n",
    "import numpy as np \n",
    "import pandas as pd \n",
    "\n",
    "df_txt1 = pd.read_table('data/my_table.txt',header = None)\n",
    "print(df_txt1)\n",
    "print(\"======================================\")\n",
    "df_csv1 = pd.read_csv('data/my_csv.csv',index_col = ['col1','col2'])\n",
    "print(df_csv1)\n",
    "print(\"======================================\")\n",
    "df_txt2 = pd.read_table('data/my_table.txt',usecols = ['col1','col2'])\n",
    "print(df_txt2)\n",
    "print(\"======================================\")\n",
    "df_csv2 = pd.read_csv('data/my_csv.csv',parse_dates = ['col5'])\n",
    "print(df_csv2)\n",
    "print(\"======================================\")\n",
    "df_excel1 = pd.read_excel('data/my_excel.xlsx',nrows = 2)\n",
    "print(df_excel1)"
   ]
  },
  {
   "cell_type": "code",
   "execution_count": 13,
   "metadata": {},
   "outputs": [
    {
     "output_type": "stream",
     "name": "stdout",
     "text": [
      "              col1 |||| col2\n0  TS |||| This is an apple.\n1    GQ |||| My name is Bob.\n2         WT |||| Well done!\n3    PT |||| May I help you?\n"
     ]
    }
   ],
   "source": [
    "# 设置参数 sep\n",
    "import numpy as np \n",
    "import pandas as pd \n",
    "\n",
    "df_txt = pd.read_table('data/my_table_special_sep.txt') # 不带sep参数\n",
    "print(df_txt)"
   ]
  },
  {
   "cell_type": "code",
   "execution_count": 18,
   "metadata": {},
   "outputs": [
    {
     "output_type": "stream",
     "name": "stdout",
     "text": [
      "  col1               col2\n0   TS  This is an apple.\n1   GQ    My name is Bob.\n2   WT         Well done!\n3   PT    May I help you?\n"
     ]
    }
   ],
   "source": [
    "# 使用sep 参数\n",
    "import numpy as np \n",
    "import pandas as pd \n",
    "\n",
    "df_txt_sep =  pd.read_table('data/my_table_special_sep.txt',sep = ' \\|\\|\\|\\| ', engine = 'python') # 使用sep参数\n",
    "print(df_txt_sep)"
   ]
  },
  {
   "cell_type": "code",
   "execution_count": 20,
   "metadata": {},
   "outputs": [
    {
     "output_type": "stream",
     "name": "stdout",
     "text": [
      "   col1 col2  col3    col4      col5\n0     2    a   1.4   apple  2020/1/1\n1     3    b   3.4  banana  2020/1/2\n2     6    c   2.5  orange  2020/1/5\n3     5    d   3.2   lemon  2020/1/7\n=======================================\n   col1 col2  col3    col4      col5\n0     2    a   1.4   apple  2020/1/1\n1     3    b   3.4  banana  2020/1/2\n2     6    c   2.5  orange  2020/1/5\n3     5    d   3.2   lemon  2020/1/7\n"
     ]
    }
   ],
   "source": [
    "# 数据写入\n",
    "import numpy as np \n",
    "import pandas as pd \n",
    "\n",
    "df_csv = pd.read_csv('data/my_csv.csv')\n",
    "print(df_csv)\n",
    "df_csv.to_csv('data/yingrushi_csv.csv',index = False)\n",
    "print(\"=======================================\")\n",
    "df_excel = pd.read_excel('data/my_excel.xlsx')\n",
    "print(df_excel)\n",
    "df_excel.to_excel('data/yingrushi_excel.xlsx',index = False)"
   ]
  },
  {
   "cell_type": "code",
   "execution_count": 23,
   "metadata": {},
   "outputs": [
    {
     "output_type": "stream",
     "name": "stdout",
     "text": [
      "   col1 col2  col3             col4\n0     2    a   1.4   apple 2020/1/1\n1     3    b   3.4  banana 2020/1/2\n2     6    c   2.5  orange 2020/1/5\n3     5    d   3.2   lemon 2020/1/7\n"
     ]
    }
   ],
   "source": [
    "# 写入txt文件\n",
    "import numpy as np \n",
    "import pandas as pd \n",
    "\n",
    "df_txt = pd.read_table('data/my_table.txt')\n",
    "print(df_txt)\n",
    "df_txt.to_csv('data/yingrushi_txt.txt',sep = '\\t',index = False)"
   ]
  },
  {
   "cell_type": "code",
   "execution_count": 31,
   "metadata": {},
   "outputs": [
    {
     "output_type": "stream",
     "name": "stdout",
     "text": [
      "   col1 col2  col3    col4      col5\n0     2    a   1.4   apple  2020/1/1\n1     3    b   3.4  banana  2020/1/2\n2     6    c   2.5  orange  2020/1/5\n3     5    d   3.2   lemon  2020/1/7\n=======================\n|    |   col1 | col2   |   col3 | col4   | col5     |\n|---:|-------:|:-------|-------:|:-------|:---------|\n|  0 |      2 | a      |    1.4 | apple  | 2020/1/1 |\n|  1 |      3 | b      |    3.4 | banana | 2020/1/2 |\n|  2 |      6 | c      |    2.5 | orange | 2020/1/5 |\n|  3 |      5 | d      |    3.2 | lemon  | 2020/1/7 |\n=======================\n\\begin{tabular}{lrlrll}\n\\toprule\n{} &  col1 & col2 &  col3 &    col4 &      col5 \\\\\n\\midrule\n0 &     2 &    a &   1.4 &   apple &  2020/1/1 \\\\\n1 &     3 &    b &   3.4 &  banana &  2020/1/2 \\\\\n2 &     6 &    c &   2.5 &  orange &  2020/1/5 \\\\\n3 &     5 &    d &   3.2 &   lemon &  2020/1/7 \\\\\n\\bottomrule\n\\end{tabular}\n\n"
     ]
    }
   ],
   "source": [
    "# 转换为markdown和latex\n",
    "import numpy as np \n",
    "import pandas as pd \n",
    "import tabulate\n",
    "\n",
    "df_csv = pd.read_csv('data/my_csv.csv')\n",
    "print(df_csv)\n",
    "print(\"=======================\")\n",
    "print(df_csv.to_markdown())\n",
    "print(\"=======================\")\n",
    "print(df_csv.to_latex())"
   ]
  },
  {
   "cell_type": "code",
   "execution_count": 1,
   "metadata": {},
   "outputs": [
    {
     "output_type": "stream",
     "name": "stdout",
     "text": [
      "my_idx\nid1              100\n20                 a\nthird    {'dic1': 5}\nName: my_name, dtype: object\n"
     ]
    }
   ],
   "source": [
    "# Series \n",
    "import numpy as np \n",
    "import pandas as pd \n",
    "\n",
    "pd_series = pd.Series(data = [100,'a',{'dic1':5}],index = pd.Index(['id1',20,'third'],name = 'my_idx'),dtype = 'object',name = 'my_name')\n",
    "print(pd_series)"
   ]
  },
  {
   "cell_type": "code",
   "execution_count": 2,
   "metadata": {},
   "outputs": [
    {
     "output_type": "stream",
     "name": "stdout",
     "text": [
      "my_idx\nid1              100\n20                 a\nthird    {'dic1': 5}\nName: my_name, dtype: object\n=====================\n[100 'a' {'dic1': 5}]\nIndex(['id1', 20, 'third'], dtype='object', name='my_idx')\nobject\nmy_name\n"
     ]
    }
   ],
   "source": [
    "import numpy as np \n",
    "import pandas as pd \n",
    "\n",
    "pd_series = pd.Series(data = [100,'a',{'dic1':5}],index = pd.Index(['id1',20,'third'],name = 'my_idx'),dtype = 'object',name = 'my_name')\n",
    "print(pd_series)\n",
    "print(\"=====================\")\n",
    "print(pd_series.values)\n",
    "print(pd_series.index)\n",
    "print(pd_series.dtype)\n",
    "print(pd_series.name)"
   ]
  },
  {
   "cell_type": "code",
   "execution_count": 4,
   "metadata": {},
   "outputs": [
    {
     "output_type": "stream",
     "name": "stdout",
     "text": [
      "my_idx\nid1              100\n20                 a\nthird    {'dic1': 5}\nName: my_name, dtype: object\n=====================\n(3,)\na\n"
     ]
    }
   ],
   "source": [
    "# .shape\n",
    "import numpy as np \n",
    "import pandas as pd \n",
    "\n",
    "pd_series = pd.Series(data = [100,'a',{'dic1':5}],index = pd.Index(['id1',20,'third'],name = 'my_idx'),dtype = 'object',name = 'my_name')\n",
    "print(pd_series)\n",
    "print(\"=====================\")\n",
    "print(pd_series.shape)\n",
    "\n",
    "# 索引\n",
    "print(pd_series[20])"
   ]
  },
  {
   "cell_type": "code",
   "execution_count": 10,
   "metadata": {},
   "outputs": [
    {
     "output_type": "stream",
     "name": "stdout",
     "text": [
      "       col_0 col_1  col_2\nrow_0      1     a    1.2\nrow_1      2     b    2.2\nrow_2      3     c    3.2\n"
     ]
    }
   ],
   "source": [
    "# dataframe\n",
    "import numpy as np \n",
    "import pandas as pd \n",
    "\n",
    "data = [[1,'a',1.2],[2,'b',2.2],[3,'c',3.2]]\n",
    "df = pd.DataFrame(data = data,index = ['row_%d' % i for i in range(3)],columns = ['col_0','col_1','col_2'])\n",
    "print(df)"
   ]
  },
  {
   "cell_type": "code",
   "execution_count": 9,
   "metadata": {},
   "outputs": [
    {
     "output_type": "stream",
     "name": "stdout",
     "text": [
      "       col_0 col_1  col_2\nrow_0      1     a    1.2\nrow_1      2     b    2.2\nrow_2      3     c    3.2\n"
     ]
    }
   ],
   "source": [
    "data = [[1, 'a', 1.2], [2, 'b', 2.2], [3, 'c', 3.2]]\n",
    "df = pd.DataFrame(data = data,index = ['row_%d'%i for i in range(3)],columns=['col_0', 'col_1', 'col_2'])\n",
    "print(df)"
   ]
  },
  {
   "cell_type": "code",
   "execution_count": 11,
   "metadata": {},
   "outputs": [
    {
     "output_type": "stream",
     "name": "stdout",
     "text": [
      "       col_0 col_1  col2\nrow_0      1     a   1.2\nrow_1      2     b   2.2\nrow_2      3     c   3.2\n"
     ]
    }
   ],
   "source": [
    "# 构造dataframe\n",
    "import numpy as np \n",
    "import pandas as pd \n",
    "\n",
    "df = pd.DataFrame(data = {'col_0':[1,2,3],'col_1':list('abc'),'col2':[1.2,2.2,3.2]},index = ['row_%d' % i for i in range(3)])\n",
    "print(df)"
   ]
  },
  {
   "cell_type": "code",
   "execution_count": 16,
   "metadata": {},
   "outputs": [
    {
     "output_type": "stream",
     "name": "stdout",
     "text": [
      "       col_0 col_1  col2\nrow_0      1     a   1.2\nrow_1      2     b   2.2\nrow_2      3     c   3.2\n===============================\nrow_0    1\nrow_1    2\nrow_2    3\nName: col_0, dtype: int64\n===============================\n       col_0 col_1\nrow_0      1     a\nrow_1      2     b\nrow_2      3     c\n<class 'pandas.core.frame.DataFrame'>\n"
     ]
    }
   ],
   "source": [
    "# 索引\n",
    "import numpy as np \n",
    "import pandas as pd \n",
    "\n",
    "df = pd.DataFrame(data = {'col_0':[1,2,3],'col_1':list('abc'),'col2':[1.2,2.2,3.2]},index = ['row_%d' % i for i in range(3)])\n",
    "print(df)\n",
    "print(\"===============================\")\n",
    "print(df['col_0'])\n",
    "print(\"===============================\")\n",
    "print(df[['col_0','col_1']])\n",
    "print(type(df[['col_0','col_1']]))"
   ]
  },
  {
   "cell_type": "code",
   "execution_count": 21,
   "metadata": {},
   "outputs": [
    {
     "output_type": "stream",
     "name": "stdout",
     "text": [
      "       col_0 col_1  col2\nrow_0      1     a   1.2\nrow_1      2     b   2.2\nrow_2      3     c   3.2\n===============================\n[[1 'a' 1.2]\n [2 'b' 2.2]\n [3 'c' 3.2]]\n===============================\nIndex(['row_0', 'row_1', 'row_2'], dtype='object')\n===============================\nIndex(['col_0', 'col_1', 'col2'], dtype='object')\n===============================\ncol_0      int64\ncol_1     object\ncol2     float64\ndtype: object\n===============================\n(3, 3)\n"
     ]
    }
   ],
   "source": [
    "# 索引\n",
    "import numpy as np \n",
    "import pandas as pd \n",
    "\n",
    "df = pd.DataFrame(data = {'col_0':[1,2,3],'col_1':list('abc'),'col2':[1.2,2.2,3.2]},index = ['row_%d' % i for i in range(3)])\n",
    "print(df)\n",
    "print(\"===============================\")\n",
    "print(df.values)\n",
    "print(\"===============================\")\n",
    "print(df.index)\n",
    "print(\"===============================\")\n",
    "print(df.columns)\n",
    "print(\"===============================\")\n",
    "print(df.dtypes)\n",
    "print(\"===============================\")\n",
    "print(df.shape)"
   ]
  },
  {
   "cell_type": "code",
   "execution_count": 22,
   "metadata": {},
   "outputs": [
    {
     "output_type": "stream",
     "name": "stdout",
     "text": [
      "       col_0 col_1  col2\nrow_0      1     a   1.2\nrow_1      2     b   2.2\nrow_2      3     c   3.2\n===============================\n      row_0 row_1 row_2\ncol_0     1     2     3\ncol_1     a     b     c\ncol2    1.2   2.2   3.2\n"
     ]
    }
   ],
   "source": [
    "# 转置\n",
    "import numpy as np \n",
    "import pandas as pd \n",
    "\n",
    "df = pd.DataFrame(data = {'col_0':[1,2,3],'col_1':list('abc'),'col2':[1.2,2.2,3.2]},index = ['row_%d' % i for i in range(3)])\n",
    "print(df)\n",
    "print(\"===============================\")\n",
    "print(df.T)"
   ]
  },
  {
   "cell_type": "code",
   "execution_count": 27,
   "metadata": {},
   "outputs": [
    {
     "output_type": "stream",
     "name": "stdout",
     "text": [
      "<pandas.__getattr__.<locals>.Panel object at 0x0000019092A60320>\n========================\n[[[0.82053113 0.40822766 0.0043119  0.59250126 0.68065678]\n  [0.41462002 0.63850114 0.84972809 0.83815841 0.49665225]\n  [0.69873626 0.3915328  0.96118411 0.28867098 0.16603775]\n  [0.18647815 0.21783024 0.223223   0.87727195 0.5078422 ]]\n\n [[0.72346079 0.72471709 0.62397643 0.60783676 0.17108011]\n  [0.35284973 0.95773571 0.02642248 0.66253958 0.73585733]\n  [0.94741633 0.38742025 0.00119016 0.95563109 0.05178133]\n  [0.05578195 0.05838634 0.04496512 0.66466131 0.92483172]]]\n========================\n<pandas.__getattr__.<locals>.Panel object at 0x0000019092A608D0>\n"
     ]
    }
   ],
   "source": [
    "# 创建Panel\n",
    "import numpy as np \n",
    "import pandas as pd \n",
    "\n",
    "# 创建 空Panel\n",
    "p = pd.Panel()\n",
    "print(p)\n",
    "print(\"========================\")\n",
    "\n",
    "# 从 3Dndarray 创建Panel\n",
    "np.random.seed(20201218)\n",
    "data = np.random.rand(2,4,5)\n",
    "print(data)\n",
    "print(\"========================\")\n",
    "p = pd.Panel()\n",
    "print(p)"
   ]
  },
  {
   "cell_type": "code",
   "execution_count": 32,
   "metadata": {},
   "outputs": [
    {
     "output_type": "execute_result",
     "data": {
      "text/plain": [
       "pandas.__getattr__.<locals>.Panel"
      ]
     },
     "metadata": {},
     "execution_count": 32
    }
   ],
   "source": [
    "type(p)"
   ]
  },
  {
   "cell_type": "code",
   "execution_count": 33,
   "metadata": {},
   "outputs": [
    {
     "output_type": "error",
     "ename": "TypeError",
     "evalue": "Panel() takes no arguments",
     "traceback": [
      "\u001b[1;31m---------------------------------------------------------------------------\u001b[0m",
      "\u001b[1;31mTypeError\u001b[0m                                 Traceback (most recent call last)",
      "\u001b[1;32m<ipython-input-33-f020aa71f947>\u001b[0m in \u001b[0;36m<module>\u001b[1;34m\u001b[0m\n\u001b[0;32m      3\u001b[0m data = {'Item1' : pd.DataFrame(np.random.randn(4, 3)), \n\u001b[0;32m      4\u001b[0m         'Item2' : pd.DataFrame(np.random.randn(4, 2))}\n\u001b[1;32m----> 5\u001b[1;33m \u001b[0mp\u001b[0m \u001b[1;33m=\u001b[0m \u001b[0mpd\u001b[0m\u001b[1;33m.\u001b[0m\u001b[0mPanel\u001b[0m\u001b[1;33m(\u001b[0m\u001b[0mdata\u001b[0m\u001b[1;33m)\u001b[0m\u001b[1;33m\u001b[0m\u001b[1;33m\u001b[0m\u001b[0m\n\u001b[0m\u001b[0;32m      6\u001b[0m \u001b[0mprint\u001b[0m \u001b[1;33m(\u001b[0m\u001b[0mp\u001b[0m\u001b[1;33m[\u001b[0m\u001b[1;34m'Item1'\u001b[0m\u001b[1;33m]\u001b[0m\u001b[1;33m)\u001b[0m\u001b[1;33m\u001b[0m\u001b[1;33m\u001b[0m\u001b[0m\n",
      "\u001b[1;31mTypeError\u001b[0m: Panel() takes no arguments"
     ]
    }
   ],
   "source": []
  },
  {
   "cell_type": "code",
   "execution_count": 35,
   "metadata": {},
   "outputs": [
    {
     "output_type": "stream",
     "name": "stdout",
     "text": [
      "Index(['School', 'Grade', 'Name', 'Gender', 'Height', 'Weight', 'Transfer',\n       'Test_Number', 'Test_Date', 'Time_Record'],\n      dtype='object')\n"
     ]
    }
   ],
   "source": [
    "# 常用函数\n",
    "import numpy as np \n",
    "import pandas as pd\n",
    "\n",
    "df = pd.read_csv('data/learn_pandas.csv')\n",
    "print(df.columns)"
   ]
  },
  {
   "cell_type": "code",
   "execution_count": 1,
   "metadata": {},
   "outputs": [
    {
     "output_type": "stream",
     "name": "stdout",
     "text": [
      "                            School      Grade            Name  Gender  Height  \\\n0    Shanghai Jiao Tong University   Freshman    Gaopeng Yang  Female   158.9   \n1                Peking University   Freshman  Changqiang You    Male   166.5   \n2    Shanghai Jiao Tong University     Senior         Mei Sun    Male   188.9   \n3                 Fudan University  Sophomore    Xiaojuan Sun  Female     NaN   \n4                 Fudan University  Sophomore     Gaojuan You    Male   174.0   \n..                             ...        ...             ...     ...     ...   \n195               Fudan University     Junior    Xiaojuan Sun  Female   153.9   \n196            Tsinghua University     Senior         Li Zhao  Female   160.9   \n197  Shanghai Jiao Tong University     Senior  Chengqiang Chu  Female   153.9   \n198  Shanghai Jiao Tong University     Senior   Chengmei Shen    Male   175.3   \n199            Tsinghua University  Sophomore     Chunpeng Lv    Male   155.7   \n\n     Weight Transfer  \n0      46.0        N  \n1      70.0        N  \n2      89.0        N  \n3      41.0        N  \n4      74.0        N  \n..      ...      ...  \n195    46.0        N  \n196    50.0        N  \n197    45.0        N  \n198    71.0        N  \n199    51.0        N  \n\n[200 rows x 7 columns]\n"
     ]
    }
   ],
   "source": [
    "# 常用函数\n",
    "import numpy as np \n",
    "import pandas as pd\n",
    "\n",
    "df = pd.read_csv('data/learn_pandas.csv')\n",
    "df = df[df.columns[:7]]\n",
    "print(df)"
   ]
  },
  {
   "cell_type": "code",
   "execution_count": 37,
   "metadata": {},
   "outputs": [
    {
     "output_type": "stream",
     "name": "stdout",
     "text": [
      "                          School     Grade            Name  Gender  Height  \\\n0  Shanghai Jiao Tong University  Freshman    Gaopeng Yang  Female   158.9   \n1              Peking University  Freshman  Changqiang You    Male   166.5   \n\n   Weight Transfer  \n0    46.0        N  \n1    70.0        N  \n========================\n                            School      Grade            Name  Gender  Height  \\\n197  Shanghai Jiao Tong University     Senior  Chengqiang Chu  Female   153.9   \n198  Shanghai Jiao Tong University     Senior   Chengmei Shen    Male   175.3   \n199            Tsinghua University  Sophomore     Chunpeng Lv    Male   155.7   \n\n     Weight Transfer  \n197    45.0        N  \n198    71.0        N  \n199    51.0        N  \n"
     ]
    }
   ],
   "source": [
    "# 1.汇总函数\n",
    "import numpy as np \n",
    "import pandas as pd \n",
    "\n",
    "print(df.head(2))\n",
    "print(\"========================\")\n",
    "print(df.tail(3))"
   ]
  },
  {
   "cell_type": "code",
   "execution_count": 38,
   "metadata": {},
   "outputs": [
    {
     "output_type": "stream",
     "name": "stdout",
     "text": [
      "<class 'pandas.core.frame.DataFrame'>\nRangeIndex: 200 entries, 0 to 199\nData columns (total 7 columns):\n #   Column    Non-Null Count  Dtype  \n---  ------    --------------  -----  \n 0   School    200 non-null    object \n 1   Grade     200 non-null    object \n 2   Name      200 non-null    object \n 3   Gender    200 non-null    object \n 4   Height    183 non-null    float64\n 5   Weight    189 non-null    float64\n 6   Transfer  188 non-null    object \ndtypes: float64(2), object(5)\nmemory usage: 11.1+ KB\nNone\n========================\n           Height      Weight\ncount  183.000000  189.000000\nmean   163.218033   55.015873\nstd      8.608879   12.824294\nmin    145.400000   34.000000\n25%    157.150000   46.000000\n50%    161.900000   51.000000\n75%    167.500000   65.000000\nmax    193.900000   89.000000\n"
     ]
    }
   ],
   "source": [
    "# info , describe\n",
    "import numpy as np \n",
    "import pandas as pd \n",
    "\n",
    "print(df.info())\n",
    "print(\"========================\")\n",
    "print(df.describe())"
   ]
  },
  {
   "cell_type": "code",
   "execution_count": 2,
   "metadata": {},
   "outputs": [
    {
     "output_type": "stream",
     "name": "stdout",
     "text": [
      "Height    163.218033\nWeight     55.015873\ndtype: float64\nHeight    193.9\nWeight     89.0\ndtype: float64\nHeight    145.4\nWeight     34.0\ndtype: float64\n"
     ]
    }
   ],
   "source": [
    "# 统计函数\n",
    "import numpy as np \n",
    "import pandas as pd \n",
    "\n",
    "df_demo = df[['Height','Weight']]\n",
    "print(df_demo.mean()) # 均值\n",
    "print(df_demo.max()) # 最大值\n",
    "print(df_demo.min()) # 最小值\n"
   ]
  },
  {
   "cell_type": "code",
   "execution_count": 42,
   "metadata": {},
   "outputs": [
    {
     "output_type": "stream",
     "name": "stdout",
     "text": [
      "Height    167.5\nWeight     65.0\nName: 0.75, dtype: float64\nHeight    183\nWeight    189\ndtype: int64\nHeight    193\nWeight      2\ndtype: int64\nHeight    143\nWeight     49\ndtype: int64\n"
     ]
    }
   ],
   "source": [
    "# quantile , count , idxmax \n",
    "import numpy as np \n",
    "import pandas as pd \n",
    "\n",
    "print(df_demo.quantile(0.75))\n",
    "print(df_demo.count())\n",
    "print(df_demo.idxmax())\n",
    "print(df_demo.idxmin())"
   ]
  },
  {
   "cell_type": "code",
   "execution_count": 43,
   "metadata": {},
   "outputs": [
    {
     "output_type": "stream",
     "name": "stdout",
     "text": [
      "0    102.45\n1    118.25\n2    138.95\n3     41.00\n4    124.00\ndtype: float64\n"
     ]
    }
   ],
   "source": [
    "# axis 参数\n",
    "import numpy as np \n",
    "import pandas as pd\n",
    "\n",
    "# 只做演示，身高和体重的均值并没有意义\n",
    "print(df_demo.mean(axis = 1).head()) # axis 按行聚合"
   ]
  },
  {
   "cell_type": "code",
   "execution_count": 44,
   "metadata": {},
   "outputs": [
    {
     "output_type": "stream",
     "name": "stdout",
     "text": [
      "['Shanghai Jiao Tong University' 'Peking University' 'Fudan University'\n 'Tsinghua University']\n4\n"
     ]
    }
   ],
   "source": [
    "# 唯一值函数\n",
    "import numpy as np \n",
    "import pandas as pd \n",
    "\n",
    "print(df['School'].unique())\n",
    "print(df['School'].nunique())"
   ]
  },
  {
   "cell_type": "code",
   "execution_count": 45,
   "metadata": {},
   "outputs": [
    {
     "output_type": "stream",
     "name": "stdout",
     "text": [
      "Tsinghua University              69\nShanghai Jiao Tong University    57\nFudan University                 40\nPeking University                34\nName: School, dtype: int64\n"
     ]
    }
   ],
   "source": [
    "# 唯一值函数\n",
    "import numpy as np \n",
    "import pandas as pd \n",
    "\n",
    "print(df['School'].value_counts())"
   ]
  },
  {
   "cell_type": "code",
   "execution_count": 6,
   "metadata": {},
   "outputs": [
    {
     "output_type": "stream",
     "name": "stdout",
     "text": [
      "    Gender Transfer            Name\n0   Female        N    Gaopeng Yang\n1     Male        N  Changqiang You\n12  Female      NaN        Peng You\n21    Male      NaN   Xiaopeng Shen\n36    Male        Y    Xiaojuan Qin\n43  Female        Y      Gaoli Feng\n=============================\n     Gender Transfer            Name\n147    Male      NaN        Juan You\n150    Male        Y   Chengpeng You\n169  Female        Y   Chengquan Qin\n194  Female      NaN     Yanmei Qian\n197  Female        N  Chengqiang Chu\n199    Male        N     Chunpeng Lv\n=============================\n   Gender Transfer            Name\n0  Female        N    Gaopeng Yang\n1    Male        N  Changqiang You\n2    Male        N         Mei Sun\n4    Male        N     Gaojuan You\n5  Female        N     Xiaoli Qian\n=============================\n0    Shanghai Jiao Tong University\n1                Peking University\n3                 Fudan University\n5              Tsinghua University\nName: School, dtype: object\n"
     ]
    }
   ],
   "source": [
    "# drop_duplicates\n",
    "import numpy as np \n",
    "import pandas as pd \n",
    "\n",
    "df_demo = df[['Gender','Transfer','Name']]\n",
    "print(df_demo.drop_duplicates(['Gender','Transfer']))\n",
    "print(\"=============================\")\n",
    "print(df_demo.drop_duplicates(['Gender','Transfer'],keep = 'last'))\n",
    "print(\"=============================\")\n",
    "print(df_demo.drop_duplicates(['Name','Gender'],keep = False).head())\n",
    "print(\"=============================\")\n",
    "print(df['School'].drop_duplicates()) # 在Series上也可以使用"
   ]
  },
  {
   "cell_type": "code",
   "execution_count": 9,
   "metadata": {},
   "outputs": [
    {
     "output_type": "stream",
     "name": "stdout",
     "text": [
      "0    False\n1    False\n2     True\n3     True\n4     True\ndtype: bool\n=========================\n0    False\n1    False\n2     True\n3    False\n4     True\nName: School, dtype: bool\n"
     ]
    }
   ],
   "source": [
    "# duplicates \n",
    "import numpy as np \n",
    "import pandas as pd \n",
    "\n",
    "print(df_demo.duplicated(['Gender','Transfer']).head())\n",
    "print(\"=========================\")\n",
    "print(df['School'].duplicated().head())  # 在 Series 上也可以使用"
   ]
  },
  {
   "cell_type": "code",
   "execution_count": 11,
   "metadata": {},
   "outputs": [
    {
     "output_type": "stream",
     "name": "stdout",
     "text": [
      "0    0\n1    1\n2    1\n3    0\n4    1\nName: Gender, dtype: int64\n============================\n0    0\n1    1\n2    1\n3    0\n4    1\nName: Gender, dtype: int64\n"
     ]
    }
   ],
   "source": [
    "# 替换函数\n",
    "import numpy as np \n",
    "import pandas as pd \n",
    "\n",
    "df = pd.read_csv('data/learn_pandas.csv')\n",
    "df = df[df.columns[:7]]\n",
    "print(df['Gender'].replace({'Female':0,'Male':1}).head()) # 通过字典替换\n",
    "print(\"============================\")\n",
    "print(df['Gender'].replace(['Female','Male'],[0,1]).head()) # 通过两个列表替换"
   ]
  },
  {
   "cell_type": "code",
   "execution_count": 13,
   "metadata": {},
   "outputs": [
    {
     "output_type": "stream",
     "name": "stdout",
     "text": [
      "0    a\n1    1\n2    b\n3    2\n4    1\n5    1\n6    a\ndtype: object\n=====================\n0    a\n1    a\n2    b\n3    b\n4    b\n5    b\n6    a\ndtype: object\n=====================\n0    a\n1    b\n2    b\n3    a\n4    a\n5    a\n6    a\ndtype: object\n"
     ]
    }
   ],
   "source": [
    "# ffill bfill\n",
    "import numpy as np \n",
    "import pandas as pd \n",
    "\n",
    "s = pd.Series(['a',1,'b',2,1,1,'a'])\n",
    "print(s)\n",
    "print(\"=====================\")\n",
    "print(s.replace([1,2],method = 'ffill'))\n",
    "print(\"=====================\")\n",
    "print(s.replace([1,2],method = 'bfill'))"
   ]
  },
  {
   "cell_type": "code",
   "execution_count": 20,
   "metadata": {},
   "outputs": [
    {
     "output_type": "stream",
     "name": "stdout",
     "text": [
      "0     -1.0000\n1      1.2345\n2    100.0000\n3    -50.0000\ndtype: float64\n=====================\n0    -1.0\n1     NaN\n2     NaN\n3   -50.0\ndtype: float64\n=====================\n0     -1.0\n1    100.0\n2    100.0\n3    -50.0\ndtype: float64\n=====================\n0         NaN\n1      1.2345\n2    100.0000\n3         NaN\ndtype: float64\n=====================\n0    -50.0000\n1      1.2345\n2    100.0000\n3    -50.0000\ndtype: float64\n"
     ]
    }
   ],
   "source": [
    "# 逻辑替换 where mask \n",
    "import numpy as np \n",
    "import pandas as pd \n",
    "\n",
    "s = pd.Series([-1,1.2345,100,-50])\n",
    "print(s)\n",
    "print(\"=====================\")\n",
    "print(s.where(s < 0))\n",
    "print(\"=====================\")\n",
    "print(s.where(s < 0,100))\n",
    "print(\"=====================\")\n",
    "print(s.mask(s < 0))\n",
    "print(\"=====================\")\n",
    "print(s.mask(s < 0,-50))"
   ]
  },
  {
   "cell_type": "code",
   "execution_count": 21,
   "metadata": {},
   "outputs": [
    {
     "output_type": "stream",
     "name": "stdout",
     "text": [
      "0    -50.0000\n1      1.2345\n2    100.0000\n3    -50.0000\ndtype: float64\n"
     ]
    }
   ],
   "source": [
    "# 传入Series索引一致的布尔序列\n",
    "import numpy as np \n",
    "import pandas as pd \n",
    "\n",
    "s = pd.Series([-1,1.2345,100,-50])\n",
    "s_condition = pd.Series([True,False,False,True],index = s.index)\n",
    "print(s.mask(s_condition,-50)) "
   ]
  },
  {
   "cell_type": "code",
   "execution_count": 24,
   "metadata": {},
   "outputs": [
    {
     "output_type": "stream",
     "name": "stdout",
     "text": [
      "0     -1.00\n1      1.23\n2    100.00\n3    -50.00\ndtype: float64\n======================\n0      1.0000\n1      1.2345\n2    100.0000\n3     50.0000\ndtype: float64\n======================\n0    0.0000\n1    1.2345\n2    2.0000\n3    0.0000\ndtype: float64\n"
     ]
    }
   ],
   "source": [
    "# 数值替换\n",
    "import numpy as np \n",
    "import pandas as pd \n",
    "\n",
    "s = pd.Series([-1,1.2345,100,-50]) # 按精度四舍五入\n",
    "print(s.round(2))\n",
    "print(\"======================\")\n",
    "print(s.abs())\n",
    "print(\"======================\")\n",
    "print(s.clip(0,2)) # 前两个数分别表示上下截断边界"
   ]
  },
  {
   "cell_type": "code",
   "execution_count": 26,
   "metadata": {},
   "outputs": [
    {
     "output_type": "stream",
     "name": "stdout",
     "text": [
      "                         Height  Weight\nGrade     Name                         \nJunior    Xiaoli Chu      145.4    34.0\nSenior    Gaomei Lv       147.3    34.0\nSophomore Peng Han        147.8    34.0\nSenior    Changli Lv      148.7    41.0\nSophomore Changjuan You   150.5    40.0\n==========================\n                        Height  Weight\nGrade    Name                         \nSenior   Xiaoqiang Qin   193.9    79.0\n         Mei Sun         188.9    89.0\n         Gaoli Zhao      186.5    83.0\nFreshman Qiang Han       185.3    87.0\nSenior   Qiang Zheng     183.9    87.0\n"
     ]
    }
   ],
   "source": [
    "# 排序函数\n",
    "import numpy as np \n",
    "import pandas as pd \n",
    "\n",
    "df_demo = df[['Grade','Name','Height','Weight']].set_index(['Grade','Name'])\n",
    "# 对身高进行排序\n",
    "print(df_demo.sort_values('Height').head())\n",
    "print(\"==========================\")\n",
    "print(df_demo.sort_values('Height',ascending = False).head())"
   ]
  },
  {
   "cell_type": "code",
   "execution_count": 27,
   "metadata": {},
   "outputs": [
    {
     "output_type": "stream",
     "name": "stdout",
     "text": [
      "                       Height  Weight\nGrade     Name                       \nSophomore Peng Han      147.8    34.0\nSenior    Gaomei Lv     147.3    34.0\nJunior    Xiaoli Chu    145.4    34.0\nSophomore Qiang Zhou    150.5    36.0\nFreshman  Yanqiang Xu   152.4    38.0\n"
     ]
    }
   ],
   "source": [
    "# 多列排序\n",
    "import numpy as np \n",
    "import pandas as pd \n",
    "\n",
    "# 体重相同的情况下，对身高进行排序，并且保持身高降序排列，体重升序排列\n",
    "print(df_demo.sort_values(['Weight','Height'],ascending = [True,False]).head())"
   ]
  },
  {
   "cell_type": "code",
   "execution_count": 28,
   "metadata": {},
   "outputs": [
    {
     "output_type": "stream",
     "name": "stdout",
     "text": [
      "                        Height  Weight\nGrade    Name                         \nFreshman Yanquan Wang    163.5    55.0\n         Yanqiang Xu     152.4    38.0\n         Yanqiang Feng   162.3    51.0\n         Yanpeng Lv        NaN    65.0\n         Yanli Zhang     165.1    52.0\n"
     ]
    }
   ],
   "source": [
    "# 索引排序\n",
    "import numpy as np \n",
    "import pandas as pd \n",
    "\n",
    "print(df_demo.sort_index(level = ['Grade','Name'],ascending = [True,False]).head())"
   ]
  },
  {
   "cell_type": "code",
   "execution_count": 1,
   "metadata": {},
   "outputs": [
    {
     "output_type": "stream",
     "name": "stdout",
     "text": [
      "Height    163.218033\nWeight     55.015873\ndtype: float64\n"
     ]
    }
   ],
   "source": [
    "# apply函数\n",
    "import numpy as np \n",
    "import pandas as pd \n",
    "\n",
    "df = pd.read_csv('data/learn_pandas.csv')\n",
    "df = df[df.columns[:7]]\n",
    "df_demo = df[['Height','Weight']]\n",
    "# 定义函数\n",
    "def my_mean(x):\n",
    "    return x.mean()\n",
    "\n",
    "print(df_demo.apply(my_mean))"
   ]
  },
  {
   "cell_type": "code",
   "execution_count": 2,
   "metadata": {},
   "outputs": [
    {
     "output_type": "stream",
     "name": "stdout",
     "text": [
      "Height    163.218033\nWeight     55.015873\ndtype: float64\n"
     ]
    }
   ],
   "source": [
    "# apply 函数 lambda\n",
    "import numpy as np \n",
    "import pandas as pd \n",
    "\n",
    "print(df_demo.apply(lambda x:x.mean()))"
   ]
  },
  {
   "cell_type": "code",
   "execution_count": 3,
   "metadata": {},
   "outputs": [
    {
     "output_type": "stream",
     "name": "stdout",
     "text": [
      "0    102.45\n1    118.25\n2    138.95\n3     41.00\n4    124.00\ndtype: float64\n"
     ]
    }
   ],
   "source": [
    "# 改变axis = 1 参数\n",
    "import numpy as np \n",
    "import pandas as pd \n",
    "\n",
    "print(df_demo.apply(lambda x:x.mean(),axis = 1).head())"
   ]
  },
  {
   "cell_type": "code",
   "execution_count": 5,
   "metadata": {},
   "outputs": [
    {
     "output_type": "stream",
     "name": "stdout",
     "text": [
      "Height     6.707229\nWeight    10.391870\ndtype: float64\n===================\nHeight     6.707229\nWeight    10.391870\ndtype: float64\n"
     ]
    }
   ],
   "source": [
    "# mad函数\n",
    "import numpy as np \n",
    "import pandas as pd \n",
    "\n",
    "# 普通方法计算 mad 值\n",
    "print(df_demo.apply(lambda x:(x - x.mean()).abs().mean()))\n",
    "\n",
    "print(\"===================\")\n",
    "# 使用内置 mad 函数\n",
    "print(df_demo.mad())"
   ]
  },
  {
   "cell_type": "code",
   "execution_count": 7,
   "metadata": {},
   "outputs": [
    {
     "output_type": "stream",
     "name": "stdout",
     "text": [
      "0    1\n1    2\n2    3\n3    4\n4    5\ndtype: int64\nRolling [window=3,center=False,axis=0]\n"
     ]
    }
   ],
   "source": [
    "# 滑窗对象\n",
    "import numpy as np \n",
    "import pandas as pd \n",
    "\n",
    "s = pd.Series([1,2,3,4,5])\n",
    "print(s)\n",
    "roller = s.rolling(window = 3)\n",
    "print(roller)"
   ]
  },
  {
   "cell_type": "code",
   "execution_count": 9,
   "metadata": {},
   "outputs": [
    {
     "output_type": "stream",
     "name": "stdout",
     "text": [
      "0    1\n1    2\n2    3\n3    4\n4    5\ndtype: int64\n=========================\n0    NaN\n1    NaN\n2    2.0\n3    3.0\n4    4.0\ndtype: float64\n=========================\n0     NaN\n1     NaN\n2     6.0\n3     9.0\n4    12.0\ndtype: float64\n"
     ]
    }
   ],
   "source": [
    "# roller \n",
    "import numpy as np \n",
    "import pandas as pandas \n",
    "\n",
    "s = pd.Series([1,2,3,4,5])\n",
    "print(s)\n",
    "print(\"=========================\")\n",
    "roller = s.rolling(window = 3)\n",
    "print(roller.mean()) # 均值\n",
    "print(\"=========================\")\n",
    "print(roller.sum()) # 求和"
   ]
  },
  {
   "cell_type": "code",
   "execution_count": 10,
   "metadata": {},
   "outputs": [
    {
     "output_type": "stream",
     "name": "stdout",
     "text": [
      "0    1\n1    2\n2    3\n3    4\n4    5\ndtype: int64\n=========================\n0     1\n1     2\n2     6\n3    16\n4    30\ndtype: int64\n==========================\n0     NaN\n1     NaN\n2     2.5\n3     7.0\n4    12.0\ndtype: float64\n==========================\n0         NaN\n1         NaN\n2    0.944911\n3    0.970725\n4    0.995402\ndtype: float64\n"
     ]
    }
   ],
   "source": [
    "# 滑动相关系数和滑动协方差\n",
    "import numpy as np \n",
    "import pandas as pd \n",
    "\n",
    "s = pd.Series([1,2,3,4,5])\n",
    "print(s)\n",
    "print(\"=========================\")\n",
    "roller = s.rolling(window = 3)\n",
    "s2 = pd.Series([1,2,6,16,30])\n",
    "print(s2)\n",
    "print(\"==========================\")\n",
    "\n",
    "print(roller.cov(s2))  # 滑动协方差\n",
    "print(\"==========================\")\n",
    "print(roller.corr(s2))  # 滑动相关系数"
   ]
  },
  {
   "cell_type": "code",
   "execution_count": 12,
   "metadata": {},
   "outputs": [
    {
     "output_type": "stream",
     "name": "stdout",
     "text": [
      "0    NaN\n1    NaN\n2    2.0\n3    3.0\n4    4.0\ndtype: float64\n=======================\n0    NaN\n1    NaN\n2    2.0\n3    3.0\n4    4.0\ndtype: float64\n"
     ]
    }
   ],
   "source": [
    "# 滑动窗口使用 apply \n",
    "import numpy as np \n",
    "import pandas as pd \n",
    "\n",
    "# 不适用 apply 函数\n",
    "print(roller.mean())\n",
    "print(\"=======================\")\n",
    "# 使用 apply 函数\n",
    "print(roller.apply(lambda x:x.mean()))"
   ]
  },
  {
   "cell_type": "code",
   "execution_count": 13,
   "metadata": {},
   "outputs": [
    {
     "output_type": "stream",
     "name": "stdout",
     "text": [
      "0     1\n1     3\n2     6\n3    10\n4    15\ndtype: int64\n======================\n0    NaN\n1    NaN\n2    1.0\n3    3.0\n4    6.0\ndtype: float64\n======================\n0     NaN\n1     NaN\n2     NaN\n3     9.0\n4    12.0\ndtype: float64\n======================\n0         NaN\n1    2.000000\n2    1.000000\n3    0.666667\n4    0.500000\ndtype: float64\n======================\n0     3.0\n1     6.0\n2    10.0\n3    15.0\n4     NaN\ndtype: float64\n======================\n0   -5.0\n1   -7.0\n2   -9.0\n3    NaN\n4    NaN\ndtype: float64\n"
     ]
    }
   ],
   "source": [
    "# 类滑窗函数 \n",
    "import numpy as np \n",
    "import pandas as pd \n",
    "\n",
    "s = pd.Series([1,3,6,10,15])\n",
    "print(s)\n",
    "print(\"======================\")\n",
    "print(s.shift(2))  # shift 函数\n",
    "print(\"======================\")\n",
    "print(s.diff(3))   # diff 函数\n",
    "print(\"======================\")\n",
    "print(s.pct_change())  # pct_change 函数\n",
    "print(\"======================\")\n",
    "print(s.shift(-1))\n",
    "print(\"======================\")\n",
    "print(s.diff(-2))"
   ]
  },
  {
   "cell_type": "code",
   "execution_count": 14,
   "metadata": {},
   "outputs": [
    {
     "output_type": "stream",
     "name": "stdout",
     "text": [
      "0     1\n1     3\n2     6\n3    10\n4    15\ndtype: int64\n======================\n0    NaN\n1    NaN\n2    1.0\n3    3.0\n4    6.0\ndtype: float64\n======================\n0     NaN\n1     NaN\n2     NaN\n3     9.0\n4    12.0\ndtype: float64\n======================\n0         NaN\n1    2.000000\n2    1.000000\n3    0.666667\n4    0.500000\ndtype: float64\n"
     ]
    }
   ],
   "source": [
    "import numpy as np \n",
    "import pandas as pd \n",
    "\n",
    "s = pd.Series([1,3,6,10,15])\n",
    "print(s)\n",
    "print(\"======================\")\n",
    "print(s.rolling(3).apply(lambda x:list(x)[0]))  # s.shift(2)\n",
    "print(\"======================\")\n",
    "print(s.rolling(4).apply(lambda x:list(x)[-1] - list(x)[0])) # s.diff(3)\n",
    "print(\"======================\")\n",
    "def my_pct(x):\n",
    "    L = list(x)\n",
    "    return L[-1]/L[0] - 1\n",
    "\n",
    "print(s.rolling(2).apply(my_pct)) # s.pct_change()"
   ]
  },
  {
   "cell_type": "code",
   "execution_count": 15,
   "metadata": {},
   "outputs": [
    {
     "output_type": "stream",
     "name": "stdout",
     "text": [
      "0    1.000000\n1    2.000000\n2    3.333333\n3    5.000000\ndtype: float64\n"
     ]
    }
   ],
   "source": [
    "# 扩张窗口\n",
    "import numpy as np \n",
    "import pandas as pd \n",
    "\n",
    "s = pd.Series([1,3,6,10])\n",
    "print(s.expanding().mean())"
   ]
  },
  {
   "cell_type": "code",
   "execution_count": 3,
   "metadata": {},
   "outputs": [
    {
     "output_type": "stream",
     "name": "stdout",
     "text": [
      "   #                   Name Type 1  Type 2  ...  Defense  Sp. Atk  Sp. Def  Speed\n0  1              Bulbasaur  Grass  Poison  ...       49       65       65     45\n1  2                Ivysaur  Grass  Poison  ...       63       80       80     60\n2  3               Venusaur  Grass  Poison  ...       83      100      100     80\n3  3  VenusaurMega Venusaur  Grass  Poison  ...      123      122      120     80\n4  4             Charmander   Fire     NaN  ...       43       60       50     65\n\n[5 rows x 11 columns]\n"
     ]
    }
   ],
   "source": [
    "# 练习1 口袋妖怪数据集\n",
    "import numpy as np \n",
    "import pandas as pd \n",
    "\n",
    "df = pd.read_csv('data/Pokemon.csv')\n",
    "print(df.head())"
   ]
  },
  {
   "cell_type": "code",
   "execution_count": 8,
   "metadata": {},
   "outputs": [
    {
     "output_type": "execute_result",
     "data": {
      "text/plain": [
       "0    True\n",
       "1    True\n",
       "2    True\n",
       "3    True\n",
       "4    True\n",
       "5    True\n",
       "6    True\n",
       "7    True\n",
       "8    True\n",
       "9    True\n",
       "dtype: bool"
      ]
     },
     "metadata": {},
     "execution_count": 8
    }
   ],
   "source": [
    "# (1)\n",
    "import numpy as np \n",
    "import pandas as pd \n",
    "\n",
    "df = pd.read_csv('data/Pokemon.csv')\n",
    "\n",
    "df[['HP','Attack','Defense','Sp. Atk','Sp. Def','Speed']].sum(axis = 1).head(10) == df['Total'].head(10)"
   ]
  },
  {
   "cell_type": "code",
   "execution_count": 22,
   "metadata": {},
   "outputs": [
    {
     "output_type": "stream",
     "name": "stdout",
     "text": [
      "   #        Name Type 1  Type 2  ...  Defense  Sp. Atk  Sp. Def  Speed\n0  1   Bulbasaur  Grass  Poison  ...       49       65       65     45\n1  2     Ivysaur  Grass  Poison  ...       63       80       80     60\n2  3    Venusaur  Grass  Poison  ...       83      100      100     80\n4  4  Charmander   Fire     NaN  ...       43       60       50     65\n5  5  Charmeleon   Fire     NaN  ...       58       80       65     80\n\n[5 rows x 11 columns]\n18\nIndex(['Water', 'Normal', 'Grass'], dtype='object')\n143\n188\n"
     ]
    }
   ],
   "source": [
    "# (2)\n",
    "import numpy as np \n",
    "import pandas as pd \n",
    "\n",
    "df = pd.read_csv('data/Pokemon.csv')\n",
    "\n",
    "# 只保留第一条记录\n",
    "df_unique = df.drop_duplicates(['#'],keep = 'first')\n",
    "print(df_unique.head(5))\n",
    "# a. 第一属性的种类数量\n",
    "print(df_unique['Type 1'].nunique())\n",
    "# a. 前三多数量对应的种类\n",
    "print(df_unique['Type 1'].value_counts().index[:3])\n",
    "# b. 第一属性和第二属性的组合种类\n",
    "df_type_sum = df_unique.drop_duplicates(['Type 1','Type 2'])\n",
    "# print(df_type_sum.sum()) # unhashable type: 'list'\n",
    "print(df_type_sum.shape[0])\n",
    "# c. 尚未出现过的属性组合\n",
    "L_full = [i+' '+j for i in df['Type 1'].unique() for j in (df['Type 1'].unique().tolist() + [''])]\n",
    "L_part = [i+' '+j for i, j in zip(df['Type 1'], df['Type 2'].replace(np.nan, ''))]\n",
    "res = set(L_full).difference(set(L_part))\n",
    "print(len(res))"
   ]
  },
  {
   "cell_type": "code",
   "execution_count": 30,
   "metadata": {},
   "outputs": [
    {
     "output_type": "stream",
     "name": "stdout",
     "text": [
      "0    low\n",
      "1    mid\n",
      "2    mid\n",
      "3    mid\n",
      "4    mid\n",
      "Name: Attack, dtype: object\n",
      "================================\n",
      "0    GRASS\n",
      "1    GRASS\n",
      "2    GRASS\n",
      "3    GRASS\n",
      "4     FIRE\n",
      "Name: Type 1, dtype: object\n",
      "0    GRASS\n",
      "1    GRASS\n",
      "2    GRASS\n",
      "3    GRASS\n",
      "4     FIRE\n",
      "Name: Type 1, dtype: object\n",
      "================================\n",
      "       #                 Name  Type 1  ... Sp. Def  Speed  Deviation\n",
      "230  213              Shuckle     Bug  ...     230      5      215.0\n",
      "121  113              Chansey  Normal  ...     105     50      207.5\n",
      "261  242              Blissey  Normal  ...     135     55      190.0\n",
      "333  306    AggronMega Aggron   Steel  ...      80     50      155.0\n",
      "224  208  SteelixMega Steelix   Steel  ...      95     30      145.0\n",
      "\n",
      "[5 rows x 12 columns]\n"
     ]
    }
   ],
   "source": [
    "# (3)\n",
    "import numpy as np \n",
    "import pandas as pd \n",
    "\n",
    "df = pd.read_csv('data/Pokemon.csv')\n",
    "\n",
    "# a. \n",
    "#print(df.mask(df['Attack'] > 120,'high').mask(df['Attack'] < 50,'low').mask(df['Attack'] >= 50 and df['Attack'] <= 120,'mid')) #The truth value of a Series is ambiguous. Use a.empty, a.bool(), a.item(), a.any() or a.all().\n",
    "#print(df['Attack'].mask(df['Attack'] > 120,'high').mask(df['Attack'] < 50,'low').mask(df['Attack'] >= 50 and df['Attack'] <= 120,'mid'))\n",
    "print(df['Attack'].mask(df['Attack']>120, 'high').mask(df['Attack']<50, 'low').mask((50<=df['Attack'])&(df['Attack']<=120), 'mid').head())\n",
    "print(\"================================\")\n",
    "# b.\n",
    "print(df['Type 1'].replace({i:str.upper(i) for i in df['Type 1'].unique()}).head())\n",
    "print(df['Type 1'].apply(lambda x:str.upper(x)).head())\n",
    "print(\"================================\")\n",
    "# c.\n",
    "df['Deviation'] = df[['HP', 'Attack', 'Defense', 'Sp. Atk','Sp. Def', 'Speed']].apply(lambda x:np.max((x-x.median()).abs()), 1)\n",
    "print(df.sort_values('Deviation', ascending=False).head())"
   ]
  },
  {
   "cell_type": "code",
   "execution_count": 32,
   "metadata": {},
   "outputs": [
    {
     "output_type": "stream",
     "name": "stdout",
     "text": [
      "0   -1\n1   -1\n2   -2\n3   -2\n4   -2\ndtype: int32\n0   -1.000000\n1   -1.000000\n2   -1.409836\n3   -1.609756\n4   -1.725845\ndtype: float64\n"
     ]
    }
   ],
   "source": [
    "# 作为扩张窗口的 ewm 窗口\n",
    "import numpy as np \n",
    "import pandas as pd\n",
    "\n",
    "np.random.seed(0)\n",
    "s = pd.Series(np.random.randint(-1,2,30).cumsum())\n",
    "print(s.head())\n",
    "print(s.ewm(alpha=0.2).mean().head())"
   ]
  },
  {
   "cell_type": "code",
   "execution_count": 33,
   "metadata": {},
   "outputs": [
    {
     "output_type": "stream",
     "name": "stdout",
     "text": [
      "0   -1.000000\n1   -1.000000\n2   -1.409836\n3   -1.609756\n4   -1.725845\ndtype: float64\n0   -1.000000\n1   -1.000000\n2   -1.409836\n3   -1.609756\n4   -1.725845\ndtype: float64\n"
     ]
    }
   ],
   "source": [
    "# 1. \n",
    "import numpy as np \n",
    "import pandas as pd \n",
    "\n",
    "np.random.seed(0)\n",
    "s = pd.Series(np.random.randint(-1,2,30).cumsum())\n",
    "print(s.ewm(alpha=0.2).mean().head())\n",
    "\n",
    "def ewm_func(x, alpha=0.2):\n",
    "    win = (1-alpha)**np.arange(x.shape[0])[::-1]\n",
    "    res = (win*x).sum()/win.sum()\n",
    "    return res\n",
    "\n",
    "print(s.expanding().apply(ewm_func).head())"
   ]
  },
  {
   "cell_type": "code",
   "execution_count": 35,
   "metadata": {},
   "outputs": [
    {
     "output_type": "stream",
     "name": "stdout",
     "text": [
      "0         NaN\n1         NaN\n2         NaN\n3   -1.609756\n4   -1.826558\ndtype: float64\n"
     ]
    }
   ],
   "source": [
    "# 2. \n",
    "import numpy as np \n",
    "import pandas as pd \n",
    "\n",
    "np.random.seed(0)\n",
    "s = pd.Series(np.random.randint(-1,2,30).cumsum())\n",
    "\n",
    "def ewm_func(x, alpha=0.2):\n",
    "    win = (1-alpha)**np.arange(x.shape[0])[::-1]\n",
    "    res = (win*x).sum()/win.sum()\n",
    "    return res\n",
    "\n",
    "print(s.rolling(window=4).apply(ewm_func).head())"
   ]
  },
  {
   "cell_type": "code",
   "execution_count": null,
   "metadata": {},
   "outputs": [],
   "source": []
  }
 ]
}