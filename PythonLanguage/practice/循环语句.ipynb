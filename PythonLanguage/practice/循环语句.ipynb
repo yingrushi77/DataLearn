{
 "cells": [
  {
   "cell_type": "code",
   "execution_count": 3,
   "metadata": {},
   "outputs": [
    {
     "name": "stdout",
     "output_type": "stream",
     "text": [
      "来玩猜数游戏，只有三次机会哦！\n",
      "请输入0-100的整数：50\n",
      "猜错了，小了，还有 2 次机会\n",
      "请输入0-100的整数：75\n",
      "猜错了，小了，还有 1 次机会\n",
      "请输入0-100的整数：77\n",
      "不错呦，猜对了！\n",
      "一剑破万法，所以要努力练剑哦\n",
      "游戏结束！\n"
     ]
    }
   ],
   "source": [
    "time = 3\n",
    "true_num = 77\n",
    "print(\"来玩猜数游戏，只有三次机会哦！\")\n",
    "while time > 0:\n",
    "    time = time - 1\n",
    "    guess_num = int(input(\"请输入0-100的整数：\"))\n",
    "    if guess_num == true_num:\n",
    "        print(\"不错呦，猜对了！\")\n",
    "        print(\"一剑破万法，所以要努力练剑哦\")\n",
    "    elif guess_num > true_num:\n",
    "        print(\"猜错了，大了，还有\",time,\"次机会\")\n",
    "    else:\n",
    "        print(\"猜错了，小了，还有\",time,\"次机会\")\n",
    "        \n",
    "print(\"游戏结束！\")\n",
    "    "
   ]
  },
  {
   "cell_type": "code",
   "execution_count": 4,
   "metadata": {},
   "outputs": [
    {
     "name": "stdout",
     "output_type": "stream",
     "text": [
      "abcd\n",
      "bcd\n",
      "cd\n",
      "d\n"
     ]
    }
   ],
   "source": [
    "string = 'abcd'\n",
    "while string:\n",
    "    print(string)\n",
    "    string = string[1:]\n"
   ]
  },
  {
   "cell_type": "code",
   "execution_count": 5,
   "metadata": {},
   "outputs": [
    {
     "name": "stdout",
     "output_type": "stream",
     "text": [
      "0 is  less than 5\n",
      "1 is  less than 5\n",
      "2 is  less than 5\n",
      "3 is  less than 5\n",
      "4 is  less than 5\n",
      "5 is not less than 5\n"
     ]
    }
   ],
   "source": [
    "count = 0\n",
    "while count < 5:\n",
    "    print(\"%d is  less than 5\" % count)\n",
    "    count = count + 1\n",
    "else:\n",
    "    print(\"%d is not less than 5\" % count)"
   ]
  },
  {
   "cell_type": "code",
   "execution_count": 6,
   "metadata": {},
   "outputs": [
    {
     "name": "stdout",
     "output_type": "stream",
     "text": [
      "0 is  less than 5\n"
     ]
    }
   ],
   "source": [
    "#break 在while正常循环结束后执行，在break后不执行\n",
    "count = 0\n",
    "while count < 5:\n",
    "    print(\"%d is  less than 5\" % count)\n",
    "    count = count + 1\n",
    "    break \n",
    "else:\n",
    "    print(\"%d is not less than 5\" % count)"
   ]
  },
  {
   "cell_type": "code",
   "execution_count": 8,
   "metadata": {},
   "outputs": [
    {
     "name": "stdout",
     "output_type": "stream",
     "text": [
      "吕布\n",
      "赵云\n",
      "典韦\n",
      "关羽\n",
      "马超\n",
      "张飞\n",
      "==================================\n",
      "吕布\n",
      "赵云\n",
      "典韦\n",
      "关羽\n",
      "马超\n",
      "张飞\n"
     ]
    }
   ],
   "source": [
    "#for循环\n",
    "sanguo_character = ['吕布','赵云','典韦','关羽','马超','张飞']\n",
    "for item in sanguo_character :\n",
    "    print(item)\n",
    "print(\"==================================\")   \n",
    "for item in range(len(sanguo_character)):\n",
    "    print(sanguo_character[item])"
   ]
  },
  {
   "cell_type": "code",
   "execution_count": 11,
   "metadata": {},
   "outputs": [
    {
     "name": "stdout",
     "output_type": "stream",
     "text": [
      "a:1 b:2 c:3 d:4 \n",
      "============================\n",
      "a b c d \n",
      "============================\n",
      "1 2 3 4 "
     ]
    }
   ],
   "source": [
    "dic = {'a': 1, 'b': 2, 'c': 3, 'd': 4}\n",
    "\n",
    "for key, value in dic.items():\n",
    "    print(key, value, sep=':', end=' ')\n",
    "print()    \n",
    "print(\"============================\")\n",
    "\n",
    "for key in dic.keys():\n",
    "    print(key, end=' ')\n",
    "print()\n",
    "\n",
    "print(\"============================\")\n",
    "\n",
    "for value in dic.values():\n",
    "    print(value, end=' ')"
   ]
  },
  {
   "cell_type": "code",
   "execution_count": 15,
   "metadata": {},
   "outputs": [
    {
     "name": "stdout",
     "output_type": "stream",
     "text": [
      "10 等于 2 * 5\n",
      "11 是一个质数\n",
      "12 等于 2 * 6\n",
      "13 是一个质数\n",
      "14 等于 2 * 7\n",
      "15 等于 3 * 5\n",
      "16 等于 2 * 8\n",
      "17 是一个质数\n",
      "18 等于 2 * 9\n",
      "19 是一个质数\n",
      "=================\n",
      "10 等于 2 * 5\n",
      "11 是一个质数\n",
      "12 等于 2 * 6\n",
      "13 是一个质数\n",
      "14 等于 2 * 7\n",
      "15 等于 3 * 5\n",
      "16 等于 2 * 8\n",
      "17 是一个质数\n",
      "18 等于 2 * 9\n",
      "19 是一个质数\n"
     ]
    }
   ],
   "source": [
    "# for - else 与while - else 类似\n",
    "# 找质数的算法\n",
    "for num in range(10, 20):  # 迭代 10 到 20 之间的数字\n",
    "    for i in range(2, num):  # 根据因子迭代\n",
    "        if num % i == 0:  # 确定第一个因子\n",
    "            j = num / i  # 计算第二个因子\n",
    "            print('%d 等于 %d * %d' % (num, i, j))\n",
    "            break  # 跳出当前循环\n",
    "    else:  # 循环的 else 部分\n",
    "        print(num, '是一个质数')\n",
    "# 其实对于找质数的算法，循环不必循环只数本身(num)，到(根号num即可)\n",
    "print(\"=================\")\n",
    "for num in range(10, 20):  # 迭代 10 到 20 之间的数字\n",
    "    for i in range(2, int(pow(num,0.5)) + 1):  # 根据因子迭代\n",
    "        if num % i == 0:  # 确定第一个因子\n",
    "            j = num / i  # 计算第二个因子\n",
    "            print('%d 等于 %d * %d' % (num, i, j))\n",
    "            break  # 跳出当前循环\n",
    "    else:  # 循环的 else 部分\n",
    "        print(num, '是一个质数')"
   ]
  },
  {
   "cell_type": "code",
   "execution_count": 16,
   "metadata": {},
   "outputs": [
    {
     "name": "stdout",
     "output_type": "stream",
     "text": [
      "2\n",
      "3\n",
      "4\n",
      "5\n",
      "6\n",
      "7\n",
      "8\n",
      "=================\n",
      "0\n",
      "1\n",
      "2\n",
      "3\n",
      "4\n",
      "5\n",
      "6\n",
      "7\n",
      "8\n"
     ]
    }
   ],
   "source": [
    "for i in range(2,9):\n",
    "    print(i)\n",
    "print(\"=================\")   \n",
    "for i in range(9):\n",
    "    print(i)"
   ]
  },
  {
   "cell_type": "code",
   "execution_count": 17,
   "metadata": {},
   "outputs": [
    {
     "name": "stdout",
     "output_type": "stream",
     "text": [
      "[(0, 'Spring'), (1, 'Summer'), (2, 'Fall'), (3, 'Winter')]\n",
      "[(1, 'Spring'), (2, 'Summer'), (3, 'Fall'), (4, 'Winter')]\n"
     ]
    }
   ],
   "source": [
    "#enumerate 函数\n",
    "seasons = ['Spring', 'Summer', 'Fall', 'Winter']\n",
    "lst = list(enumerate(seasons))\n",
    "print(lst)\n",
    "# [(0, 'Spring'), (1, 'Summer'), (2, 'Fall'), (3, 'Winter')]\n",
    "lst = list(enumerate(seasons, start=1))  # 下标从 1 开始\n",
    "print(lst)\n",
    "# [(1, 'Spring'), (2, 'Summer'), (3, 'Fall'), (4, 'Winter')]"
   ]
  },
  {
   "cell_type": "code",
   "execution_count": 18,
   "metadata": {},
   "outputs": [
    {
     "name": "stdout",
     "output_type": "stream",
     "text": [
      "I love Python\n",
      "I love R\n",
      "I love Matlab\n",
      "I love C++\n",
      "Done!\n",
      "1 I love Python\n",
      "2 I love R\n",
      "3 I love Matlab\n",
      "4 I love C++\n",
      "Done!\n"
     ]
    }
   ],
   "source": [
    "languages = ['Python', 'R', 'Matlab', 'C++']\n",
    "for language in languages:\n",
    "    print('I love', language)\n",
    "print('Done!')\n",
    "\n",
    "'''\n",
    "I love Python\n",
    "I love R\n",
    "I love Matlab\n",
    "I love C++\n",
    "Done!\n",
    "'''\n",
    "\n",
    "for i, language in enumerate(languages, 1):\n",
    "    print(i, 'I love', language)\n",
    "print('Done!')\n",
    "\n"
   ]
  },
  {
   "cell_type": "code",
   "execution_count": 19,
   "metadata": {},
   "outputs": [
    {
     "name": "stdout",
     "output_type": "stream",
     "text": [
      "2\n",
      "1\n",
      "4\n",
      "3\n",
      "6\n",
      "5\n",
      "8\n",
      "7\n",
      "10\n",
      "9\n"
     ]
    }
   ],
   "source": [
    "# continue 语句\n",
    "for i in range(10):\n",
    "    if i % 2 != 0:\n",
    "        print(i)\n",
    "        continue\n",
    "    i += 2\n",
    "    print(i)"
   ]
  },
  {
   "cell_type": "code",
   "execution_count": 20,
   "metadata": {},
   "outputs": [
    {
     "ename": "SyntaxError",
     "evalue": "unexpected EOF while parsing (<ipython-input-20-bb0b523d64a8>, line 2)",
     "output_type": "error",
     "traceback": [
      "\u001b[1;36m  File \u001b[1;32m\"<ipython-input-20-bb0b523d64a8>\"\u001b[1;36m, line \u001b[1;32m2\u001b[0m\n\u001b[1;33m    def a_fun():\u001b[0m\n\u001b[1;37m                ^\u001b[0m\n\u001b[1;31mSyntaxError\u001b[0m\u001b[1;31m:\u001b[0m unexpected EOF while parsing\n"
     ]
    }
   ],
   "source": [
    "# pass语句，空操作\n",
    "def a_fun():\n"
   ]
  },
  {
   "cell_type": "code",
   "execution_count": 21,
   "metadata": {},
   "outputs": [],
   "source": [
    "def a_fun():\n",
    "    pass\n"
   ]
  },
  {
   "cell_type": "code",
   "execution_count": 23,
   "metadata": {},
   "outputs": [
    {
     "name": "stdout",
     "output_type": "stream",
     "text": [
      "enter password:999\n",
      "invalid input\n",
      "enter password:000\n",
      "invalid input\n",
      "enter password:567\n",
      "invalid input\n"
     ]
    }
   ],
   "source": [
    "# 一个综合的例子\n",
    "passwdList = ['123', '345', '890']\n",
    "valid = False\n",
    "count = 3\n",
    "while count > 0:\n",
    "    password = input('enter password:')\n",
    "    for item in passwdList:\n",
    "        if password == item:\n",
    "            valid = True\n",
    "            break\n",
    "            \n",
    "    if not valid:\n",
    "        print('invalid input')\n",
    "        count -= 1\n",
    "        continue\n",
    "    else:\n",
    "        break"
   ]
  },
  {
   "cell_type": "code",
   "execution_count": 24,
   "metadata": {},
   "outputs": [
    {
     "name": "stdout",
     "output_type": "stream",
     "text": [
      "1505\n",
      "1540\n",
      "1575\n",
      "1610\n",
      "1645\n",
      "1680\n",
      "1715\n",
      "1750\n",
      "1785\n",
      "1820\n",
      "1855\n",
      "1890\n",
      "1925\n",
      "1960\n",
      "1995\n",
      "2030\n",
      "2065\n",
      "2100\n",
      "2135\n",
      "2170\n",
      "2205\n",
      "2240\n",
      "2275\n",
      "2310\n",
      "2345\n",
      "2380\n",
      "2415\n",
      "2450\n",
      "2485\n",
      "2520\n",
      "2555\n",
      "2590\n",
      "2625\n",
      "2660\n",
      "2695\n"
     ]
    }
   ],
   "source": [
    "#练习题1\n",
    "start_num = 1500\n",
    "stop_num = 2700\n",
    "for item in range(start_num,stop_num + 1):\n",
    "    if item % 5 == 0 and item % 7 == 0 :\n",
    "        print(item)\n",
    "    else :\n",
    "        continue"
   ]
  },
  {
   "cell_type": "code",
   "execution_count": 6,
   "metadata": {},
   "outputs": [
    {
     "name": "stdout",
     "output_type": "stream",
     "text": [
      "这是一个龟兔赛跑问题\n",
      "规则如下：\n",
      "1.输入的值为正整数\n",
      "2.兔子的速度大于乌龟的速度，quit都小于等于100\n",
      "3.赛道长度为两个速度的公倍数且小于等于10000\n",
      "4.兔子骄傲滑铁卢的米数小于等于300，休息的时间小于等于10秒\n",
      "请输入有效数据(一行输入，用空格隔开，分别为兔子的速度、乌龟的速度、滑铁卢米数、休息时间、赛道长度)：10 5 5 2 20\n",
      "比赛结果：\n",
      "D\n",
      "4\n"
     ]
    }
   ],
   "source": [
    "#练习题二 龟兔赛跑\n",
    "print(\"这是一个龟兔赛跑问题\")\n",
    "print(\"规则如下：\")\n",
    "print(\"1.输入的值为正整数\")\n",
    "print(\"2.兔子的速度大于乌龟的速度，quit都小于等于100\")\n",
    "print(\"3.赛道长度为两个速度的公倍数且小于等于10000\")\n",
    "print(\"4.兔子骄傲滑铁卢的米数小于等于300，休息的时间小于等于10秒\")\n",
    "#输入在一行这个要求真是有毒\n",
    "def InputOneLine() :\n",
    "    data  = input(\"请输入有效数据(一行输入，用空格隔开，分别为兔子的速度、乌龟的速度、滑铁卢米数、休息时间、赛道长度)：\")\n",
    "    data1 = []\n",
    "    index = 0\n",
    "    while index < len(data) :\n",
    "        if data[index] != ' ' :\n",
    "            index += 1\n",
    "        else :\n",
    "            data1.append(int(data[0 : index]))\n",
    "            data = data[index + 1 :]\n",
    "            index = 0\n",
    "    else :\n",
    "        data1.append(int(data[0 : index]))\n",
    "    return data1\n",
    "\n",
    "data2 = InputOneLine()\n",
    "v1 = data2[0]\n",
    "v2 = data2[1]\n",
    "t = data2[2]\n",
    "s = data2[3]\n",
    "l = data2[4]\n",
    "T1 = 0 #兔子的比赛时间\n",
    "T2 = 0 #乌龟的比赛时间\n",
    "\n",
    "#验证数据是否符合要求\n",
    "while v1 <= v2 or v1 > 100 :\n",
    "    print(\"兔子和乌龟的速度输入不符合要求，请重新输入！\")\n",
    "    v1 = input(\"兔子的速度：\")  #直接input不香吗🤣\n",
    "    v2 = input(\"乌龟的速度：\")\n",
    "    \n",
    "while t > 300 :\n",
    "    print(\"滑铁卢米数输入不符合要求，请重新输入！\")\n",
    "    t = input(\"滑铁卢米数：\")\n",
    "    \n",
    "while s > 10 :\n",
    "    print(\"输入的休息时间不符合要求，请重新输入！\")\n",
    "    s = input(\"休息时间：\")\n",
    "    \n",
    "while l % v1 != 0 or l % v2 != 0 or l > 10000 :\n",
    "    print(\"输入的赛道长度不符合要求，请重新输入！\")\n",
    "    #print(l)\n",
    "    l = input(\"赛道长度：\")\n",
    "    \n",
    "#比赛开始\n",
    "while v1 * T1 < l and v2 * T2 < l :\n",
    "    if v1 * T1 - v2 * T2 < t :\n",
    "        T1 += 1 \n",
    "        T2 += 1 \n",
    "    else :\n",
    "        s1 = s \n",
    "        while v2 * T2 < l and s1:\n",
    "            T2 += 1 \n",
    "            s1 -= 1 \n",
    "        if v2 * T2 == l :\n",
    "            break\n",
    "            \n",
    "#比赛结果\n",
    "print(\"比赛结果：\")\n",
    "if v1 * T1 > v2 * T2 :\n",
    "    print('R')\n",
    "elif v1 * T1 < v2 * T2 :\n",
    "    print('T')\n",
    "else :\n",
    "    print('D')\n",
    "print(T2)\n"
   ]
  },
  {
   "cell_type": "code",
   "execution_count": 23,
   "metadata": {},
   "outputs": [
    {
     "name": "stdout",
     "output_type": "stream",
     "text": [
      "[123, 234]\n"
     ]
    },
    {
     "data": {
      "text/plain": [
       "int"
      ]
     },
     "execution_count": 23,
     "metadata": {},
     "output_type": "execute_result"
    }
   ],
   "source": [
    "#改了好几次，通过比较笨的方法实现了一行输入，呜呜呜\n",
    "a = '123 234'\n",
    "m = []\n",
    "b = 0\n",
    "while b < len(a):\n",
    "    \n",
    "    if a[b] != ' ' :\n",
    "        b += 1\n",
    "    else :\n",
    "        m.append(int(a[0:b]))\n",
    "        a = a[b + 1:]\n",
    "        b = 0\n",
    "else :\n",
    "    m.append(int(a[0:b]))\n",
    "       \n",
    "print(m)\n",
    "type(m[0])"
   ]
  },
  {
   "cell_type": "code",
   "execution_count": 19,
   "metadata": {},
   "outputs": [
    {
     "data": {
      "text/plain": [
       "'34 56'"
      ]
     },
     "execution_count": 19,
     "metadata": {},
     "output_type": "execute_result"
    }
   ],
   "source": [
    "q = '1234 56'\n",
    "q = q[2 : ]\n",
    "q"
   ]
  },
  {
   "cell_type": "code",
   "execution_count": null,
   "metadata": {},
   "outputs": [],
   "source": [
    "#龟兔赛跑搞了我一会🤣🤣😂"
   ]
  }
 ],
 "metadata": {
  "kernelspec": {
   "display_name": "Python 3",
   "language": "python",
   "name": "python3"
  },
  "language_info": {
   "codemirror_mode": {
    "name": "ipython",
    "version": 3
   },
   "file_extension": ".py",
   "mimetype": "text/x-python",
   "name": "python",
   "nbconvert_exporter": "python",
   "pygments_lexer": "ipython3",
   "version": "3.7.6"
  },
  "varInspector": {
   "cols": {
    "lenName": 16,
    "lenType": 16,
    "lenVar": 40
   },
   "kernels_config": {
    "python": {
     "delete_cmd_postfix": "",
     "delete_cmd_prefix": "del ",
     "library": "var_list.py",
     "varRefreshCmd": "print(var_dic_list())"
    },
    "r": {
     "delete_cmd_postfix": ") ",
     "delete_cmd_prefix": "rm(",
     "library": "var_list.r",
     "varRefreshCmd": "cat(var_dic_list()) "
    }
   },
   "types_to_exclude": [
    "module",
    "function",
    "builtin_function_or_method",
    "instance",
    "_Feature"
   ],
   "window_display": false
  }
 },
 "nbformat": 4,
 "nbformat_minor": 4
}
