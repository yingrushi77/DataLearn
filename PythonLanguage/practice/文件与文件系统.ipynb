{
 "cells": [
  {
   "cell_type": "code",
   "execution_count": 1,
   "metadata": {},
   "outputs": [
    {
     "name": "stdout",
     "output_type": "stream",
     "text": [
      "<_io.TextIOWrapper name='将进酒.txt' mode='r' encoding='cp936'>\n"
     ]
    }
   ],
   "source": [
    "f = open('将进酒.txt')\n",
    "print(f)\n",
    "f.close()"
   ]
  },
  {
   "cell_type": "code",
   "execution_count": 7,
   "metadata": {},
   "outputs": [
    {
     "name": "stdout",
     "output_type": "stream",
     "text": [
      "<_io.TextIOWrapper name='将进酒.txt' mode='r' encoding='utf-8'>\n",
      "君不见，黄河之水天上来，奔流到海不复回。\n",
      "\n",
      "君不见，高堂明镜悲白发，朝如青丝暮成雪。\n",
      "\n",
      "人生得意须尽欢，莫使金樽空对月。\n",
      "\n",
      "天生我材必有用，千金散尽还复来。\n",
      "\n",
      "烹羊宰牛且为乐，会须一饮三百杯。\n",
      "\n",
      "岑夫子，丹丘生，将进酒，杯莫停。\n",
      "\n",
      "与君歌一曲，请君为我倾耳听。\n",
      "\n",
      "钟鼓馔玉不足贵，但愿长醉不复醒。\n",
      "\n",
      "古来圣贤皆寂寞，惟有饮者留其名。\n",
      "\n",
      "陈王昔时宴平乐，斗酒十千恣欢谑。\n",
      "\n",
      "主人何为言少钱，径须沽取对君酌。\n",
      "\n",
      "五花马，千金裘，呼儿将出换美酒，与尔同销万古愁。\n"
     ]
    }
   ],
   "source": [
    "f = open('将进酒.txt','r',encoding='utf-8')\n",
    "print(f)\n",
    "# <_io.TextIOWrapper name='将进酒.txt' mode='r' encoding='cp936'>\n",
    "\n",
    "for each in f:\n",
    "    print(each)\n",
    "    \n",
    "f.close()"
   ]
  },
  {
   "cell_type": "code",
   "execution_count": 10,
   "metadata": {},
   "outputs": [
    {
     "name": "stdout",
     "output_type": "stream",
     "text": [
      "君不见，黄河之水天上来，奔流到海不复回。\n"
     ]
    }
   ],
   "source": [
    "f = open('将进酒.txt','r',encoding = 'utf-8')\n",
    "line = f.read(20)\n",
    "print(line)\n",
    "f.close()"
   ]
  },
  {
   "cell_type": "code",
   "execution_count": 13,
   "metadata": {},
   "outputs": [
    {
     "name": "stdout",
     "output_type": "stream",
     "text": [
      "君不见，黄河之水天上来，奔流到海不复回。\n",
      "\n"
     ]
    }
   ],
   "source": [
    "f = open('将进酒.txt','r',encoding = 'utf-8')\n",
    "linee = f.readline()\n",
    "print(linee)\n",
    "f.close()"
   ]
  },
  {
   "cell_type": "code",
   "execution_count": 19,
   "metadata": {},
   "outputs": [
    {
     "name": "stdout",
     "output_type": "stream",
     "text": [
      "['君不见，黄河之水天上来，奔流到海不复回。\\n', '君不见，高堂明镜悲白发，朝如青丝暮成雪。\\n', '人生得意须尽欢，莫使金樽空对月。\\n', '天生我材必有用，千金散尽还复来。\\n', '烹羊宰牛且为乐，会须一饮三百杯。\\n', '岑夫子，丹丘生，将进酒，杯莫停。\\n', '与君歌一曲，请君为我倾耳听。\\n', '钟鼓馔玉不足贵，但愿长醉不复醒。\\n', '古来圣贤皆寂寞，惟有饮者留其名。\\n', '陈王昔时宴平乐，斗酒十千恣欢谑。\\n', '主人何为言少钱，径须沽取对君酌。\\n', '五花马，千金裘，呼儿将出换美酒，与尔同销万古愁。']\n",
      "君不见，黄河之水天上来，奔流到海不复回。\n",
      "\n",
      "君不见，高堂明镜悲白发，朝如青丝暮成雪。\n",
      "\n",
      "人生得意须尽欢，莫使金樽空对月。\n",
      "\n",
      "天生我材必有用，千金散尽还复来。\n",
      "\n",
      "烹羊宰牛且为乐，会须一饮三百杯。\n",
      "\n",
      "岑夫子，丹丘生，将进酒，杯莫停。\n",
      "\n",
      "与君歌一曲，请君为我倾耳听。\n",
      "\n",
      "钟鼓馔玉不足贵，但愿长醉不复醒。\n",
      "\n",
      "古来圣贤皆寂寞，惟有饮者留其名。\n",
      "\n",
      "陈王昔时宴平乐，斗酒十千恣欢谑。\n",
      "\n",
      "主人何为言少钱，径须沽取对君酌。\n",
      "\n",
      "五花马，千金裘，呼儿将出换美酒，与尔同销万古愁。\n"
     ]
    }
   ],
   "source": [
    "f = open('将进酒.txt','r',encoding = 'utf-8')\n",
    "lines = f.readlines()\n",
    "print(lines)\n",
    "\n",
    "for item in lines:\n",
    "    item.strip()\n",
    "    print(item)\n",
    "    \n",
    "f.close()"
   ]
  },
  {
   "cell_type": "code",
   "execution_count": 20,
   "metadata": {},
   "outputs": [
    {
     "name": "stdout",
     "output_type": "stream",
     "text": [
      "0\n",
      "君不见，黄河之水天上来，奔流到海不复回。\n",
      "\n",
      "62\n"
     ]
    }
   ],
   "source": [
    "f = open('将进酒.txt','r',encoding = 'utf-8')\n",
    "one = f.tell()\n",
    "print(one)\n",
    "line = f.readline()\n",
    "print(line)\n",
    "two = f.tell()\n",
    "print(two)\n",
    "f.close()"
   ]
  },
  {
   "cell_type": "code",
   "execution_count": 22,
   "metadata": {},
   "outputs": [
    {
     "name": "stdout",
     "output_type": "stream",
     "text": [
      "君不见，黄河之水天上来，奔流到海不复回。\n",
      "\n"
     ]
    }
   ],
   "source": [
    "f = open('将进酒.txt','r',encoding = 'utf-8')\n",
    "f.seek(0)\n",
    "line = f.readline()\n",
    "print(line)\n",
    "f.close()"
   ]
  },
  {
   "cell_type": "code",
   "execution_count": 24,
   "metadata": {},
   "outputs": [
    {
     "name": "stdout",
     "output_type": "stream",
     "text": [
      "16\n",
      "5\n",
      "b'5'\n",
      "13\n",
      "b'd'\n"
     ]
    }
   ],
   "source": [
    "f = open('workfile.txt', 'wb+')\n",
    "print(f.write(b'0123456789abcdef'))  # 16\n",
    "print(f.seek(5))  # 5\n",
    "print(f.read(1))  # b'5'\n",
    "print(f.seek(-3, 2))  # 13\n",
    "print(f.read(1))  # b'd'\n",
    "f.close()"
   ]
  },
  {
   "cell_type": "code",
   "execution_count": 34,
   "metadata": {},
   "outputs": [
    {
     "name": "stdout",
     "output_type": "stream",
     "text": [
      "b'\\xe5\\x90\\x9b\\xe4\\xb8\\x8d\\xe8\\xa7\\x81\\xef\\xbc\\x8c\\xe9\\xbb\\x84\\xe6\\xb2\\xb3\\xe4\\xb9\\x8b\\xe6\\xb0\\xb4\\xe5\\xa4\\xa9\\xe4\\xb8\\x8a\\xe6\\x9d\\xa5\\xef\\xbc\\x8c\\xe5\\xa5\\x94\\xe6\\xb5\\x81\\xe5\\x88\\xb0\\xe6\\xb5\\xb7\\xe4\\xb8\\x8d\\xe5\\xa4\\x8d\\xe5\\x9b\\x9e\\xe3\\x80\\x82\\r\\n'\n",
      "b'\\xe5\\x90\\x9b\\xe4\\xb8\\x8d\\xe8\\xa7\\x81\\xef\\xbc\\x8c\\xe9\\xab\\x98\\xe5\\xa0\\x82\\xe6\\x98\\x8e\\xe9\\x95\\x9c\\xe6\\x82\\xb2\\xe7\\x99\\xbd\\xe5\\x8f\\x91\\xef\\xbc\\x8c\\xe6\\x9c\\x9d\\xe5\\xa6\\x82\\xe9\\x9d\\x92\\xe4\\xb8\\x9d\\xe6\\x9a\\xae\\xe6\\x88\\x90\\xe9\\x9b\\xaa\\xe3\\x80\\x82\\r\\n'\n",
      "b'\\xe4\\xba\\xba\\xe7\\x94\\x9f\\xe5\\xbe\\x97\\xe6\\x84\\x8f\\xe9\\xa1\\xbb\\xe5\\xb0\\xbd\\xe6\\xac\\xa2\\xef\\xbc\\x8c\\xe8\\x8e\\xab\\xe4\\xbd\\xbf\\xe9\\x87\\x91\\xe6\\xa8\\xbd\\xe7\\xa9\\xba\\xe5\\xaf\\xb9\\xe6\\x9c\\x88\\xe3\\x80\\x82\\r\\n'\n",
      "b'\\xe5\\xa4\\xa9\\xe7\\x94\\x9f\\xe6\\x88\\x91\\xe6\\x9d\\x90\\xe5\\xbf\\x85\\xe6\\x9c\\x89\\xe7\\x94\\xa8\\xef\\xbc\\x8c\\xe5\\x8d\\x83\\xe9\\x87\\x91\\xe6\\x95\\xa3\\xe5\\xb0\\xbd\\xe8\\xbf\\x98\\xe5\\xa4\\x8d\\xe6\\x9d\\xa5\\xe3\\x80\\x82\\r\\n'\n",
      "b'\\xe7\\x83\\xb9\\xe7\\xbe\\x8a\\xe5\\xae\\xb0\\xe7\\x89\\x9b\\xe4\\xb8\\x94\\xe4\\xb8\\xba\\xe4\\xb9\\x90\\xef\\xbc\\x8c\\xe4\\xbc\\x9a\\xe9\\xa1\\xbb\\xe4\\xb8\\x80\\xe9\\xa5\\xae\\xe4\\xb8\\x89\\xe7\\x99\\xbe\\xe6\\x9d\\xaf\\xe3\\x80\\x82\\r\\n'\n",
      "b'\\xe5\\xb2\\x91\\xe5\\xa4\\xab\\xe5\\xad\\x90\\xef\\xbc\\x8c\\xe4\\xb8\\xb9\\xe4\\xb8\\x98\\xe7\\x94\\x9f\\xef\\xbc\\x8c\\xe5\\xb0\\x86\\xe8\\xbf\\x9b\\xe9\\x85\\x92\\xef\\xbc\\x8c\\xe6\\x9d\\xaf\\xe8\\x8e\\xab\\xe5\\x81\\x9c\\xe3\\x80\\x82\\r\\n'\n",
      "b'\\xe4\\xb8\\x8e\\xe5\\x90\\x9b\\xe6\\xad\\x8c\\xe4\\xb8\\x80\\xe6\\x9b\\xb2\\xef\\xbc\\x8c\\xe8\\xaf\\xb7\\xe5\\x90\\x9b\\xe4\\xb8\\xba\\xe6\\x88\\x91\\xe5\\x80\\xbe\\xe8\\x80\\xb3\\xe5\\x90\\xac\\xe3\\x80\\x82\\r\\n'\n",
      "b'\\xe9\\x92\\x9f\\xe9\\xbc\\x93\\xe9\\xa6\\x94\\xe7\\x8e\\x89\\xe4\\xb8\\x8d\\xe8\\xb6\\xb3\\xe8\\xb4\\xb5\\xef\\xbc\\x8c\\xe4\\xbd\\x86\\xe6\\x84\\xbf\\xe9\\x95\\xbf\\xe9\\x86\\x89\\xe4\\xb8\\x8d\\xe5\\xa4\\x8d\\xe9\\x86\\x92\\xe3\\x80\\x82\\r\\n'\n",
      "b'\\xe5\\x8f\\xa4\\xe6\\x9d\\xa5\\xe5\\x9c\\xa3\\xe8\\xb4\\xa4\\xe7\\x9a\\x86\\xe5\\xaf\\x82\\xe5\\xaf\\x9e\\xef\\xbc\\x8c\\xe6\\x83\\x9f\\xe6\\x9c\\x89\\xe9\\xa5\\xae\\xe8\\x80\\x85\\xe7\\x95\\x99\\xe5\\x85\\xb6\\xe5\\x90\\x8d\\xe3\\x80\\x82\\r\\n'\n",
      "b'\\xe9\\x99\\x88\\xe7\\x8e\\x8b\\xe6\\x98\\x94\\xe6\\x97\\xb6\\xe5\\xae\\xb4\\xe5\\xb9\\xb3\\xe4\\xb9\\x90\\xef\\xbc\\x8c\\xe6\\x96\\x97\\xe9\\x85\\x92\\xe5\\x8d\\x81\\xe5\\x8d\\x83\\xe6\\x81\\xa3\\xe6\\xac\\xa2\\xe8\\xb0\\x91\\xe3\\x80\\x82\\r\\n'\n",
      "b'\\xe4\\xb8\\xbb\\xe4\\xba\\xba\\xe4\\xbd\\x95\\xe4\\xb8\\xba\\xe8\\xa8\\x80\\xe5\\xb0\\x91\\xe9\\x92\\xb1\\xef\\xbc\\x8c\\xe5\\xbe\\x84\\xe9\\xa1\\xbb\\xe6\\xb2\\xbd\\xe5\\x8f\\x96\\xe5\\xaf\\xb9\\xe5\\x90\\x9b\\xe9\\x85\\x8c\\xe3\\x80\\x82\\r\\n'\n",
      "b'\\xe4\\xba\\x94\\xe8\\x8a\\xb1\\xe9\\xa9\\xac\\xef\\xbc\\x8c\\xe5\\x8d\\x83\\xe9\\x87\\x91\\xe8\\xa3\\x98\\xef\\xbc\\x8c\\xe5\\x91\\xbc\\xe5\\x84\\xbf\\xe5\\xb0\\x86\\xe5\\x87\\xba\\xe6\\x8d\\xa2\\xe7\\xbe\\x8e\\xe9\\x85\\x92\\xef\\xbc\\x8c\\xe4\\xb8\\x8e\\xe5\\xb0\\x94\\xe5\\x90\\x8c\\xe9\\x94\\x80\\xe4\\xb8\\x87\\xe5\\x8f\\xa4\\xe6\\x84\\x81\\xe3\\x80\\x82\\r\\n'\n",
      "b'\\xd7\\xf7\\xd5\\xdf\\xa3\\xba\\xc0\\xee\\xb0\\xd7\\r\\n'\n",
      "b'\\xe4\\xbd\\x9c\\xe8\\x80\\x85\\xef\\xbc\\x9a\\xe6\\x9d\\x8e\\xe7\\x99\\xbd\\r\\n'\n",
      "b'\\xd7\\xf7\\xd5\\xdf\\xa3\\xba\\xc0\\xee\\xb0\\xd7\\r\\n'\n",
      "b'\\xd7\\xf7\\xd5\\xdf\\xa3\\xba\\xc0\\xee\\xb0\\xd7\\r\\n'\n",
      "b'\\xd7\\xf7\\xd5\\xdf\\xa3\\xba\\xc0\\xee\\xb0\\xd7\\r\\n'\n",
      "b'\\xd7\\xf7\\xd5\\xdf\\xa3\\xba\\xc0\\xee\\xb0\\xd7\\r\\n'\n",
      "b'\\xd7\\xf7\\xd5\\xdf\\xa3\\xba\\xc0\\xee\\xb0\\xd7'\n"
     ]
    }
   ],
   "source": [
    "f = open('将进酒.txt', 'r+')\n",
    "str = '\\n作者：李白'\n",
    "f.seek(0, 2)\n",
    "line = f.write(str)\n",
    "f.seek(0, 0)\n",
    "f.close()\n",
    "f = open('将进酒.txt', 'rb+')\n",
    "for each in f:\n",
    "    print(each)\n",
    "\n",
    "# 君不见，黄河之水天上来，奔流到海不复回。\n",
    "# 君不见，高堂明镜悲白发，朝如青丝暮成雪。\n",
    "# 人生得意须尽欢，莫使金樽空对月。\n",
    "# 天生我材必有用，千金散尽还复来。\n",
    "# 烹羊宰牛且为乐，会须一饮三百杯。\n",
    "# 岑夫子，丹丘生，将进酒，杯莫停。\n",
    "# 与君歌一曲，请君为我倾耳听。\n",
    "# 钟鼓馔玉不足贵，但愿长醉不复醒。\n",
    "# 古来圣贤皆寂寞，惟有饮者留其名。\n",
    "# 陈王昔时宴平乐，斗酒十千恣欢谑。\n",
    "# 主人何为言少钱，径须沽取对君酌。\n",
    "# 五花马，千金裘，呼儿将出换美酒，与尔同销万古愁。\n",
    "# 作者：李白\n",
    "\n",
    "f.close()"
   ]
  },
  {
   "cell_type": "code",
   "execution_count": 35,
   "metadata": {},
   "outputs": [
    {
     "name": "stdout",
     "output_type": "stream",
     "text": [
      "小马的程序人生\n",
      "\n",
      "老马的程序人生\n"
     ]
    }
   ],
   "source": [
    "f = open('test.txt', 'w+')\n",
    "seq = ['小马的程序人生\\n', '老马的程序人生']\n",
    "f.writelines(seq)\n",
    "f.seek(0, 0)\n",
    "for each in f:\n",
    "    print(each)\n",
    "    \n",
    "# 小马的程序人生\n",
    "# 老马的程序人生\n",
    "f.close()"
   ]
  },
  {
   "cell_type": "code",
   "execution_count": 1,
   "metadata": {},
   "outputs": [
    {
     "name": "stdout",
     "output_type": "stream",
     "text": [
      "出错啦!not readable\n"
     ]
    }
   ],
   "source": [
    "try:\n",
    "    f = open('myfile.txt', 'w')\n",
    "    for line in f:\n",
    "        print(line)\n",
    "except OSError as error:\n",
    "    print('出错啦!%s' % str(error))\n",
    "finally:\n",
    "    f.close()\n",
    "\n",
    "# 出错啦!not readable"
   ]
  },
  {
   "cell_type": "code",
   "execution_count": 2,
   "metadata": {},
   "outputs": [
    {
     "name": "stdout",
     "output_type": "stream",
     "text": [
      "出错啦!not readable\n"
     ]
    }
   ],
   "source": [
    "try:\n",
    "    with open('myfile.txt', 'w') as f:\n",
    "        for line in f:\n",
    "            print(line)\n",
    "except OSError as error:\n",
    "    print('出错啦!%s' % str(error))\n",
    "\n",
    "# 出错啦!not readable   "
   ]
  },
  {
   "cell_type": "code",
   "execution_count": 3,
   "metadata": {},
   "outputs": [
    {
     "name": "stdout",
     "output_type": "stream",
     "text": [
      "E:\\JupyterWorkPlace\\PythonLanguage\n"
     ]
    }
   ],
   "source": [
    "import os\n",
    "print(os.getcwd())"
   ]
  },
  {
   "cell_type": "code",
   "execution_count": 4,
   "metadata": {},
   "outputs": [
    {
     "data": {
      "text/plain": [
       "['.ipynb_checkpoints',\n",
       " 'const.py',\n",
       " 'datetime模块.ipynb',\n",
       " 'myfile.txt',\n",
       " 'player.txt',\n",
       " 'test.txt',\n",
       " 'testfile.txt',\n",
       " 'workfile.txt',\n",
       " '__pycache__',\n",
       " '位运算.ipynb',\n",
       " '元组.ipynb',\n",
       " '函数与Lambda.ipynb',\n",
       " '列表(List).ipynb',\n",
       " '变量运算符和数据类型.ipynb',\n",
       " '字典.ipynb',\n",
       " '字符串.ipynb',\n",
       " '将进酒.txt',\n",
       " '序列.ipynb',\n",
       " '异常处理.ipynb',\n",
       " '循环语句.ipynb',\n",
       " '文件与文件系统.ipynb',\n",
       " '条件语句.ipynb',\n",
       " '模块.ipynb',\n",
       " '类和对象.ipynb',\n",
       " '集合.ipynb',\n",
       " '魔法方法.ipynb']"
      ]
     },
     "execution_count": 4,
     "metadata": {},
     "output_type": "execute_result"
    }
   ],
   "source": [
    "os.listdir()"
   ]
  },
  {
   "cell_type": "code",
   "execution_count": 5,
   "metadata": {},
   "outputs": [
    {
     "name": "stdout",
     "output_type": "stream",
     "text": [
      ".\n",
      "..\n",
      "\\\n",
      "\r\n",
      "\n",
      "nt\n"
     ]
    }
   ],
   "source": [
    "import os\n",
    "\n",
    "print(os.curdir)  # .\n",
    "print(os.pardir)  # ..\n",
    "print(os.sep)  # \\\n",
    "print(os.linesep)\n",
    "print(os.name)  # nt"
   ]
  },
  {
   "cell_type": "code",
   "execution_count": 6,
   "metadata": {},
   "outputs": [
    {
     "name": "stdout",
     "output_type": "stream",
     "text": [
      "[[1, 1, 'yes'], [1, 1, 'yes'], [1, 0, 'no'], [0, 1, 'no'], [0, 1, 'no']]\n",
      "{0: [1, 2, 3, 4], 1: ('a', 'b'), 2: {'c': 'yes', 'd': 'no'}}\n"
     ]
    }
   ],
   "source": [
    "import pickle\n",
    "\n",
    "dataList = [[1, 1, 'yes'],\n",
    "            [1, 1, 'yes'],\n",
    "            [1, 0, 'no'],\n",
    "            [0, 1, 'no'],\n",
    "            [0, 1, 'no']]\n",
    "dataDic = {0: [1, 2, 3, 4],\n",
    "           1: ('a', 'b'),\n",
    "           2: {'c': 'yes', 'd': 'no'}}\n",
    "\n",
    "# 使用dump()将数据序列化到文件中\n",
    "fw = open(r'.\\dataFile.pkl', 'wb')\n",
    "\n",
    "# Pickle the list using the highest protocol available.\n",
    "pickle.dump(dataList, fw, -1)\n",
    "\n",
    "# Pickle dictionary using protocol 0.\n",
    "pickle.dump(dataDic, fw)\n",
    "fw.close()\n",
    "\n",
    "# 使用load()将数据从文件中序列化读出\n",
    "fr = open('dataFile.pkl', 'rb')\n",
    "data1 = pickle.load(fr)\n",
    "print(data1)\n",
    "data2 = pickle.load(fr)\n",
    "print(data2)\n",
    "fr.close()\n",
    "\n",
    "# [[1, 1, 'yes'], [1, 1, 'yes'], [1, 0, 'no'], [0, 1, 'no'], [0, 1, 'no']]\n",
    "# {0: [1, 2, 3, 4], 1: ('a', 'b'), 2: {'c': 'yes', 'd': 'no'}}"
   ]
  },
  {
   "cell_type": "code",
   "execution_count": 9,
   "metadata": {},
   "outputs": [
    {
     "data": {
      "text/plain": [
       "'\\nopen(file, mode=‘r’, buffering=None, encoding=None, errors=None, newline=None, closefd=True)\\nencoding :编码方式，默认为’gbk’，可将其改为’utf-8’.\\n即使用open(path, ‘r’, encoding = ‘utf-8’) 来打开中文字符文件。\\n\\n'"
      ]
     },
     "execution_count": 9,
     "metadata": {},
     "output_type": "execute_result"
    }
   ],
   "source": [
    "# 练习题\n",
    "'''\n",
    "1.打开中文字符的文档时，会出现乱码，Python自带的打开文件是否可以指定文字编码？还是只能用相关函数？\n",
    "'''\n",
    "\n",
    "'''\n",
    "open(file, mode=‘r’, buffering=None, encoding=None, errors=None, newline=None, closefd=True)\n",
    "encoding :编码方式，默认为’gbk’，可将其改为’utf-8’.\n",
    "即使用open(path, ‘r’, encoding = ‘utf-8’) 来打开中文字符文件。\n",
    "\n",
    "'''"
   ]
  },
  {
   "cell_type": "code",
   "execution_count": 10,
   "metadata": {},
   "outputs": [
    {
     "name": "stdout",
     "output_type": "stream",
     "text": [
      "['Schools are not just a microcosm of society; they mediate it too. The best seek to alleviate the external pressures on their pupils while equipping them better to understand and handle the world outside -- at once sheltering them and broadening their horizons. This is ambitious in any circumstances']\n"
     ]
    }
   ],
   "source": [
    "# 2.\n",
    "'''\n",
    "编写程序查找最长的单词\n",
    "\n",
    "输入文档: res/test.txt\n",
    "'''\n",
    "\n",
    "#def longest_word(filename):\n",
    "    \n",
    "def longest_word(filename):\n",
    "    with open(filename, 'r') as f:\n",
    "        data = f.read().split('\\n')\n",
    "    words = ','.join(data) \n",
    "    words = list(words.split(','))\n",
    "\n",
    "    words = sorted(words, key = lambda x:len(x))\n",
    "    lonword = [i for i in words if len(i) == len(words[-1])]\n",
    "    return lonword\n",
    "\n",
    "\n",
    "lonword=longest_word('CET6Reading.txt')\n",
    "print(lonword)\n"
   ]
  },
  {
   "cell_type": "code",
   "execution_count": 25,
   "metadata": {},
   "outputs": [
    {
     "name": "stdout",
     "output_type": "stream",
     "text": [
      "9\n"
     ]
    }
   ],
   "source": [
    "with open('CET6Reading.txt', 'r') as f:\n",
    "    data = f.read().split('\\n')\n",
    "print(len(data))"
   ]
  },
  {
   "cell_type": "code",
   "execution_count": 18,
   "metadata": {},
   "outputs": [
    {
     "name": "stdout",
     "output_type": "stream",
     "text": [
      "a-b-c\n"
     ]
    }
   ],
   "source": [
    "strr = \"-\"\n",
    "seq = (\"a\", \"b\", \"c\") # 字符串序列\n",
    "print (strr.join( seq ))"
   ]
  },
  {
   "cell_type": "code",
   "execution_count": null,
   "metadata": {},
   "outputs": [],
   "source": []
  }
 ],
 "metadata": {
  "kernelspec": {
   "display_name": "Python 3",
   "language": "python",
   "name": "python3"
  },
  "language_info": {
   "codemirror_mode": {
    "name": "ipython",
    "version": 3
   },
   "file_extension": ".py",
   "mimetype": "text/x-python",
   "name": "python",
   "nbconvert_exporter": "python",
   "pygments_lexer": "ipython3",
   "version": "3.7.6"
  },
  "varInspector": {
   "cols": {
    "lenName": 16,
    "lenType": 16,
    "lenVar": 40
   },
   "kernels_config": {
    "python": {
     "delete_cmd_postfix": "",
     "delete_cmd_prefix": "del ",
     "library": "var_list.py",
     "varRefreshCmd": "print(var_dic_list())"
    },
    "r": {
     "delete_cmd_postfix": ") ",
     "delete_cmd_prefix": "rm(",
     "library": "var_list.r",
     "varRefreshCmd": "cat(var_dic_list()) "
    }
   },
   "types_to_exclude": [
    "module",
    "function",
    "builtin_function_or_method",
    "instance",
    "_Feature"
   ],
   "window_display": false
  }
 },
 "nbformat": 4,
 "nbformat_minor": 4
}
