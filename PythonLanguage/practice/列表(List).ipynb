{
 "cells": [
  {
   "cell_type": "code",
   "execution_count": 1,
   "metadata": {},
   "outputs": [
    {
     "name": "stdout",
     "output_type": "stream",
     "text": [
      "['xiaoming', 'taoqi', 'xiaoxiao', 'zhihuilaoren'] <class 'list'>\n"
     ]
    }
   ],
   "source": [
    "#列表的创建\n",
    "\n",
    "name = ['xiaoming','taoqi','xiaoxiao','zhihuilaoren']\n",
    "print(name,type(name))"
   ]
  },
  {
   "cell_type": "code",
   "execution_count": 2,
   "metadata": {},
   "outputs": [
    {
     "name": "stdout",
     "output_type": "stream",
     "text": [
      "[0, 1, 2, 3, 4, 5, 6, 7, 8, 9] <class 'list'>\n",
      "[2, 4, 6, 8, 10, 12, 14, 16, 18, 20, 22, 24, 26, 28, 30, 32, 34, 36, 38, 40, 42, 44, 46, 48, 50, 52, 54, 56, 58, 60, 62, 64, 66, 68, 70, 72, 74, 76, 78, 80, 82, 84, 86, 88, 90, 92, 94, 96, 98, 100] <class 'list'>\n",
      "[99, 97, 95, 93, 91, 89, 87, 85, 83, 81, 79, 77, 75, 73, 71, 69, 67, 65, 63, 61, 59, 57, 55, 53, 51, 49, 47, 45, 43, 41, 39, 37, 35, 33, 31, 29, 27, 25, 23, 21, 19, 17, 15, 13, 11, 9, 7, 5, 3, 1] <class 'list'>\n"
     ]
    }
   ],
   "source": [
    "x = list(range(10))\n",
    "print(x,type(x))\n",
    "\n",
    "x = list(range(2,101,2))\n",
    "print(x,type(x))\n",
    "\n",
    "x = list(range(99,0,-2))\n",
    "print(x,type(x))"
   ]
  },
  {
   "cell_type": "code",
   "execution_count": 3,
   "metadata": {},
   "outputs": [
    {
     "name": "stdout",
     "output_type": "stream",
     "text": [
      "[77, 77, 77, 77, 77, 77, 77] <class 'list'>\n",
      "[9, 9, 9, 9, 9, 9, 9, 9, 9, 9] <class 'list'>\n",
      "[0, 1, 4, 9, 16, 25, 36, 49, 64] <class 'list'>\n",
      "[3, 9, 15, 21, 27, 33, 39, 45, 51, 57, 63, 69, 75, 81, 87, 93, 99] <class 'list'>\n"
     ]
    }
   ],
   "source": [
    "num = [77] * 7 \n",
    "print(num,type(num))\n",
    "\n",
    "num = [9 for i in range(10)]\n",
    "print(num,type(num))\n",
    "\n",
    "num = [i ** 2 for i in range(9)]\n",
    "print(num,type(num))\n",
    "\n",
    "num = [i for i in range(100) if (i % 2) != 0 and (i % 3) == 0]\n",
    "print(num,type(num))"
   ]
  },
  {
   "cell_type": "code",
   "execution_count": 5,
   "metadata": {},
   "outputs": [
    {
     "name": "stdout",
     "output_type": "stream",
     "text": [
      "[0, 0, 0, 0, 0, 0, 0, 1, 1, 1, 1, 1, 1, 1, 2, 2, 2, 2, 2, 2, 2, 3, 3, 3, 3, 3, 3, 3, 4, 4, 4, 4, 4, 4, 4, 5, 5, 5, 5, 5, 5, 5, 6, 6, 6, 6, 6, 6, 6] <class 'list'>\n",
      "[(0, 0), (0, 1), (0, 2), (0, 3), (0, 4), (0, 5), (0, 6), (1, 0), (1, 1), (1, 2), (1, 3), (1, 4), (1, 5), (1, 6), (2, 0), (2, 1), (2, 2), (2, 3), (2, 4), (2, 5), (2, 6), (3, 0), (3, 1), (3, 2), (3, 3), (3, 4), (3, 5), (3, 6), (4, 0), (4, 1), (4, 2), (4, 3), (4, 4), (4, 5), (4, 6), (5, 0), (5, 1), (5, 2), (5, 3), (5, 4), (5, 5), (5, 6), (6, 0), (6, 1), (6, 2), (6, 3), (6, 4), (6, 5), (6, 6)] <class 'list'>\n"
     ]
    }
   ],
   "source": [
    "array = [i for i in range(7) for j in range(7)]\n",
    "print(array,type(array))\n",
    "\n",
    "array = [(i,j) for i in range(7) for j in range(7)]\n",
    "print(array,type(array))"
   ]
  },
  {
   "cell_type": "code",
   "execution_count": 16,
   "metadata": {},
   "outputs": [
    {
     "name": "stdout",
     "output_type": "stream",
     "text": [
      "['James', 'Antony', 'Vade']\n",
      "香蕉船四兄弟： ['James', 'Antony', 'Vade', 'Paul']\n",
      "['詹姆斯', '杜兰特', '库里', '字母歌', '哈登']\n",
      "['詹姆斯', '杜兰特', '库里', '字母歌', '哈登', '小卡', '东七七', '浓眉哥', '恩比德', '约老师']\n",
      "['詹姆斯', '欧文', '杜兰特', '库里', '字母歌', '哈登', '小卡', '东七七', '浓眉哥', '恩比德', '约老师']\n"
     ]
    }
   ],
   "source": [
    "#添加元素\n",
    "name = ['James','Antony','Vade']\n",
    "print(name)\n",
    "name.append('Paul')\n",
    "print('香蕉船四兄弟：',name)\n",
    "\n",
    "mvp_name = ['詹姆斯','杜兰特','库里','字母歌','哈登']\n",
    "print(mvp_name)\n",
    "mvp_name.extend(['小卡','东七七','浓眉哥','恩比德','约老师'])\n",
    "print(mvp_name)\n",
    "\n",
    "mvp_name.insert(1,'欧文')\n",
    "print(mvp_name)"
   ]
  },
  {
   "cell_type": "code",
   "execution_count": 17,
   "metadata": {},
   "outputs": [
    {
     "name": "stdout",
     "output_type": "stream",
     "text": [
      "['詹姆斯', '欧文', '字母歌', '哈登', '小卡', '东七七', '浓眉哥', '恩比德', '约老师']\n",
      "['詹姆斯', '欧文', '哈登', '小卡', '东七七', '浓眉哥', '恩比德', '约老师'] 字母歌\n",
      "['詹姆斯']\n"
     ]
    }
   ],
   "source": [
    "#删除元素\n",
    "\n",
    "#由于 库里和杜兰特今年没打比赛，所以从mvp榜单中去除\n",
    "mvp_name.remove('库里')\n",
    "mvp_name.remove('杜兰特')\n",
    "print(mvp_name)\n",
    "\n",
    "#字母哥在季后赛中表现拉跨，所以从mvp榜单中去除，并返回\n",
    "lakua_name = mvp_name.pop(2)\n",
    "print(mvp_name,lakua_name)\n",
    "\n",
    "#除了老詹，我认为其他都不行(个人的看法，嘿嘿)\n",
    "del mvp_name[1:]\n",
    "print(mvp_name)"
   ]
  },
  {
   "cell_type": "code",
   "execution_count": 18,
   "metadata": {},
   "outputs": [
    {
     "name": "stdout",
     "output_type": "stream",
     "text": [
      "[(0, 0), (0, 1), (0, 2), (0, 3), (0, 4), (0, 5), (0, 6), (1, 0), (1, 1), (1, 2), (1, 3), (1, 4), (1, 5), (1, 6), (2, 0), (2, 1), (2, 2), (2, 3), (2, 4), (2, 5), (2, 6), (3, 0), (3, 1), (3, 2), (3, 3), (3, 4), (3, 5), (3, 6), (4, 0), (4, 1), (4, 2), (4, 3), (4, 4), (4, 5), (4, 6), (5, 0), (5, 1), (5, 2), (5, 3), (5, 4), (5, 5), (5, 6), (6, 0), (6, 1), (6, 2), (6, 3), (6, 4), (6, 5), (6, 6)]\n",
      "1\n"
     ]
    }
   ],
   "source": [
    "#列表的其他方法\n",
    "\n",
    "print(array)\n",
    "print(array.count((3,3)))\n",
    "\n"
   ]
  },
  {
   "cell_type": "code",
   "execution_count": 19,
   "metadata": {},
   "outputs": [
    {
     "name": "stdout",
     "output_type": "stream",
     "text": [
      "0\n",
      "2\n",
      "4\n"
     ]
    }
   ],
   "source": [
    "list1 = [123, 456] * 5\n",
    "print(list1.index(123))  # 0\n",
    "print(list1.index(123, 1))  # 2\n",
    "print(list1.index(123, 3, 7))  #"
   ]
  },
  {
   "cell_type": "code",
   "execution_count": 20,
   "metadata": {},
   "outputs": [
    {
     "name": "stdout",
     "output_type": "stream",
     "text": [
      "[0, 1, 2, 3, 4, 5, 6, 7, 8, 9]\n",
      "[9, 8, 7, 6, 5, 4, 3, 2, 1, 0]\n"
     ]
    }
   ],
   "source": [
    "num_xixi = [i for i in range(10)]\n",
    "print(num_xixi)\n",
    "num_xixi.reverse()\n",
    "print(num_xixi)"
   ]
  },
  {
   "cell_type": "code",
   "execution_count": 21,
   "metadata": {},
   "outputs": [
    {
     "name": "stdout",
     "output_type": "stream",
     "text": [
      "[123, 213, 456, 789]\n",
      "[789, 456, 213, 123]\n",
      "[(4, 1), (2, 2), (1, 3), (3, 4)]\n",
      "[(1, 3), (2, 2), (3, 4), (4, 1)]\n"
     ]
    }
   ],
   "source": [
    "x = [123, 456, 789, 213]\n",
    "x.sort()\n",
    "print(x)\n",
    "# [123, 213, 456, 789]\n",
    "\n",
    "x.sort(reverse=True)\n",
    "print(x)\n",
    "# [789, 456, 213, 123]\n",
    "\n",
    "\n",
    "# 获取列表的第二个元素\n",
    "def takeSecond(elem):\n",
    "    return elem[1]\n",
    "\n",
    "\n",
    "x = [(2, 2), (3, 4), (4, 1), (1, 3)]\n",
    "x.sort(key=takeSecond)\n",
    "print(x)\n",
    "# [(4, 1), (2, 2), (1, 3), (3, 4)]\n",
    "\n",
    "x.sort(key=lambda a: a[0])\n",
    "print(x)\n",
    "# [(1, 3), (2, 2), (3, 4), (4, 1)]"
   ]
  },
  {
   "cell_type": "code",
   "execution_count": 24,
   "metadata": {},
   "outputs": [
    {
     "name": "stdout",
     "output_type": "stream",
     "text": [
      "[2, 5, 6, 7, 8, 9, 2, 9, 9]\n",
      "[2, 5, 6, 7, 8, 9, 2, 9, 9, 15]\n",
      "[2, 5, 6, 7, 8, 20, 9, 2, 9, 9, 15]\n",
      "[2, 5, 6, 7, 8, 20, 9, 2, 9, 9, 15, 2, 5, 6]\n",
      "[2, 5, 6, 8, 20, 9, 2, 9, 9, 15, 2, 5, 6]\n",
      "[6, 5, 2, 15, 9, 9, 2, 9, 20, 8, 6, 5, 2]\n",
      "[2, 2, 2, 5, 5, 6, 6, 8, 9, 9, 9, 15, 20]\n",
      "[20, 15, 9, 9, 9, 8, 6, 6, 5, 5, 2, 2, 2]\n"
     ]
    }
   ],
   "source": [
    "#练习题\n",
    "'''\n",
    "lst = [2, 5, 6, 7, 8, 9, 2, 9, 9]\n",
    "\n",
    "请写程序完成下列操作：\n",
    "\n",
    "1. 在列表的末尾增加元素15\n",
    "2. 在列表的中间位置插入元素20\n",
    "3. 将列表[2, 5, 6]合并到lst中\n",
    "4. 移除列表中索引为3的元素\n",
    "5. 翻转列表里的所有元素\n",
    "6. 对列表里的元素进行排序，从小到大一次，从大到小一次\n",
    "\n",
    "'''\n",
    "#1\n",
    "lst = [2,5,6,7,8,9,2,9,9]\n",
    "print(lst)\n",
    "lst.append(15)\n",
    "print(lst)\n",
    "lst.insert(int(len(lst) / 2),20)\n",
    "print(lst)\n",
    "lst.extend([2,5,6])\n",
    "print(lst)\n",
    "lst.pop(3)\n",
    "print(lst)\n",
    "lst.reverse()\n",
    "print(lst)\n",
    "lst.sort()\n",
    "print(lst)\n",
    "lst.sort(reverse = True)\n",
    "print(lst)"
   ]
  },
  {
   "cell_type": "code",
   "execution_count": 28,
   "metadata": {},
   "outputs": [
    {
     "name": "stdout",
     "output_type": "stream",
     "text": [
      "[1, [4, 6], True]\n",
      "[2, [8, 12], True]\n"
     ]
    }
   ],
   "source": [
    "#2.\n",
    "'''\n",
    "问题描述：\n",
    "\n",
    "lst = [1, [4, 6], True]\n",
    "\n",
    "请将列表里所有数字修改成原来的两倍\n",
    "'''\n",
    "lst = [1, [4, 6], True]\n",
    "print(lst)\n",
    "for i in range(len(lst)):\n",
    "    if type(lst[i]) == type(1):\n",
    "        lst[i] = lst[i] * 2\n",
    "    elif type(lst[i]) == type([1]):\n",
    "        for j in range(len(lst[i])):\n",
    "            if type(lst[i][j]) == type(1):\n",
    "                lst[i][j] = lst[i][j] * 2\n",
    "    else:\n",
    "        continue\n",
    "    \n",
    "print(lst)\n",
    "        \n",
    "    "
   ]
  },
  {
   "cell_type": "code",
   "execution_count": 30,
   "metadata": {},
   "outputs": [
    {
     "name": "stdout",
     "output_type": "stream",
     "text": [
      "3\n"
     ]
    }
   ],
   "source": [
    "#3.\n",
    "'''\n",
    "leetcode 852题 山脉数组的峰顶索引\n",
    "\n",
    "如果一个数组k符合下面两个属性，则称之为山脉数组\n",
    "\n",
    "数组的长度大于等于3\n",
    "\n",
    "我们把符合下列属性的数组 A 称作山脉：\n",
    "\n",
    "A.length >= 3\n",
    "存在 0 < i < A.length - 1 使得A[0] < A[1] < ... A[i-1] < A[i] > A[i+1] > ... > A[A.length - 1]\n",
    "给定一个确定为山脉的数组，返回任何满足 A[0] < A[1] < ... A[i-1] < A[i] > A[i+1] > ... > A[A.length - 1] 的 i 的值。\n",
    "\n",
    "现在，给定一个山脉数组，求顶峰索引。\n",
    "'''\n",
    "\n",
    "def index_mountain(list):\n",
    "    i = 0;\n",
    "    while(list[i] < list[i + 1]):\n",
    "        i += 1\n",
    "    return i\n",
    "A = [1, 3, 4, 5, 3]\n",
    "result = index_mountain(A)\n",
    "print(result)"
   ]
  },
  {
   "cell_type": "code",
   "execution_count": null,
   "metadata": {},
   "outputs": [],
   "source": []
  }
 ],
 "metadata": {
  "kernelspec": {
   "display_name": "Python 3",
   "language": "python",
   "name": "python3"
  },
  "language_info": {
   "codemirror_mode": {
    "name": "ipython",
    "version": 3
   },
   "file_extension": ".py",
   "mimetype": "text/x-python",
   "name": "python",
   "nbconvert_exporter": "python",
   "pygments_lexer": "ipython3",
   "version": "3.7.6"
  },
  "varInspector": {
   "cols": {
    "lenName": 16,
    "lenType": 16,
    "lenVar": 40
   },
   "kernels_config": {
    "python": {
     "delete_cmd_postfix": "",
     "delete_cmd_prefix": "del ",
     "library": "var_list.py",
     "varRefreshCmd": "print(var_dic_list())"
    },
    "r": {
     "delete_cmd_postfix": ") ",
     "delete_cmd_prefix": "rm(",
     "library": "var_list.r",
     "varRefreshCmd": "cat(var_dic_list()) "
    }
   },
   "types_to_exclude": [
    "module",
    "function",
    "builtin_function_or_method",
    "instance",
    "_Feature"
   ],
   "window_display": false
  }
 },
 "nbformat": 4,
 "nbformat_minor": 4
}
