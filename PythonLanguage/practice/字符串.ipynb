{
 "cells": [
  {
   "cell_type": "code",
   "execution_count": 1,
   "metadata": {},
   "outputs": [
    {
     "name": "stdout",
     "output_type": "stream",
     "text": [
      "let's go\n",
      "let's go\n",
      "C:\\now\n",
      "C:\\Program Files\\Intel\\Wifi\\Help\n"
     ]
    }
   ],
   "source": [
    "#转义字符\n",
    "print('let\\'s go')  # let's go\n",
    "print(\"let's go\")  # let's go\n",
    "print('C:\\\\now')  # C:\\now\n",
    "print(\"C:\\\\Program Files\\\\Intel\\\\Wifi\\\\Help\")\n",
    "# C:\\Program Files\\Intel\\Wifi\\Help"
   ]
  },
  {
   "cell_type": "code",
   "execution_count": 2,
   "metadata": {},
   "outputs": [
    {
     "name": "stdout",
     "output_type": "stream",
     "text": [
      "C:\\Program Files\\Intel\\Wifi\\Help\n"
     ]
    }
   ],
   "source": [
    "#特别 r\n",
    "print(r'C:\\Program Files\\Intel\\Wifi\\Help')  \n",
    "# C:\\Program Files\\Intel\\Wifi\\Help"
   ]
  },
  {
   "cell_type": "code",
   "execution_count": 4,
   "metadata": {},
   "outputs": [
    {
     "name": "stdout",
     "output_type": "stream",
     "text": [
      "这是一个多行字符串的实例\n",
      "多行字符串可以使用制表符\n",
      "TAB ( \t )。\n",
      "也可以使用换行符 [ \n",
      " ]。\n",
      "\n"
     ]
    }
   ],
   "source": [
    "para_str = \"\"\"这是一个多行字符串的实例\n",
    "多行字符串可以使用制表符\n",
    "TAB ( \\t )。\n",
    "也可以使用换行符 [ \\n ]。\n",
    "\"\"\"\n",
    "print(para_str)"
   ]
  },
  {
   "cell_type": "code",
   "execution_count": 6,
   "metadata": {},
   "outputs": [
    {
     "name": "stdout",
     "output_type": "stream",
     "text": [
      "yingrushi Yingrushi\n"
     ]
    }
   ],
   "source": [
    "#字符串的常用内置方法\n",
    "name = 'yingrushi'\n",
    "name1 = name.capitalize()\n",
    "print(name,name1)"
   ]
  },
  {
   "cell_type": "code",
   "execution_count": 7,
   "metadata": {},
   "outputs": [
    {
     "name": "stdout",
     "output_type": "stream",
     "text": [
      "YINGRUSHI yingrushi yINGRUSHI\n"
     ]
    }
   ],
   "source": [
    "name2 = name.upper()\n",
    "name3 = name1.lower()\n",
    "name4 = name1.swapcase()\n",
    "print(name2,name3,name4)"
   ]
  },
  {
   "cell_type": "code",
   "execution_count": 8,
   "metadata": {},
   "outputs": [
    {
     "name": "stdout",
     "output_type": "stream",
     "text": [
      "2 True False True False\n"
     ]
    }
   ],
   "source": [
    "time1 = name.count('i')\n",
    "a = name.endswith('shi')\n",
    "b = name.endswith('sh')\n",
    "c = name.startswith('ying')\n",
    "d = name.startswith('ru')\n",
    "print(time1,a,b,c,d)"
   ]
  },
  {
   "cell_type": "code",
   "execution_count": 9,
   "metadata": {},
   "outputs": [
    {
     "name": "stdout",
     "output_type": "stream",
     "text": [
      "4 -1 1 8\n"
     ]
    }
   ],
   "source": [
    "name_find1 = name.find('ru')\n",
    "name_find2 = name.find('ha')\n",
    "name_rfind1 = name.rfind('i')\n",
    "name_find3 = name.find('i')\n",
    "\n",
    "print(name_find1,name_find2,name_find3,name_rfind1)"
   ]
  },
  {
   "cell_type": "code",
   "execution_count": 10,
   "metadata": {},
   "outputs": [
    {
     "name": "stdout",
     "output_type": "stream",
     "text": [
      "True\n",
      "False\n"
     ]
    }
   ],
   "source": [
    "num_str = '201730010416'\n",
    "print(num_str.isnumeric())\n",
    "num_str += 'xixi'\n",
    "print(num_str.isnumeric())"
   ]
  },
  {
   "cell_type": "code",
   "execution_count": 14,
   "metadata": {},
   "outputs": [
    {
     "name": "stdout",
     "output_type": "stream",
     "text": [
      "java java     java****     java ****java\n"
     ]
    }
   ],
   "source": [
    "str1 = 'java'\n",
    "str2 = str1.ljust(8)\n",
    "str3 = str1.ljust(8,'*')\n",
    "str4 = str1.rjust(8)\n",
    "str5 = str1.rjust(8,'*')\n",
    "print(str1,str2,str3,str4,str5)"
   ]
  },
  {
   "cell_type": "code",
   "execution_count": 16,
   "metadata": {},
   "outputs": [
    {
     "name": "stdout",
     "output_type": "stream",
     "text": [
      "I Love LsgoGroup \n",
      " Love LsgoGroup \n",
      " I Love LsgoGroup\n",
      "I Love LsgoGroup\n",
      "I Love LsgoGrou\n"
     ]
    }
   ],
   "source": [
    "str5 = ' I Love LsgoGroup '\n",
    "print(str5.lstrip())  # 'I Love LsgoGroup '\n",
    "print(str5.lstrip().strip('I'))  # ' Love LsgoGroup '\n",
    "print(str5.rstrip())  # ' I Love LsgoGroup'\n",
    "print(str5.strip())  # 'I Love LsgoGroup'\n",
    "print(str5.strip().strip('p'))  # 'I Love LsgoGrou'"
   ]
  },
  {
   "cell_type": "code",
   "execution_count": 17,
   "metadata": {},
   "outputs": [
    {
     "name": "stdout",
     "output_type": "stream",
     "text": [
      "['www.baidu.com.cn']\n",
      "['www', 'baidu', 'com', 'cn']\n",
      "['www.baidu.com.cn']\n",
      "['www', 'baidu.com.cn']\n",
      "['www', 'baidu', 'com.cn']\n",
      "baidu\n",
      "www\n",
      "baidu\n",
      "com.cn\n"
     ]
    }
   ],
   "source": [
    "u = \"www.baidu.com.cn\"\n",
    "# 使用默认分隔符\n",
    "print(u.split())  # ['www.baidu.com.cn']\n",
    "\n",
    "# 以\".\"为分隔符\n",
    "print((u.split('.')))  # ['www', 'baidu', 'com', 'cn']\n",
    "\n",
    "# 分割0次\n",
    "print((u.split(\".\", 0)))  # ['www.baidu.com.cn']\n",
    "\n",
    "# 分割一次\n",
    "print((u.split(\".\", 1)))  # ['www', 'baidu.com.cn']\n",
    "\n",
    "# 分割两次\n",
    "print(u.split(\".\", 2))  # ['www', 'baidu', 'com.cn']\n",
    "\n",
    "# 分割两次，并取序列为1的项\n",
    "print((u.split(\".\", 2)[1]))  # baidu\n",
    "\n",
    "# 分割两次，并把分割后的三个部分保存到三个变量\n",
    "u1, u2, u3 = u.split(\".\", 2)\n",
    "print(u1)  # www\n",
    "print(u2)  # baidu\n",
    "print(u3)  # com.cn"
   ]
  },
  {
   "cell_type": "code",
   "execution_count": 18,
   "metadata": {},
   "outputs": [
    {
     "name": "stdout",
     "output_type": "stream",
     "text": [
      "www.baidu.com\n",
      "['www', 'baidu', 'com']\n"
     ]
    }
   ],
   "source": [
    "string = \"hello boy<[www.baidu.com]>byebye\"\n",
    "print(string.split('[')[1].split(']')[0])  # www.baidu.com\n",
    "print(string.split('[')[1].split(']')[0].split('.'))  # ['www', 'baidu', 'com']"
   ]
  },
  {
   "cell_type": "code",
   "execution_count": 19,
   "metadata": {},
   "outputs": [
    {
     "name": "stdout",
     "output_type": "stream",
     "text": [
      "['I ', ' Love ', ' LsgoGroup']\n",
      "['I \\n', ' Love \\n', ' LsgoGroup']\n"
     ]
    }
   ],
   "source": [
    "str6 = 'I \\n Love \\n LsgoGroup'\n",
    "print(str6.splitlines())  # ['I ', ' Love ', ' LsgoGroup']\n",
    "print(str6.splitlines(True))  # ['I \\n', ' Love \\n', ' LsgoGroup']"
   ]
  },
  {
   "cell_type": "code",
   "execution_count": 20,
   "metadata": {},
   "outputs": [
    {
     "name": "stdout",
     "output_type": "stream",
     "text": [
      "{97: 49, 101: 50, 105: 51, 111: 52, 117: 53}\n",
      "th3s 3s str3ng 2x1mpl2....w4w!!!\n"
     ]
    }
   ],
   "source": [
    "str7 = 'this is string example....wow!!!'\n",
    "intab = 'aeiou'\n",
    "outtab = '12345'\n",
    "trantab = str7.maketrans(intab, outtab)\n",
    "print(trantab)  # {97: 49, 111: 52, 117: 53, 101: 50, 105: 51}\n",
    "print(str7.translate(trantab))  # th3s 3s str3ng 2x1mpl2....w4w!!"
   ]
  },
  {
   "cell_type": "code",
   "execution_count": 21,
   "metadata": {},
   "outputs": [
    {
     "name": "stdout",
     "output_type": "stream",
     "text": [
      "I Love Lsgogroup\n",
      "I Love Lsgogroup\n",
      "I Love Lsgogroup\n",
      "27.66GB\n"
     ]
    }
   ],
   "source": [
    "str8 = \"{0} Love {1}\".format('I', 'Lsgogroup')  # 位置参数\n",
    "print(str8)  # I Love Lsgogroup\n",
    "\n",
    "str8 = \"{a} Love {b}\".format(a='I', b='Lsgogroup')  # 关键字参数\n",
    "print(str8)  # I Love Lsgogroup\n",
    "\n",
    "str8 = \"{0} Love {b}\".format('I', b='Lsgogroup')  # 位置参数要在关键字参数之前\n",
    "print(str8)  # I Love Lsgogroup\n",
    "\n",
    "str8 = '{0:.2f}{1}'.format(27.658, 'GB')  # 保留小数点后两位\n",
    "print(str8)  # 27.66GB"
   ]
  },
  {
   "cell_type": "code",
   "execution_count": 22,
   "metadata": {},
   "outputs": [
    {
     "name": "stdout",
     "output_type": "stream",
     "text": [
      "  Most successful people are unorthodox persons whose minds wander outside traditional ways of thinking.\n",
      "  M*st successful pe*ple are un*rth*d*x pers*ns wh*se minds wander *utside traditi*nal ways *f thinking.\n",
      "['', '', 'Most', 'successful', 'people', 'are', 'unorthodox', 'persons', 'whose', 'minds', 'wander', 'outside', 'traditional', 'ways', 'of', 'thinking.']\n",
      "Most successful people are unorthodox persons whose minds wander outside traditional ways of thinking.\n"
     ]
    }
   ],
   "source": [
    "#练习题1.\n",
    "'''\n",
    "1、字符串函数回顾\n",
    "\n",
    "- 怎么批量替换字符串中的元素？\n",
    "- 怎么把字符串按照空格进⾏拆分？\n",
    "- 怎么去除字符串⾸位的空格？\n",
    "'''\n",
    "\n",
    "strr = '  Most successful people are unorthodox persons whose minds wander outside traditional ways of thinking.'\n",
    "#大多数成功的人都并非遵循传统之人，他们的思维方式都游离在传统的思维方式之外。\n",
    "new_strr = strr.replace('o','*')\n",
    "strr_split = strr.split(' ')\n",
    "strr_blank = strr.lstrip()\n",
    "print(strr)\n",
    "print(new_strr)\n",
    "print(strr_split)\n",
    "print(strr_blank)"
   ]
  },
  {
   "cell_type": "code",
   "execution_count": 33,
   "metadata": {},
   "outputs": [
    {
     "name": "stdout",
     "output_type": "stream",
     "text": [
      "True\n"
     ]
    }
   ],
   "source": [
    "#练习题2.\n",
    "'''\n",
    "实现函数isdigit， 判断字符串里是否只包含数字0~9\n",
    "\n",
    "def isdigit(string):\n",
    "    \"\"\"\n",
    "    判断字符串只包含数字\n",
    "    :param string:\n",
    "    :return:\n",
    "    \"\"\"\n",
    "    # your code here\n",
    "    pass\n",
    "    \n",
    "'''\n",
    "def isdigit(string):\n",
    "    num = ['0','1','2','3','4','5','6','7','8','9']\n",
    "    for i in string:\n",
    "        if i in num:\n",
    "            pass\n",
    "        else:\n",
    "            return False\n",
    "    return True\n",
    "\n",
    "string1 = '79'\n",
    "result_bool = isdigit(string1)\n",
    "print(result_bool)"
   ]
  },
  {
   "cell_type": "code",
   "execution_count": 30,
   "metadata": {},
   "outputs": [
    {
     "name": "stdout",
     "output_type": "stream",
     "text": [
      "<class 'str'>\n",
      "<class 'str'>\n",
      "<class 'str'>\n",
      "<class 'str'>\n",
      "<class 'str'>\n"
     ]
    }
   ],
   "source": [
    "for i in '77':\n",
    "    print(type(i))\n",
    "for i in ['1','23','5']:\n",
    "    print(type(i))\n"
   ]
  },
  {
   "cell_type": "code",
   "execution_count": 41,
   "metadata": {},
   "outputs": [
    {
     "data": {
      "text/plain": [
       "'bb'"
      ]
     },
     "execution_count": 41,
     "metadata": {},
     "output_type": "execute_result"
    }
   ],
   "source": [
    "#练习题3.\n",
    "'''\n",
    "3、leetcode 5题 最长回文子串\n",
    "\n",
    "给定一个字符串 `s`，找到 `s` 中最长的回文子串。你可以假设 `s` 的最大长度为 1000。\n",
    "\n",
    "示例:\n",
    "\n",
    "输入: \"babad\"\n",
    "\n",
    "输出: \"bab\"\n",
    "\n",
    "输入: \"cbbd\"\n",
    "\n",
    "输出: \"bb\"\n",
    "'''\n",
    "#暴力解法\n",
    "\n",
    "def longestPalindrome(string):\n",
    "    length = len(string)\n",
    "    if length < 2:\n",
    "        return string\n",
    "    \n",
    "    maxLen = 1\n",
    "    begin = 0\n",
    "    \n",
    "    for i in range(length - 1):\n",
    "        for j in range(i + 1,length):\n",
    "            if j - i + 1 > maxLen and validPalindrome(string,i,j):\n",
    "                maxLen = j - i + 1\n",
    "                begin = i\n",
    "    return string[begin:maxLen + 1]\n",
    "\n",
    "def validPalindrome(subString,left,right):\n",
    "    while left < right:\n",
    "        if subString[left] != subString[right]:\n",
    "            return False\n",
    "        left += 1\n",
    "        right -= 1\n",
    "        \n",
    "        return True\n",
    "\n",
    "testString = 'cbbd'\n",
    "longestPalindrome(testString)\n"
   ]
  },
  {
   "cell_type": "code",
   "execution_count": null,
   "metadata": {},
   "outputs": [],
   "source": []
  },
  {
   "cell_type": "code",
   "execution_count": null,
   "metadata": {},
   "outputs": [],
   "source": []
  }
 ],
 "metadata": {
  "kernelspec": {
   "display_name": "Python 3",
   "language": "python",
   "name": "python3"
  },
  "language_info": {
   "codemirror_mode": {
    "name": "ipython",
    "version": 3
   },
   "file_extension": ".py",
   "mimetype": "text/x-python",
   "name": "python",
   "nbconvert_exporter": "python",
   "pygments_lexer": "ipython3",
   "version": "3.7.6"
  },
  "varInspector": {
   "cols": {
    "lenName": 16,
    "lenType": 16,
    "lenVar": 40
   },
   "kernels_config": {
    "python": {
     "delete_cmd_postfix": "",
     "delete_cmd_prefix": "del ",
     "library": "var_list.py",
     "varRefreshCmd": "print(var_dic_list())"
    },
    "r": {
     "delete_cmd_postfix": ") ",
     "delete_cmd_prefix": "rm(",
     "library": "var_list.r",
     "varRefreshCmd": "cat(var_dic_list()) "
    }
   },
   "types_to_exclude": [
    "module",
    "function",
    "builtin_function_or_method",
    "instance",
    "_Feature"
   ],
   "window_display": false
  }
 },
 "nbformat": 4,
 "nbformat_minor": 4
}
