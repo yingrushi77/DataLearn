{
 "cells": [
  {
   "cell_type": "code",
   "execution_count": 1,
   "metadata": {},
   "outputs": [
    {
     "name": "stdout",
     "output_type": "stream",
     "text": [
      "8 <class 'int'>\n",
      "(9,) <class 'tuple'>\n"
     ]
    }
   ],
   "source": [
    "x = (8)\n",
    "y = (9,)\n",
    "print(x,type(x))\n",
    "print(y,type(y))"
   ]
  },
  {
   "cell_type": "code",
   "execution_count": 2,
   "metadata": {},
   "outputs": [
    {
     "name": "stdout",
     "output_type": "stream",
     "text": [
      "64\n",
      "(9, 9, 9, 9, 9, 9, 9, 9, 9)\n"
     ]
    }
   ],
   "source": [
    "m = 8 * x\n",
    "n = 9 * y\n",
    "print(m)\n",
    "print(n)"
   ]
  },
  {
   "cell_type": "code",
   "execution_count": 3,
   "metadata": {},
   "outputs": [
    {
     "name": "stdout",
     "output_type": "stream",
     "text": [
      "((1, 10.31, 'python'), ('data', 11))\n",
      "(1, 10.31, 'python')\n",
      "1 10.31 python\n",
      "(1, 10.31)\n"
     ]
    }
   ],
   "source": [
    "x = (1, 10.31, 'python'), ('data', 11)\n",
    "print(x)\n",
    "# ((1, 10.31, 'python'), ('data', 11))\n",
    "\n",
    "print(x[0])\n",
    "# (1, 10.31, 'python')\n",
    "print(x[0][0], x[0][1], x[0][2])\n",
    "# 1 10.31 python\n",
    "\n",
    "print(x[0][0:2])\n",
    "# (1, 10.31)"
   ]
  },
  {
   "cell_type": "code",
   "execution_count": 4,
   "metadata": {},
   "outputs": [
    {
     "name": "stdout",
     "output_type": "stream",
     "text": [
      "('霹雳火', '急先锋', '力霸天', '霹雳火') <class 'tuple'>\n",
      "2\n",
      "1\n"
     ]
    }
   ],
   "source": [
    "#具有不可更改性\n",
    "name = ('霹雳火','急先锋','力霸天','霹雳火')\n",
    "print(name,type(name))\n",
    "\n",
    "print(name.count('霹雳火'))\n",
    "print(name.index('急先锋'))"
   ]
  },
  {
   "cell_type": "code",
   "execution_count": 6,
   "metadata": {},
   "outputs": [
    {
     "name": "stdout",
     "output_type": "stream",
     "text": [
      "霹雳火 急先锋 力霸天\n"
     ]
    }
   ],
   "source": [
    "#解压元组\n",
    "(name1,name2,name3,*_) = name\n",
    "print(name1,name2,name3)"
   ]
  },
  {
   "cell_type": "code",
   "execution_count": 8,
   "metadata": {},
   "outputs": [
    {
     "name": "stdout",
     "output_type": "stream",
     "text": [
      "(1, 2, 1, 2) (1, 1) 2\n"
     ]
    }
   ],
   "source": [
    "#练习1.\n",
    "a = (1, 2)*2\n",
    "b = (1, )*2\n",
    "c = (1)*2\n",
    "\n",
    "print(a,b,c)"
   ]
  },
  {
   "cell_type": "code",
   "execution_count": 9,
   "metadata": {},
   "outputs": [
    {
     "name": "stdout",
     "output_type": "stream",
     "text": [
      "1 2\n"
     ]
    }
   ],
   "source": [
    "#练习2.\n",
    "a,b = 1,2\n",
    "print(a,b)\n",
    "#这个过程属于拆包，右边是元组"
   ]
  },
  {
   "cell_type": "code",
   "execution_count": 10,
   "metadata": {},
   "outputs": [
    {
     "data": {
      "text/plain": [
       "(2, 4)"
      ]
     },
     "execution_count": 10,
     "metadata": {},
     "output_type": "execute_result"
    }
   ],
   "source": [
    "divmod(20, 8)"
   ]
  },
  {
   "cell_type": "code",
   "execution_count": 12,
   "metadata": {},
   "outputs": [
    {
     "data": {
      "text/plain": [
       "(12, 3)"
      ]
     },
     "execution_count": 12,
     "metadata": {},
     "output_type": "execute_result"
    }
   ],
   "source": [
    "d = (99,8)\n",
    "divmod(*d) "
   ]
  },
  {
   "cell_type": "code",
   "execution_count": null,
   "metadata": {},
   "outputs": [],
   "source": []
  }
 ],
 "metadata": {
  "kernelspec": {
   "display_name": "Python 3",
   "language": "python",
   "name": "python3"
  },
  "language_info": {
   "codemirror_mode": {
    "name": "ipython",
    "version": 3
   },
   "file_extension": ".py",
   "mimetype": "text/x-python",
   "name": "python",
   "nbconvert_exporter": "python",
   "pygments_lexer": "ipython3",
   "version": "3.7.6"
  },
  "varInspector": {
   "cols": {
    "lenName": 16,
    "lenType": 16,
    "lenVar": 40
   },
   "kernels_config": {
    "python": {
     "delete_cmd_postfix": "",
     "delete_cmd_prefix": "del ",
     "library": "var_list.py",
     "varRefreshCmd": "print(var_dic_list())"
    },
    "r": {
     "delete_cmd_postfix": ") ",
     "delete_cmd_prefix": "rm(",
     "library": "var_list.r",
     "varRefreshCmd": "cat(var_dic_list()) "
    }
   },
   "types_to_exclude": [
    "module",
    "function",
    "builtin_function_or_method",
    "instance",
    "_Feature"
   ],
   "window_display": false
  }
 },
 "nbformat": 4,
 "nbformat_minor": 4
}
