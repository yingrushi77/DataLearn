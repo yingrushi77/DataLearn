{
 "cells": [
  {
   "cell_type": "code",
   "execution_count": 1,
   "metadata": {},
   "outputs": [],
   "source": [
    "# import datetime\n",
    "import datetime"
   ]
  },
  {
   "cell_type": "code",
   "execution_count": 2,
   "metadata": {},
   "outputs": [
    {
     "name": "stdout",
     "output_type": "stream",
     "text": [
      "2020-11-20 19:45:16.040745\n"
     ]
    }
   ],
   "source": [
    "# 获取当前时间\n",
    "time_now = datetime.datetime.now()\n",
    "print(time_now)"
   ]
  },
  {
   "cell_type": "code",
   "execution_count": 3,
   "metadata": {},
   "outputs": [
    {
     "data": {
      "text/plain": [
       "1605872716.040745"
      ]
     },
     "execution_count": 3,
     "metadata": {},
     "output_type": "execute_result"
    }
   ],
   "source": [
    "time_now.timestamp()"
   ]
  },
  {
   "cell_type": "code",
   "execution_count": 4,
   "metadata": {},
   "outputs": [
    {
     "data": {
      "text/plain": [
       "datetime.datetime(2020, 11, 20, 19, 45, 16, 40745)"
      ]
     },
     "execution_count": 4,
     "metadata": {},
     "output_type": "execute_result"
    }
   ],
   "source": [
    "time_now.fromtimestamp(1605872716.040745)"
   ]
  },
  {
   "cell_type": "code",
   "execution_count": 9,
   "metadata": {},
   "outputs": [
    {
     "name": "stdout",
     "output_type": "stream",
     "text": [
      "2020-11-20 19:50:50\n",
      "2020/11/20 19:50:50\n",
      "Fri Nov\n",
      "20 November,2020,Friday\n"
     ]
    }
   ],
   "source": [
    "date_time = datetime.datetime(year = 2020,month = 11,day = 20,hour = 19,minute = 50,second = 50)\n",
    "print(date_time)\n",
    "format_dt = date_time.strftime(\"%Y/%m/%d %H:%M:%S\")\n",
    "print(format_dt)\n",
    "dt = date_time.strftime(\"%a %b\")\n",
    "print(dt)\n",
    "ddt = date_time.strftime(\"%d %B,%Y,%A\")\n",
    "print(ddt)"
   ]
  },
  {
   "cell_type": "code",
   "execution_count": 11,
   "metadata": {},
   "outputs": [
    {
     "name": "stdout",
     "output_type": "stream",
     "text": [
      "Sep-28,2010\n"
     ]
    }
   ],
   "source": [
    "# 练习 如何将给定日期转换为 \"mmm-dd, YYYY\" 的格式？\n",
    "'''\n",
    "# 输入\n",
    "d1 = datetime.date('2010-09-28')\n",
    "\n",
    "# 输出\n",
    "'Sep-28,2010'\n",
    "'''\n",
    "\n",
    "import datetime\n",
    "\n",
    "def dt_format(dt):\n",
    "    \"格式转化\"\n",
    "    dt_fmt = dt.strftime(\"%b-%d,%Y\")\n",
    "    print(dt_fmt)\n",
    "    \n",
    "def main():\n",
    "    d1 = datetime.date(year = 2010,month = 9,day = 28)\n",
    "    dt_format(d1)\n",
    "    \n",
    "if __name__ == \"__main__\":\n",
    "    main()"
   ]
  },
  {
   "cell_type": "code",
   "execution_count": 15,
   "metadata": {},
   "outputs": [
    {
     "data": {
      "text/plain": [
       "2020"
      ]
     },
     "execution_count": 15,
     "metadata": {},
     "output_type": "execute_result"
    }
   ],
   "source": [
    "time_now.year"
   ]
  },
  {
   "cell_type": "code",
   "execution_count": 16,
   "metadata": {},
   "outputs": [
    {
     "data": {
      "text/plain": [
       "5"
      ]
     },
     "execution_count": 16,
     "metadata": {},
     "output_type": "execute_result"
    }
   ],
   "source": [
    "time_now.isoweekday()"
   ]
  },
  {
   "cell_type": "code",
   "execution_count": 17,
   "metadata": {},
   "outputs": [
    {
     "name": "stdout",
     "output_type": "stream",
     "text": [
      "2020-06-25 00:00:00\n",
      "<class 'datetime.datetime'>\n",
      "2010-03-31 22:51:00\n",
      "<class 'datetime.datetime'>\n"
     ]
    }
   ],
   "source": [
    "from dateutil import parser\n",
    "\n",
    "s = '2020-06-25'\n",
    "dt = parser.parse(s)\n",
    "print(dt)  # 2020-06-25 00:00:00\n",
    "print(type(dt))  # <class 'datetime.datetime'>\n",
    "\n",
    "s = 'March 31, 2010, 10:51pm'\n",
    "dt = parser.parse(s)\n",
    "print(dt)  # 2010-03-31 22:51:00\n",
    "print(type(dt))  # <class 'datetime.datetime'>"
   ]
  },
  {
   "cell_type": "code",
   "execution_count": 18,
   "metadata": {},
   "outputs": [
    {
     "name": "stdout",
     "output_type": "stream",
     "text": [
      "2010-01-01 00:00:00\n",
      "2000-01-31 00:00:00\n",
      "2020-10-10 22:40:00\n"
     ]
    }
   ],
   "source": [
    "#练习\n",
    "'''\n",
    "# 输入\n",
    "s1 = \"2010 Jan 1\"\n",
    "s2 = '31-1-2000'\n",
    "s3 = 'October10, 1996, 10:40pm'\n",
    "\n",
    "# 输出\n",
    "2010-01-01 00:00:00\n",
    "2000-01-31 00:00:00\n",
    "2019-10-10 22:40:00\n",
    "'''\n",
    "\n",
    "from dateutil import parser\n",
    "\n",
    "def main():\n",
    "    s1 = \"2010 Jan 1\"\n",
    "    s2 = \"31-1-2000\"\n",
    "    s3 = \"October10,1996,10:40pm\"\n",
    "    print(parser.parse(s1))\n",
    "    print(parser.parse(s2))\n",
    "    print(parser.parse(s3))\n",
    "    \n",
    "if __name__ == \"__main__\":\n",
    "    main()\n",
    "    "
   ]
  },
  {
   "cell_type": "code",
   "execution_count": 24,
   "metadata": {},
   "outputs": [
    {
     "name": "stdout",
     "output_type": "stream",
     "text": [
      "[datetime.datetime(1869, 10, 2, 0, 0), datetime.datetime(1869, 10, 10, 0, 0), datetime.datetime(1869, 10, 15, 0, 0), datetime.datetime(1869, 10, 20, 0, 0), datetime.datetime(1869, 10, 23, 0, 0)]\n",
      "1869-10-02 00:00:00\n",
      "1869-10-10 00:00:00\n",
      "1869-10-15 00:00:00\n",
      "1869-10-20 00:00:00\n",
      "1869-10-23 00:00:00\n",
      "8 days, 0:00:00\n",
      "<class 'datetime.timedelta'>\n",
      "5 days, 0:00:00\n",
      "<class 'datetime.timedelta'>\n",
      "5 days, 0:00:00\n",
      "<class 'datetime.timedelta'>\n",
      "3 days, 0:00:00\n",
      "<class 'datetime.timedelta'>\n",
      "[8, 5, 5, 3]\n"
     ]
    }
   ],
   "source": [
    "# 练习\n",
    "'''\n",
    "# 输入\n",
    "['Oct, 2, 1869', 'Oct, 10, 1869', 'Oct, 15, 1869', 'Oct, 20, 1869','Oct, 23, 1869']\n",
    "\n",
    "# 输出\n",
    "[8, 5, 5, 3]\n",
    "'''\n",
    "import numpy as np\n",
    "from dateutil import parser\n",
    "dateString = ['Oct, 2, 1869', 'Oct, 10, 1869', 'Oct, 15, 1869', 'Oct, 20, 1869', 'Oct, 23, 1869']\n",
    "\n",
    "dates = [parser.parse(i) for i in dateString]\n",
    "print(dates)\n",
    "for i in dates:\n",
    "    print(i)\n",
    "    \n",
    "td = np.diff(dates)\n",
    "for i in td:\n",
    "    print(i)\n",
    "    print(type(i))\n",
    "    \n",
    "d = [item.days for item in td]\n",
    "print(d)"
   ]
  },
  {
   "cell_type": "code",
   "execution_count": 26,
   "metadata": {},
   "outputs": [
    {
     "data": {
      "text/plain": [
       "datetime.date(2020, 11, 20)"
      ]
     },
     "execution_count": 26,
     "metadata": {},
     "output_type": "execute_result"
    }
   ],
   "source": [
    "# date类\n",
    "datetime.date.today()"
   ]
  },
  {
   "cell_type": "code",
   "execution_count": 11,
   "metadata": {},
   "outputs": [
    {
     "name": "stdout",
     "output_type": "stream",
     "text": [
      "40\n"
     ]
    }
   ],
   "source": [
    "# 练习题\n",
    "'''\n",
    "如何统计两个日期之间有多少个星期六？\n",
    "\n",
    "# 输入\n",
    "d1 = datetime.date(1869, 1, 2)\n",
    "d2 = datetime.date(1869, 10, 2)\n",
    "\n",
    "# 输出\n",
    "40\n",
    "'''\n",
    "\n",
    "import datetime\n",
    "import numpy as np\n",
    "\n",
    "def count_weekday(start_date,end_date,weekday):\n",
    "    \"weekday 用数字表示\"\n",
    "    dt = (end_date - start_date).days  #计算两个日期的间隔\n",
    "    di = (weekday + 7 - start_date.isoweekday()) % 7 #计算下一个要查找的星期还要几天\n",
    "    result = (dt - di) // 7 + 1 #  计算总数\n",
    "    return result\n",
    "\n",
    "def main():\n",
    "    sd = datetime.date(1869,1,2)\n",
    "    ed = datetime.date(1869,10,2)\n",
    "    result = count_weekday(sd,ed,6)\n",
    "    print(result)\n",
    "    \n",
    "if __name__ == \"__main__\":\n",
    "    main()"
   ]
  },
  {
   "cell_type": "code",
   "execution_count": 28,
   "metadata": {},
   "outputs": [
    {
     "name": "stdout",
     "output_type": "stream",
     "text": [
      "273\n",
      "6\n",
      "40\n"
     ]
    }
   ],
   "source": [
    "import datetime\n",
    "\n",
    "d1 = datetime.date(1869, 1, 2)\n",
    "d2 = datetime.date(1869, 10, 2)\n",
    "dt = (d2 - d1).days\n",
    "print(dt)\n",
    "print(d1.isoweekday())  # 6\n",
    "print(dt // 7 + 1)  # 40"
   ]
  },
  {
   "cell_type": "code",
   "execution_count": 12,
   "metadata": {},
   "outputs": [
    {
     "name": "stdout",
     "output_type": "stream",
     "text": [
      "2019-10-02 00:00:00\n",
      "2019-10-02 00:00:00\n"
     ]
    }
   ],
   "source": [
    "import datetime\n",
    "\n",
    "date = datetime.date(2019, 10, 2)\n",
    "dt = datetime.datetime(date.year, date.month, date.day)\n",
    "print(dt)  # 2019-10-02 00:00:00\n",
    "\n",
    "dt = datetime.datetime.combine(date, datetime.time.min)\n",
    "print(dt)  # 2019-10-02 00:00:00"
   ]
  },
  {
   "cell_type": "code",
   "execution_count": 13,
   "metadata": {},
   "outputs": [
    {
     "name": "stdout",
     "output_type": "stream",
     "text": [
      "30 days, 0:00:00\n",
      "<class 'datetime.timedelta'>\n",
      "2020-11-21\n",
      "2020-12-21\n",
      "365 days, 0:00:00\n",
      "<class 'datetime.timedelta'>\n",
      "23 days, 0:00:00\n",
      "<class 'datetime.timedelta'>\n"
     ]
    }
   ],
   "source": [
    "import datetime\n",
    "\n",
    "td = datetime.timedelta(days=30)\n",
    "print(td)  # 30 days, 0:00:00\n",
    "print(type(td))  # <class 'datetime.timedelta'>\n",
    "print(datetime.date.today())  # 2020-07-01\n",
    "print(datetime.date.today() + td)  # 2020-07-31\n",
    "\n",
    "dt1 = datetime.datetime(2020, 1, 31, 10, 10, 0)\n",
    "dt2 = datetime.datetime(2019, 1, 31, 10, 10, 0)\n",
    "td = dt1 - dt2\n",
    "print(td)  # 365 days, 0:00:00\n",
    "print(type(td))  # <class 'datetime.timedelta'>\n",
    "\n",
    "td1 = datetime.timedelta(days=30)  # 30 days\n",
    "td2 = datetime.timedelta(weeks=1)  # 1 week\n",
    "td = td1 - td2\n",
    "print(td)  # 23 days, 0:00:00\n",
    "print(type(td))  # <class 'datetime.timedelta'>"
   ]
  },
  {
   "cell_type": "code",
   "execution_count": 15,
   "metadata": {},
   "outputs": [
    {
     "name": "stdout",
     "output_type": "stream",
     "text": [
      "18678\n",
      "302\n",
      "26092800.0\n"
     ]
    }
   ],
   "source": [
    "# 练习\n",
    "'''\n",
    "1. 距离你出生那天过去多少天了？\n",
    "2. 距离你今年的下一个生日还有多少天？\n",
    "3. 将距离你今年的下一个生日的天数转换为秒数。\n",
    "\n",
    "'''\n",
    "\n",
    "import datetime\n",
    "from dateutil import parser\n",
    "def live_days(birthday):\n",
    "    today = datetime.date.today()\n",
    "    result = (today - birthday).days\n",
    "    return result\n",
    "\n",
    "def birth_next(birthday):\n",
    "    result = (birthday + datetime.timedelta(365) - datetime.date.today()).days % 365\n",
    "    return result\n",
    "\n",
    "def birth_next_seconds(days):\n",
    "    result = datetime.timedelta(days).total_seconds()\n",
    "    return result \n",
    "\n",
    "def main():\n",
    "    bday = 'Oct 2,1969'\n",
    "    birth = parser.parse(bday)\n",
    "    birthday = datetime.date(birth.year,birth.month,birth.day)\n",
    "    first_problem = live_days(birthday)\n",
    "    second_problem = birth_next(birthday)\n",
    "    thired_problem = birth_next_seconds(second_problem)\n",
    "    \n",
    "    print(\"{0}\\n{1}\\n{2}\".format(first_problem,second_problem,thired_problem))\n",
    "    \n",
    "if __name__ == \"__main__\":\n",
    "    main()"
   ]
  },
  {
   "cell_type": "code",
   "execution_count": 20,
   "metadata": {},
   "outputs": [
    {
     "name": "stdout",
     "output_type": "stream",
     "text": [
      "1590973830.0\n",
      "<class 'datetime.datetime'>\n"
     ]
    }
   ],
   "source": [
    "tz_str = \"2020-6-1 08:10:30+7:00\"\n",
    "print(parser.parse(tz_str).timestamp())\n",
    "print(type(parser.parse(tz_str)))"
   ]
  },
  {
   "cell_type": "code",
   "execution_count": 22,
   "metadata": {},
   "outputs": [
    {
     "name": "stdout",
     "output_type": "stream",
     "text": [
      "1590973830.0\n"
     ]
    }
   ],
   "source": [
    "# 练习题\n",
    "'''\n",
    "1、假设你获取了用户输入的日期和时间如`2020-1-21 9:01:30`，以及一个时区信息如`UTC+5:00`，均是`str`，请编写一个函数将其转换为timestamp：\n",
    "'''\n",
    "\n",
    "\"\"\"\n",
    "   \n",
    "Input file\n",
    "example1: dt_str='2020-6-1 08:10:30', tz_str='UTC+7:00'\n",
    "example2: dt_str='2020-5-31 16:10:30', tz_str='UTC-09:00'\n",
    "   \n",
    "Output file\n",
    "result1: 1590973830.0\n",
    "result2: 1590973830.0\n",
    "\"\"\"\n",
    "   \n",
    "'''    \n",
    "def to_timestamp(dt_str, tz_str):\n",
    "    # your code here\n",
    "    pass\n",
    "    \n",
    "'''\n",
    "import datetime\n",
    "from dateutil import parser\n",
    "\n",
    "def to_timestamp(dt_str,tz_str):\n",
    "    date_str_combine = dt_str + tz_str[3:]  #拼接字符串，便于使用parser.parse转换\n",
    "    result = parser.parse(date_str_combine).timestamp()\n",
    "    return result \n",
    "\n",
    "def main():\n",
    "    dt_str = '2020-5-31 16:10:30'\n",
    "    tz_str = 'UTC-09:00'\n",
    "    print(to_timestamp(dt_str,tz_str))\n",
    "    \n",
    "if __name__ == \"__main__\":\n",
    "    main()"
   ]
  },
  {
   "cell_type": "code",
   "execution_count": 29,
   "metadata": {},
   "outputs": [
    {
     "name": "stdout",
     "output_type": "stream",
     "text": [
      "2020-01-05\n",
      "2020-01-12\n",
      "2020-01-19\n",
      "2020-01-26\n",
      "2020-02-02\n",
      "2020-02-09\n",
      "2020-02-16\n",
      "2020-02-23\n",
      "2020-03-01\n",
      "2020-03-08\n",
      "2020-03-15\n",
      "2020-03-22\n",
      "2020-03-29\n",
      "2020-04-05\n",
      "2020-04-12\n",
      "2020-04-19\n",
      "2020-04-26\n",
      "2020-05-03\n",
      "2020-05-10\n",
      "2020-05-17\n",
      "2020-05-24\n",
      "2020-05-31\n",
      "2020-06-07\n",
      "2020-06-14\n",
      "2020-06-21\n",
      "2020-06-28\n",
      "2020-07-05\n",
      "2020-07-12\n",
      "2020-07-19\n",
      "2020-07-26\n",
      "2020-08-02\n",
      "2020-08-09\n",
      "2020-08-16\n",
      "2020-08-23\n",
      "2020-08-30\n",
      "2020-09-06\n",
      "2020-09-13\n",
      "2020-09-20\n",
      "2020-09-27\n",
      "2020-10-04\n",
      "2020-10-11\n",
      "2020-10-18\n",
      "2020-10-25\n",
      "2020-11-01\n",
      "2020-11-08\n",
      "2020-11-15\n",
      "2020-11-22\n",
      "2020-11-29\n",
      "2020-12-06\n",
      "2020-12-13\n",
      "2020-12-20\n",
      "2020-12-27\n"
     ]
    }
   ],
   "source": [
    "# 2.编写Python程序以选择指定年份的所有星期日。\n",
    "\n",
    "import datetime\n",
    "\n",
    "#判断闰年\n",
    "def judge_leapyear(year):\n",
    "    if year % 400 == 0 or (year % 4 == 0 and year % 100 != 0):\n",
    "        value = True\n",
    "    else:\n",
    "        value = False\n",
    "        \n",
    "    return value\n",
    "\n",
    "def all_sundays(year):\n",
    "    if judge_leapyear(year) :\n",
    "        days = 366\n",
    "    else:\n",
    "        days = 365   \n",
    "    first_day = datetime.date(year,1,1) #获取该年第一天的date\n",
    "    weekday = first_day.isoweekday()# 第一天是星期某\n",
    "    next_sunday = 7 - weekday #再过几天是Sunday\n",
    "    date_until = datetime.timedelta(next_sunday)# 再过几天的时间段\n",
    "    count_sunday = (days - next_sunday) // 7 + 1 #该年的Sunday数目\n",
    "    first_print = first_day + date_until\n",
    "    for i in range(count_sunday):\n",
    "        print(first_print + datetime.timedelta(i * 7))\n",
    "        \n",
    "def main():\n",
    "    year = 2020\n",
    "    all_sundays(year)\n",
    "    \n",
    "if __name__ == \"__main__\":\n",
    "    main()\n"
   ]
  },
  {
   "cell_type": "code",
   "execution_count": 26,
   "metadata": {},
   "outputs": [
    {
     "data": {
      "text/plain": [
       "3"
      ]
     },
     "execution_count": 26,
     "metadata": {},
     "output_type": "execute_result"
    }
   ],
   "source": [
    "datetime.date(2020,1,1).isoweekday()"
   ]
  },
  {
   "cell_type": "code",
   "execution_count": 27,
   "metadata": {},
   "outputs": [
    {
     "name": "stdout",
     "output_type": "stream",
     "text": [
      "True\n"
     ]
    }
   ],
   "source": [
    "# 判断闰年\n",
    "\n",
    "def judge_leapyear(year):\n",
    "    if year % 400 == 0 or (year % 4 == 0 and year % 100 != 0):\n",
    "        value = True\n",
    "    else:\n",
    "        value = False\n",
    "        \n",
    "    return value\n",
    "\n",
    "print(judge_leapyear(2020))\n",
    "    "
   ]
  },
  {
   "cell_type": "code",
   "execution_count": null,
   "metadata": {},
   "outputs": [],
   "source": []
  }
 ],
 "metadata": {
  "kernelspec": {
   "display_name": "Python 3",
   "language": "python",
   "name": "python3"
  },
  "language_info": {
   "codemirror_mode": {
    "name": "ipython",
    "version": 3
   },
   "file_extension": ".py",
   "mimetype": "text/x-python",
   "name": "python",
   "nbconvert_exporter": "python",
   "pygments_lexer": "ipython3",
   "version": "3.7.6"
  },
  "varInspector": {
   "cols": {
    "lenName": 16,
    "lenType": 16,
    "lenVar": 40
   },
   "kernels_config": {
    "python": {
     "delete_cmd_postfix": "",
     "delete_cmd_prefix": "del ",
     "library": "var_list.py",
     "varRefreshCmd": "print(var_dic_list())"
    },
    "r": {
     "delete_cmd_postfix": ") ",
     "delete_cmd_prefix": "rm(",
     "library": "var_list.r",
     "varRefreshCmd": "cat(var_dic_list()) "
    }
   },
   "types_to_exclude": [
    "module",
    "function",
    "builtin_function_or_method",
    "instance",
    "_Feature"
   ],
   "window_display": false
  }
 },
 "nbformat": 4,
 "nbformat_minor": 4
}
